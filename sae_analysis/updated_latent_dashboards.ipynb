{
 "cells": [
  {
   "cell_type": "code",
   "execution_count": 1,
   "metadata": {},
   "outputs": [
    {
     "name": "stderr",
     "output_type": "stream",
     "text": [
      "/tmp/ipykernel_1933799/1865078928.py:28: FutureWarning: You are using `torch.load` with `weights_only=False` (the current default value), which uses the default pickle module implicitly. It is possible to construct malicious pickle data which will execute arbitrary code during unpickling (See https://github.com/pytorch/pytorch/blob/main/SECURITY.md#untrusted-models for more details). In a future release, the default value for `weights_only` will be flipped to `True`. This limits the functions that could be executed during unpickling. Arbitrary objects will no longer be allowed to be loaded via this mode unless they are explicitly allowlisted by the user via `torch.serialization.add_safe_globals`. We recommend you start setting `weights_only=True` for any use case where you don't have full control of the loaded file. Please open an issue on GitHub for any issues related to this experimental feature.\n",
      "  sae_weights = torch.load(sae_path)\n",
      "/tmp/ipykernel_1933799/1865078928.py:38: FutureWarning: You are using `torch.load` with `weights_only=False` (the current default value), which uses the default pickle module implicitly. It is possible to construct malicious pickle data which will execute arbitrary code during unpickling (See https://github.com/pytorch/pytorch/blob/main/SECURITY.md#untrusted-models for more details). In a future release, the default value for `weights_only` will be flipped to `True`. This limits the functions that could be executed during unpickling. Arbitrary objects will no longer be allowed to be loaded via this mode unless they are explicitly allowlisted by the user via `torch.serialization.add_safe_globals`. We recommend you start setting `weights_only=True` for any use case where you don't have full control of the loaded file. Please open an issue on GitHub for any issues related to this experimental feature.\n",
      "  state_dict = torch.load(ckpt_path, map_location=device)\n"
     ]
    },
    {
     "data": {
      "text/plain": [
       "DiffusionTransformerLowdimPolicy(\n",
       "  (model): TransformerForDiffusion(\n",
       "    (input_emb): Linear(in_features=2, out_features=256, bias=True)\n",
       "    (drop): Dropout(p=0.0, inplace=False)\n",
       "    (time_emb): SinusoidalPosEmb()\n",
       "    (cond_obs_emb): Linear(in_features=20, out_features=256, bias=True)\n",
       "    (encoder): Sequential(\n",
       "      (0): Linear(in_features=256, out_features=1024, bias=True)\n",
       "      (1): Mish()\n",
       "      (2): Linear(in_features=1024, out_features=256, bias=True)\n",
       "    )\n",
       "    (decoder): TransformerDecoder(\n",
       "      (layers): ModuleList(\n",
       "        (0-7): 8 x TransformerDecoderLayer(\n",
       "          (self_attn): MultiheadAttention(\n",
       "            (out_proj): NonDynamicallyQuantizableLinear(in_features=256, out_features=256, bias=True)\n",
       "          )\n",
       "          (multihead_attn): MultiheadAttention(\n",
       "            (out_proj): NonDynamicallyQuantizableLinear(in_features=256, out_features=256, bias=True)\n",
       "          )\n",
       "          (linear1): Linear(in_features=256, out_features=1024, bias=True)\n",
       "          (dropout): Dropout(p=0.3, inplace=False)\n",
       "          (linear2): Linear(in_features=1024, out_features=256, bias=True)\n",
       "          (norm1): LayerNorm((256,), eps=1e-05, elementwise_affine=True)\n",
       "          (norm2): LayerNorm((256,), eps=1e-05, elementwise_affine=True)\n",
       "          (norm3): LayerNorm((256,), eps=1e-05, elementwise_affine=True)\n",
       "          (dropout1): Dropout(p=0.3, inplace=False)\n",
       "          (dropout2): Dropout(p=0.3, inplace=False)\n",
       "          (dropout3): Dropout(p=0.3, inplace=False)\n",
       "        )\n",
       "      )\n",
       "    )\n",
       "    (ln_f): LayerNorm((256,), eps=1e-05, elementwise_affine=True)\n",
       "    (head): Linear(in_features=256, out_features=2, bias=True)\n",
       "  )\n",
       "  (mask_generator): LowdimMaskGenerator()\n",
       "  (normalizer): LinearNormalizer(\n",
       "    (params_dict): ParameterDict(\n",
       "        (obs): Object of type: ParameterDict\n",
       "        (action): Object of type: ParameterDict\n",
       "      (obs): ParameterDict(\n",
       "          (offset): Parameter containing: [torch.cuda.FloatTensor of size 20 (cuda:0)]\n",
       "          (scale): Parameter containing: [torch.cuda.FloatTensor of size 20 (cuda:0)]\n",
       "          (input_stats): Object of type: ParameterDict\n",
       "        (input_stats): ParameterDict(\n",
       "            (max): Parameter containing: [torch.cuda.FloatTensor of size 20 (cuda:0)]\n",
       "            (mean): Parameter containing: [torch.cuda.FloatTensor of size 20 (cuda:0)]\n",
       "            (min): Parameter containing: [torch.cuda.FloatTensor of size 20 (cuda:0)]\n",
       "            (std): Parameter containing: [torch.cuda.FloatTensor of size 20 (cuda:0)]\n",
       "        )\n",
       "      )\n",
       "      (action): ParameterDict(\n",
       "          (offset): Parameter containing: [torch.cuda.FloatTensor of size 2 (cuda:0)]\n",
       "          (scale): Parameter containing: [torch.cuda.FloatTensor of size 2 (cuda:0)]\n",
       "          (input_stats): Object of type: ParameterDict\n",
       "        (input_stats): ParameterDict(\n",
       "            (max): Parameter containing: [torch.cuda.FloatTensor of size 2 (cuda:0)]\n",
       "            (mean): Parameter containing: [torch.cuda.FloatTensor of size 2 (cuda:0)]\n",
       "            (min): Parameter containing: [torch.cuda.FloatTensor of size 2 (cuda:0)]\n",
       "            (std): Parameter containing: [torch.cuda.FloatTensor of size 2 (cuda:0)]\n",
       "        )\n",
       "      )\n",
       "    )\n",
       "  )\n",
       ")"
      ]
     },
     "execution_count": 1,
     "metadata": {},
     "output_type": "execute_result"
    }
   ],
   "source": [
    "# %% model and sae loading\n",
    "import os\n",
    "os.chdir(\"../\")\n",
    "from sae.sae_model import SparseAutoencoder\n",
    "import torch \n",
    "import pandas as pd \n",
    "from tqdm.auto import tqdm\n",
    "from skvideo.io import vwrite\n",
    "from IPython.display import Video\n",
    "from diffusion_policy.policy.diffusion_transformer_lowdim_policy import DiffusionTransformerLowdimPolicy\n",
    "from diffusion_policy.model.diffusion.transformer_for_diffusion import TransformerForDiffusion\n",
    "from diffusers.schedulers.scheduling_ddpm import DDPMScheduler\n",
    "import torch\n",
    "from torch.utils.data import Dataset, DataLoader\n",
    "import numpy as np\n",
    "from tqdm import tqdm\n",
    "import collections\n",
    "import random\n",
    "from diffusion_policy.env.pusht.pusht_keypoints_env import PushTKeypointsEnv\n",
    "import matplotlib.pyplot as plt\n",
    "\n",
    "device = 'cuda' if torch.cuda.is_available() else 'cpu'\n",
    "\n",
    "seed1_acts = pd.read_csv(\"data/activations_summary.csv\")\n",
    "seed2_acts = pd.read_csv(\"data/activations_summary_2.csv\")\n",
    "\n",
    "sae_path = \"sae/results_layer4_dim2048_k64_auxk64_dead200/checkpoints/last.ckpt\"\n",
    "sae_weights = torch.load(sae_path)\n",
    "ckpt = {}\n",
    "for k in sae_weights['state_dict'].keys():\n",
    "    if k.startswith('sae_model.'):\n",
    "        ckpt[k.split(\".\")[1]] = sae_weights['state_dict'][k]\n",
    "sae = SparseAutoencoder(256, 2048, 64, 64, 32, 200)\n",
    "sae.load_state_dict(ckpt)\n",
    "sae.to(device)\n",
    "\n",
    "ckpt_path = \"/work/pi_hzhang2_umass_edu/jnainani_umass_edu/Interp4Robotics/diffusionInterp/data/experiments/low_dim/pusht/diffusion_policy_transformer/train_2/checkpoints/latest.ckpt\"\n",
    "state_dict = torch.load(ckpt_path, map_location=device)\n",
    "config = state_dict['cfg']\n",
    "model_config = config['policy']['model']\n",
    "model_config = {k: v for k, v in model_config.items() if not k.startswith('_target_')}\n",
    "model = TransformerForDiffusion(**model_config)\n",
    "noise_scheduler_config = config['policy']['noise_scheduler']\n",
    "noise_scheduler = DDPMScheduler(**noise_scheduler_config)\n",
    "policy_params = {\n",
    "    'model': model,\n",
    "    'noise_scheduler': noise_scheduler,\n",
    "    'horizon': config['policy']['horizon'],\n",
    "    'obs_dim': config['policy']['obs_dim'],\n",
    "    'action_dim': config['policy']['action_dim'],\n",
    "    'n_action_steps': config['policy']['n_action_steps'],\n",
    "    'n_obs_steps': config['policy']['n_obs_steps'],\n",
    "    'num_inference_steps': config['policy'].get('num_inference_steps', None),\n",
    "    'obs_as_cond': config['policy'].get('obs_as_cond', False),\n",
    "    'pred_action_steps_only': config['policy'].get('pred_action_steps_only', False),\n",
    "}\n",
    "policy = DiffusionTransformerLowdimPolicy(**policy_params)\n",
    "policy.load_state_dict(state_dict['state_dicts']['model'])\n",
    "policy.to(device)\n"
   ]
  },
  {
   "cell_type": "code",
   "execution_count": 2,
   "metadata": {},
   "outputs": [],
   "source": [
    "# %% helper functions\n",
    "\n",
    "\n",
    "def theta_tc(obs):\n",
    "    \"\"\"\n",
    "    Calculates the angle between the target block and the current block\n",
    "    \"\"\"\n",
    "    points_to_average = [\n",
    "    obs[8], obs[1] #, obs[2]\n",
    "    ]\n",
    "\n",
    "    # Convert to a NumPy array for easy computation\n",
    "    points_array = np.array(points_to_average)\n",
    "\n",
    "    # Compute the average\n",
    "    mid_pt = np.mean(points_array, axis=0)\n",
    "    # mid_pt = obs[3]\n",
    "    low_t = obs[4]\n",
    "    curr_block_theta = np.arctan2(-(mid_pt[1] - low_t[1]), mid_pt[0] - low_t[0])\n",
    "    theta_tc = curr_block_theta - np.pi / 4\n",
    "    return theta_tc, theta_tc * 180 / np.pi, curr_block_theta, curr_block_theta * 180 / np.pi\n",
    "\n",
    "def dist_tc(obs):\n",
    "    \"\"\"\n",
    "    Calculates the distance between the target block and the current block\n",
    "    \"\"\"\n",
    "    mid_pt_current = obs[3]\n",
    "    mid_pt_target = [48, 48]\n",
    "    dist = np.sqrt((mid_pt_current[0] - mid_pt_target[0])**2 + (mid_pt_current[1] - mid_pt_target[1])**2)\n",
    "    return dist\n",
    "\n",
    "def Ka(obs):\n",
    "    \"\"\"\n",
    "    Calculates the closest keypoint to agent \"\"\"\n",
    "    agent = obs[-1]\n",
    "    min_dist = np.inf\n",
    "    min_idx = -1\n",
    "    for idx, (x, y) in enumerate(obs):\n",
    "        if idx == 9:\n",
    "            continue\n",
    "        else:\n",
    "            dist = np.sqrt((x - agent[0])**2 + (y - agent[1])**2)\n",
    "            if dist < min_dist:\n",
    "                min_dist = dist\n",
    "                min_idx = idx\n",
    "    return min_idx\n",
    "\n",
    "def theta_action(action):\n",
    "    \"\"\"\n",
    "    Calculates the change in angle of the first and last action\n",
    "    \"\"\"\n",
    "    first_angle = np.arctan2(- action[0][1] + action[1][1], action[0][0] - action[1][0])\n",
    "    last_angle = np.arctan2(- action[-2][1] + action[-1][1], action[-2][0] - action[-1][0])\n",
    "    change = last_angle - first_angle\n",
    "    return first_angle, last_angle, change, change * 180 / np.pi\n",
    "\n",
    "def dist_action(action):\n",
    "    \"\"\"\n",
    "    Calculates the distance between the first and last action\n",
    "    \"\"\"\n",
    "    dist = np.sqrt((action[0][0] - action[-1][0])**2 + (action[0][1] - action[-1][1])**2)\n",
    "    return dist\n",
    "\n",
    "def dist_action_mid(action, obs):\n",
    "    \"\"\"\n",
    "    Calculates the average distance between actions and midpoint of target block\n",
    "    \"\"\"\n",
    "    mid_pt_target = obs[3]\n",
    "    dist = 0\n",
    "    for idx, (x, y) in enumerate(action):\n",
    "        dist += np.sqrt((x - mid_pt_target[0])**2 + (y - mid_pt_target[1])**2)\n",
    "    return dist / len(action)\n",
    "\n",
    "def dist_action_target(action):\n",
    "    \"\"\"\n",
    "    Calculates the average distance between actions and midpoint of target block\n",
    "    \"\"\"\n",
    "    dist = 0\n",
    "    for idx, (x, y) in enumerate(action):\n",
    "        dist += np.sqrt((x - 48)**2 + (y - 48)**2)\n",
    "    return dist / len(action)"
   ]
  },
  {
   "cell_type": "code",
   "execution_count": 3,
   "metadata": {},
   "outputs": [
    {
     "data": {
      "text/html": [
       "<div>\n",
       "<style scoped>\n",
       "    .dataframe tbody tr th:only-of-type {\n",
       "        vertical-align: middle;\n",
       "    }\n",
       "\n",
       "    .dataframe tbody tr th {\n",
       "        vertical-align: top;\n",
       "    }\n",
       "\n",
       "    .dataframe thead th {\n",
       "        text-align: right;\n",
       "    }\n",
       "</style>\n",
       "<table border=\"1\" class=\"dataframe\">\n",
       "  <thead>\n",
       "    <tr style=\"text-align: right;\">\n",
       "      <th></th>\n",
       "      <th>seed</th>\n",
       "      <th>step_idx</th>\n",
       "      <th>timestep</th>\n",
       "      <th>feature_36</th>\n",
       "      <th>feature_37</th>\n",
       "      <th>feature_43</th>\n",
       "      <th>feature_48</th>\n",
       "      <th>feature_60</th>\n",
       "      <th>feature_74</th>\n",
       "      <th>feature_81</th>\n",
       "      <th>...</th>\n",
       "      <th>feature_123</th>\n",
       "      <th>feature_998</th>\n",
       "      <th>feature_353</th>\n",
       "      <th>feature_813</th>\n",
       "      <th>feature_1536</th>\n",
       "      <th>feature_708</th>\n",
       "      <th>feature_2005</th>\n",
       "      <th>feature_1007</th>\n",
       "      <th>feature_815</th>\n",
       "      <th>feature_1687</th>\n",
       "    </tr>\n",
       "  </thead>\n",
       "  <tbody>\n",
       "    <tr>\n",
       "      <th>17096</th>\n",
       "      <td>27242</td>\n",
       "      <td>112</td>\n",
       "      <td>3.0</td>\n",
       "      <td>0.307702</td>\n",
       "      <td>NaN</td>\n",
       "      <td>NaN</td>\n",
       "      <td>NaN</td>\n",
       "      <td>0.074287</td>\n",
       "      <td>NaN</td>\n",
       "      <td>NaN</td>\n",
       "      <td>...</td>\n",
       "      <td>NaN</td>\n",
       "      <td>NaN</td>\n",
       "      <td>NaN</td>\n",
       "      <td>NaN</td>\n",
       "      <td>NaN</td>\n",
       "      <td>NaN</td>\n",
       "      <td>NaN</td>\n",
       "      <td>NaN</td>\n",
       "      <td>NaN</td>\n",
       "      <td>NaN</td>\n",
       "    </tr>\n",
       "    <tr>\n",
       "      <th>22898</th>\n",
       "      <td>30449</td>\n",
       "      <td>160</td>\n",
       "      <td>1.0</td>\n",
       "      <td>0.083910</td>\n",
       "      <td>NaN</td>\n",
       "      <td>NaN</td>\n",
       "      <td>NaN</td>\n",
       "      <td>NaN</td>\n",
       "      <td>NaN</td>\n",
       "      <td>NaN</td>\n",
       "      <td>...</td>\n",
       "      <td>NaN</td>\n",
       "      <td>NaN</td>\n",
       "      <td>NaN</td>\n",
       "      <td>NaN</td>\n",
       "      <td>NaN</td>\n",
       "      <td>NaN</td>\n",
       "      <td>NaN</td>\n",
       "      <td>NaN</td>\n",
       "      <td>NaN</td>\n",
       "      <td>NaN</td>\n",
       "    </tr>\n",
       "    <tr>\n",
       "      <th>22899</th>\n",
       "      <td>30449</td>\n",
       "      <td>160</td>\n",
       "      <td>0.0</td>\n",
       "      <td>NaN</td>\n",
       "      <td>NaN</td>\n",
       "      <td>NaN</td>\n",
       "      <td>NaN</td>\n",
       "      <td>NaN</td>\n",
       "      <td>NaN</td>\n",
       "      <td>NaN</td>\n",
       "      <td>...</td>\n",
       "      <td>NaN</td>\n",
       "      <td>NaN</td>\n",
       "      <td>NaN</td>\n",
       "      <td>NaN</td>\n",
       "      <td>NaN</td>\n",
       "      <td>NaN</td>\n",
       "      <td>NaN</td>\n",
       "      <td>NaN</td>\n",
       "      <td>NaN</td>\n",
       "      <td>NaN</td>\n",
       "    </tr>\n",
       "    <tr>\n",
       "      <th>17093</th>\n",
       "      <td>27242</td>\n",
       "      <td>112</td>\n",
       "      <td>6.0</td>\n",
       "      <td>0.125755</td>\n",
       "      <td>NaN</td>\n",
       "      <td>NaN</td>\n",
       "      <td>0.120889</td>\n",
       "      <td>0.173829</td>\n",
       "      <td>NaN</td>\n",
       "      <td>NaN</td>\n",
       "      <td>...</td>\n",
       "      <td>NaN</td>\n",
       "      <td>NaN</td>\n",
       "      <td>NaN</td>\n",
       "      <td>NaN</td>\n",
       "      <td>NaN</td>\n",
       "      <td>NaN</td>\n",
       "      <td>NaN</td>\n",
       "      <td>NaN</td>\n",
       "      <td>NaN</td>\n",
       "      <td>NaN</td>\n",
       "    </tr>\n",
       "    <tr>\n",
       "      <th>22894</th>\n",
       "      <td>30449</td>\n",
       "      <td>160</td>\n",
       "      <td>5.0</td>\n",
       "      <td>0.117652</td>\n",
       "      <td>0.08486</td>\n",
       "      <td>NaN</td>\n",
       "      <td>0.077789</td>\n",
       "      <td>0.081088</td>\n",
       "      <td>NaN</td>\n",
       "      <td>NaN</td>\n",
       "      <td>...</td>\n",
       "      <td>NaN</td>\n",
       "      <td>NaN</td>\n",
       "      <td>NaN</td>\n",
       "      <td>NaN</td>\n",
       "      <td>NaN</td>\n",
       "      <td>NaN</td>\n",
       "      <td>NaN</td>\n",
       "      <td>NaN</td>\n",
       "      <td>NaN</td>\n",
       "      <td>NaN</td>\n",
       "    </tr>\n",
       "  </tbody>\n",
       "</table>\n",
       "<p>5 rows × 930 columns</p>\n",
       "</div>"
      ],
      "text/plain": [
       "        seed  step_idx  timestep  feature_36  feature_37  feature_43  \\\n",
       "17096  27242       112       3.0    0.307702         NaN         NaN   \n",
       "22898  30449       160       1.0    0.083910         NaN         NaN   \n",
       "22899  30449       160       0.0         NaN         NaN         NaN   \n",
       "17093  27242       112       6.0    0.125755         NaN         NaN   \n",
       "22894  30449       160       5.0    0.117652     0.08486         NaN   \n",
       "\n",
       "       feature_48  feature_60  feature_74  feature_81  ...  feature_123  \\\n",
       "17096         NaN    0.074287         NaN         NaN  ...          NaN   \n",
       "22898         NaN         NaN         NaN         NaN  ...          NaN   \n",
       "22899         NaN         NaN         NaN         NaN  ...          NaN   \n",
       "17093    0.120889    0.173829         NaN         NaN  ...          NaN   \n",
       "22894    0.077789    0.081088         NaN         NaN  ...          NaN   \n",
       "\n",
       "       feature_998  feature_353  feature_813  feature_1536  feature_708  \\\n",
       "17096          NaN          NaN          NaN           NaN          NaN   \n",
       "22898          NaN          NaN          NaN           NaN          NaN   \n",
       "22899          NaN          NaN          NaN           NaN          NaN   \n",
       "17093          NaN          NaN          NaN           NaN          NaN   \n",
       "22894          NaN          NaN          NaN           NaN          NaN   \n",
       "\n",
       "       feature_2005  feature_1007  feature_815  feature_1687  \n",
       "17096           NaN           NaN          NaN           NaN  \n",
       "22898           NaN           NaN          NaN           NaN  \n",
       "22899           NaN           NaN          NaN           NaN  \n",
       "17093           NaN           NaN          NaN           NaN  \n",
       "22894           NaN           NaN          NaN           NaN  \n",
       "\n",
       "[5 rows x 930 columns]"
      ]
     },
     "execution_count": 3,
     "metadata": {},
     "output_type": "execute_result"
    }
   ],
   "source": [
    "better_acts = pd.read_csv(\"data/better_activations_summary.csv\")\n",
    "feature_idx = 922 \n",
    "better_acts.sort_values(\n",
    "    f\"feature_{feature_idx}\", ascending=False\n",
    ").head()"
   ]
  },
  {
   "cell_type": "code",
   "execution_count": 9,
   "metadata": {},
   "outputs": [
    {
     "data": {
      "text/plain": [
       "102400"
      ]
     },
     "execution_count": 9,
     "metadata": {},
     "output_type": "execute_result"
    }
   ],
   "source": [
    "2048*50"
   ]
  },
  {
   "cell_type": "code",
   "execution_count": 7,
   "metadata": {},
   "outputs": [
    {
     "data": {
      "text/plain": [
       "95300"
      ]
     },
     "execution_count": 7,
     "metadata": {},
     "output_type": "execute_result"
    }
   ],
   "source": [
    "len(better_acts)"
   ]
  },
  {
   "cell_type": "code",
   "execution_count": 4,
   "metadata": {},
   "outputs": [],
   "source": [
    "f922_30 = better_acts.sort_values(\n",
    "    f\"feature_{feature_idx}\", ascending=False\n",
    ")[['seed','step_idx','timestep', f'feature_{feature_idx}']].head(30)"
   ]
  },
  {
   "cell_type": "code",
   "execution_count": 5,
   "metadata": {},
   "outputs": [
    {
     "name": "stderr",
     "output_type": "stream",
     "text": [
      "/tmp/ipykernel_1933799/1431442656.py:3: FutureWarning: You are using `torch.load` with `weights_only=False` (the current default value), which uses the default pickle module implicitly. It is possible to construct malicious pickle data which will execute arbitrary code during unpickling (See https://github.com/pytorch/pytorch/blob/main/SECURITY.md#untrusted-models for more details). In a future release, the default value for `weights_only` will be flipped to `True`. This limits the functions that could be executed during unpickling. Arbitrary objects will no longer be allowed to be loaded via this mode unless they are explicitly allowlisted by the user via `torch.serialization.add_safe_globals`. We recommend you start setting `weights_only=True` for any use case where you don't have full control of the loaded file. Please open an issue on GitHub for any issues related to this experimental feature.\n",
      "  inf_inputs = torch.load(f\"data/inference_inputs_seed_{int(seed)}.pt\")\n"
     ]
    },
    {
     "name": "stdout",
     "output_type": "stream",
     "text": [
      "[[37.210842 62.80127 ]\n",
      " [39.729767 41.35932 ]\n",
      " [56.114487 57.294136]\n",
      " [44.37665  52.896835]\n",
      " [29.787546 64.14371 ]\n",
      " [48.689106 59.0212  ]\n",
      " [38.1087   48.662895]\n",
      " [37.26817  55.73711 ]\n",
      " [51.139698 52.359108]\n",
      " [52.965385 63.97052 ]]\n",
      "(0.04967745343909957, 2.846308419018062, 0.8350756, 47.846308419018065)\n",
      "6.091604768953897\n"
     ]
    }
   ],
   "source": [
    "seed, step, timestep, _ = f922_30[['seed', 'step_idx', 'timestep', f'feature_{feature_idx}']].values[0]\n",
    "# %%\n",
    "inf_inputs = torch.load(f\"data/inference_inputs_seed_{int(seed)}.pt\")\n",
    "# %%\n",
    "obs = torch.Tensor(inf_inputs[int(step)][0]['cond_input'])\n",
    "obs_norm1 = policy.normalizer['obs'].unnormalize(obs)[0][0]\n",
    "obs_norm2 = policy.normalizer['obs'].unnormalize(obs)[0][1]\n",
    "# %%\n",
    "points1 = np.array(obs_norm1.detach().cpu()).reshape(-1, 2)  / 512 * 96\n",
    "points2 = np.array(obs_norm2.detach().cpu()).reshape(-1, 2)  / 512 * 96\n",
    "print(points1)\n",
    "# %%\n",
    "print(theta_tc(points1))\n",
    "# %%\n",
    "print(dist_tc(points1))"
   ]
  },
  {
   "cell_type": "code",
   "execution_count": 13,
   "metadata": {},
   "outputs": [
    {
     "data": {
      "text/plain": [
       "3.0"
      ]
     },
     "execution_count": 13,
     "metadata": {},
     "output_type": "execute_result"
    }
   ],
   "source": [
    "timestep"
   ]
  },
  {
   "cell_type": "code",
   "execution_count": 15,
   "metadata": {},
   "outputs": [
    {
     "data": {
      "text/plain": [
       "dict_keys(['timestep', 'trajectory_input', 'cond_input', 'trajectory_output'])"
      ]
     },
     "execution_count": 15,
     "metadata": {},
     "output_type": "execute_result"
    }
   ],
   "source": [
    "inf_inputs[int(step)][int(timestep)].keys()"
   ]
  },
  {
   "cell_type": "code",
   "execution_count": 16,
   "metadata": {},
   "outputs": [
    {
     "name": "stdout",
     "output_type": "stream",
     "text": [
      "torch.Size([1, 10, 2]) torch.Size([1, 10, 2])\n"
     ]
    }
   ],
   "source": [
    "inp_action = torch.Tensor(inf_inputs[int(step)][int(timestep)]['trajectory_input'])\n",
    "out_action = torch.Tensor(inf_inputs[int(step)][int(timestep)]['trajectory_output'])\n",
    "print(inp_action.shape, out_action.shape)"
   ]
  },
  {
   "cell_type": "code",
   "execution_count": 17,
   "metadata": {},
   "outputs": [
    {
     "name": "stderr",
     "output_type": "stream",
     "text": [
      "/tmp/ipykernel_1886101/3652908117.py:3: FutureWarning: You are using `torch.load` with `weights_only=False` (the current default value), which uses the default pickle module implicitly. It is possible to construct malicious pickle data which will execute arbitrary code during unpickling (See https://github.com/pytorch/pytorch/blob/main/SECURITY.md#untrusted-models for more details). In a future release, the default value for `weights_only` will be flipped to `True`. This limits the functions that could be executed during unpickling. Arbitrary objects will no longer be allowed to be loaded via this mode unless they are explicitly allowlisted by the user via `torch.serialization.add_safe_globals`. We recommend you start setting `weights_only=True` for any use case where you don't have full control of the loaded file. Please open an issue on GitHub for any issues related to this experimental feature.\n",
      "  inf_inputs = torch.load(f\"data/inference_inputs_seed_{int(seed)}.pt\")\n"
     ]
    },
    {
     "name": "stdout",
     "output_type": "stream",
     "text": [
      "Seed: 27242.0, Step: 112.0, Timestep: 3.0\n",
      "Theta_tc: -5.924453607411201, d_tc: 5.892085507583355, ClosestK: 5 \n",
      " Delta_theta_act_in: 228.07397729338925 Delta_dist_act_out: 8.524491558907302 \n",
      " Delta_dist_act_in: 4.612924313909092 Delta_dist_act_out: 8.524491558907302 \n",
      " d_act_curr_in: 12.104566669028511 d_act_curr_out: 12.180254695448014 \n",
      " d_act_target_in: 15.469839999955132 d_act_target_out: 15.67071618704117\n",
      "\n",
      "\n",
      "Seed: 30449.0, Step: 160.0, Timestep: 1.0\n",
      "Theta_tc: -13.120717011274541, d_tc: 6.343284254644151, ClosestK: 2 \n",
      " Delta_theta_act_in: 2.857662356274125 Delta_dist_act_out: 7.796555249261298 \n",
      " Delta_dist_act_in: 8.82078920555269 Delta_dist_act_out: 7.796555249261298 \n",
      " d_act_curr_in: 13.831234245375066 d_act_curr_out: 13.755010382304548 \n",
      " d_act_target_in: 16.247847524461836 d_act_target_out: 15.868393522531587\n",
      "\n",
      "\n",
      "Seed: 30449.0, Step: 160.0, Timestep: 0.0\n",
      "Theta_tc: -13.120717011274541, d_tc: 6.343284254644151, ClosestK: 2 \n",
      " Delta_theta_act_in: -73.89350802642849 Delta_dist_act_out: 6.8138331835571355 \n",
      " Delta_dist_act_in: 7.796555249261298 Delta_dist_act_out: 6.8138331835571355 \n",
      " d_act_curr_in: 13.755010382304548 d_act_curr_out: 13.503240927422599 \n",
      " d_act_target_in: 15.868393522531587 d_act_target_out: 15.520998375859582\n",
      "\n",
      "\n",
      "Seed: 27242.0, Step: 112.0, Timestep: 6.0\n",
      "Theta_tc: -5.924453607411201, d_tc: 5.892085507583355, ClosestK: 5 \n",
      " Delta_theta_act_in: -37.0210391506273 Delta_dist_act_out: 8.009703604550946 \n",
      " Delta_dist_act_in: 3.7091172114748474 Delta_dist_act_out: 8.009703604550946 \n",
      " d_act_curr_in: 10.340604738909029 d_act_curr_out: 11.074008723963415 \n",
      " d_act_target_in: 14.384016292012882 d_act_target_out: 15.056624229773144\n",
      "\n",
      "\n",
      "Seed: 30449.0, Step: 160.0, Timestep: 5.0\n",
      "Theta_tc: -13.120717011274541, d_tc: 6.343284254644151, ClosestK: 2 \n",
      " Delta_theta_act_in: 20.106273746576655 Delta_dist_act_out: 12.08502802678232 \n",
      " Delta_dist_act_in: 6.484109555375557 Delta_dist_act_out: 12.08502802678232 \n",
      " d_act_curr_in: 14.539152801693138 d_act_curr_out: 13.843240651442585 \n",
      " d_act_target_in: 16.887147508851697 d_act_target_out: 16.43755218360552\n",
      "\n",
      "\n",
      "Seed: 29142.0, Step: 64.0, Timestep: 0.0\n",
      "Theta_tc: -6.890969771197611, d_tc: 6.771475108281929, ClosestK: 5 \n",
      " Delta_theta_act_in: 189.6490678909467 Delta_dist_act_out: 8.2699769182921 \n",
      " Delta_dist_act_in: 7.231006687803043 Delta_dist_act_out: 8.2699769182921 \n",
      " d_act_curr_in: 8.502619600503728 d_act_curr_out: 8.70440743091989 \n",
      " d_act_target_in: 14.685435257476257 d_act_target_out: 14.946781738083445\n",
      "\n",
      "\n",
      "Seed: 30449.0, Step: 160.0, Timestep: 4.0\n",
      "Theta_tc: -13.120717011274541, d_tc: 6.343284254644151, ClosestK: 2 \n",
      " Delta_theta_act_in: -130.5625084001354 Delta_dist_act_out: 11.63731273551029 \n",
      " Delta_dist_act_in: 12.08502802678232 Delta_dist_act_out: 11.63731273551029 \n",
      " d_act_curr_in: 13.843240651442585 d_act_curr_out: 13.558133692268143 \n",
      " d_act_target_in: 16.43755218360552 d_act_target_out: 16.137495477422338\n",
      "\n",
      "\n",
      "Seed: 30449.0, Step: 160.0, Timestep: 3.0\n",
      "Theta_tc: -13.120717011274541, d_tc: 6.343284254644151, ClosestK: 2 \n",
      " Delta_theta_act_in: 244.77949985221656 Delta_dist_act_out: 10.65563884275428 \n",
      " Delta_dist_act_in: 11.63731273551029 Delta_dist_act_out: 10.65563884275428 \n",
      " d_act_curr_in: 13.558133692268143 d_act_curr_out: 13.509027672486244 \n",
      " d_act_target_in: 16.137495477422338 d_act_target_out: 16.13532654724354\n",
      "\n",
      "\n",
      "Seed: 27242.0, Step: 112.0, Timestep: 1.0\n",
      "Theta_tc: -5.924453607411201, d_tc: 5.892085507583355, ClosestK: 5 \n",
      " Delta_theta_act_in: -37.695264199072184 Delta_dist_act_out: 9.887271064046287 \n",
      " Delta_dist_act_in: 10.93645687419492 Delta_dist_act_out: 9.887271064046287 \n",
      " d_act_curr_in: 11.789672254451443 d_act_curr_out: 11.25740821387515 \n",
      " d_act_target_in: 15.145762115949825 d_act_target_out: 14.954229363979746\n",
      "\n",
      "\n",
      "Seed: 27242.0, Step: 112.0, Timestep: 0.0\n",
      "Theta_tc: -5.924453607411201, d_tc: 5.892085507583355, ClosestK: 5 \n",
      " Delta_theta_act_in: 0.7149500513710847 Delta_dist_act_out: 8.875575521561096 \n",
      " Delta_dist_act_in: 9.887271064046287 Delta_dist_act_out: 8.875575521561096 \n",
      " d_act_curr_in: 11.25740821387515 d_act_curr_out: 11.417218629752242 \n",
      " d_act_target_in: 14.954229363979746 d_act_target_out: 15.20157547913433\n",
      "\n",
      "\n",
      "Seed: 27242.0, Step: 112.0, Timestep: 4.0\n",
      "Theta_tc: -5.924453607411201, d_tc: 5.892085507583355, ClosestK: 5 \n",
      " Delta_theta_act_in: -35.60927320013152 Delta_dist_act_out: 4.612924313909092 \n",
      " Delta_dist_act_in: 0.6932237691476434 Delta_dist_act_out: 4.612924313909092 \n",
      " d_act_curr_in: 11.10866556953103 d_act_curr_out: 12.104566669028511 \n",
      " d_act_target_in: 14.640125498151459 d_act_target_out: 15.469839999955132\n",
      "\n",
      "\n",
      "Seed: 27242.0, Step: 112.0, Timestep: 5.0\n",
      "Theta_tc: -5.924453607411201, d_tc: 5.892085507583355, ClosestK: 5 \n",
      " Delta_theta_act_in: 22.27730401577857 Delta_dist_act_out: 0.6932237691476434 \n",
      " Delta_dist_act_in: 8.009703604550946 Delta_dist_act_out: 0.6932237691476434 \n",
      " d_act_curr_in: 11.074008723963415 d_act_curr_out: 11.10866556953103 \n",
      " d_act_target_in: 15.056624229773144 d_act_target_out: 14.640125498151459\n",
      "\n",
      "\n",
      "Seed: 27242.0, Step: 112.0, Timestep: 8.0\n",
      "Theta_tc: -5.924453607411201, d_tc: 5.892085507583355, ClosestK: 5 \n",
      " Delta_theta_act_in: 86.24100106457249 Delta_dist_act_out: 0.6058496699434579 \n",
      " Delta_dist_act_in: 5.179235655081106 Delta_dist_act_out: 0.6058496699434579 \n",
      " d_act_curr_in: 13.359131904129077 d_act_curr_out: 12.594198056430205 \n",
      " d_act_target_in: 17.20115398656015 d_act_target_out: 16.330676678347125\n",
      "\n",
      "\n",
      "Seed: 27242.0, Step: 112.0, Timestep: 7.0\n",
      "Theta_tc: -5.924453607411201, d_tc: 5.892085507583355, ClosestK: 5 \n",
      " Delta_theta_act_in: -47.19475618352303 Delta_dist_act_out: 3.7091172114748474 \n",
      " Delta_dist_act_in: 0.6058496699434579 Delta_dist_act_out: 3.7091172114748474 \n",
      " d_act_curr_in: 12.594198056430205 d_act_curr_out: 10.340604738909029 \n",
      " d_act_target_in: 16.330676678347125 d_act_target_out: 14.384016292012882\n",
      "\n",
      "\n",
      "Seed: 30449.0, Step: 160.0, Timestep: 7.0\n",
      "Theta_tc: -13.120717011274541, d_tc: 6.343284254644151, ClosestK: 2 \n",
      " Delta_theta_act_in: -3.7344605702178315 Delta_dist_act_out: 11.070572051472405 \n",
      " Delta_dist_act_in: 13.385885909981637 Delta_dist_act_out: 11.070572051472405 \n",
      " d_act_curr_in: 16.059992565256668 d_act_curr_out: 13.98007051090357 \n",
      " d_act_target_in: 17.765852195981374 d_act_target_out: 16.136958418889932\n",
      "\n",
      "\n",
      "Seed: 30449.0, Step: 160.0, Timestep: 9.0\n",
      "Theta_tc: -13.120717011274541, d_tc: 6.343284254644151, ClosestK: 2 \n",
      " Delta_theta_act_in: -21.697598540162907 Delta_dist_act_out: 9.96262957935242 \n",
      " Delta_dist_act_in: 14.606620336671067 Delta_dist_act_out: 9.96262957935242 \n",
      " d_act_curr_in: 15.371704823656506 d_act_curr_out: 16.26224679633916 \n",
      " d_act_target_in: 17.023595875520027 d_act_target_out: 17.6078025569621\n",
      "\n",
      "\n",
      "Seed: 30449.0, Step: 160.0, Timestep: 11.0\n",
      "Theta_tc: -13.120717011274541, d_tc: 6.343284254644151, ClosestK: 2 \n",
      " Delta_theta_act_in: -312.40656886234683 Delta_dist_act_out: 19.242723078667055 \n",
      " Delta_dist_act_in: 24.348388228334645 Delta_dist_act_out: 19.242723078667055 \n",
      " d_act_curr_in: 14.504220183618012 d_act_curr_out: 14.87243887344297 \n",
      " d_act_target_in: 16.039721469511413 d_act_target_out: 16.698790998209123\n",
      "\n",
      "\n",
      "Seed: 30449.0, Step: 160.0, Timestep: 6.0\n",
      "Theta_tc: -13.120717011274541, d_tc: 6.343284254644151, ClosestK: 2 \n",
      " Delta_theta_act_in: -52.57557238146991 Delta_dist_act_out: 6.484109555375557 \n",
      " Delta_dist_act_in: 11.070572051472405 Delta_dist_act_out: 6.484109555375557 \n",
      " d_act_curr_in: 13.98007051090357 d_act_curr_out: 14.539152801693138 \n",
      " d_act_target_in: 16.136958418889932 d_act_target_out: 16.887147508851697\n",
      "\n",
      "\n",
      "Seed: 27242.0, Step: 112.0, Timestep: 2.0\n",
      "Theta_tc: -5.924453607411201, d_tc: 5.892085507583355, ClosestK: 5 \n",
      " Delta_theta_act_in: -35.47701341704339 Delta_dist_act_out: 10.93645687419492 \n",
      " Delta_dist_act_in: 8.524491558907302 Delta_dist_act_out: 10.93645687419492 \n",
      " d_act_curr_in: 12.180254695448014 d_act_curr_out: 11.789672254451443 \n",
      " d_act_target_in: 15.67071618704117 d_act_target_out: 15.145762115949825\n",
      "\n",
      "\n",
      "Seed: 54206.0, Step: 176.0, Timestep: 0.0\n",
      "Theta_tc: -5.437099119563282, d_tc: 4.934497913294157, ClosestK: 5 \n",
      " Delta_theta_act_in: 124.91163335259542 Delta_dist_act_out: 2.104227806232519 \n",
      " Delta_dist_act_in: 2.2139130457955862 Delta_dist_act_out: 2.104227806232519 \n",
      " d_act_curr_in: 7.563339340032795 d_act_curr_out: 7.492877399128761 \n",
      " d_act_target_in: 11.688199968786515 d_act_target_out: 11.716550574858699\n",
      "\n",
      "\n",
      "Seed: 87390.0, Step: 120.0, Timestep: 6.0\n",
      "Theta_tc: -7.0373885364351745, d_tc: 5.5391783021719645, ClosestK: 2 \n",
      " Delta_theta_act_in: -87.87767148405844 Delta_dist_act_out: 29.703067223087928 \n",
      " Delta_dist_act_in: 28.742530859944598 Delta_dist_act_out: 29.703067223087928 \n",
      " d_act_curr_in: 18.910381359509774 d_act_curr_out: 18.296849076738074 \n",
      " d_act_target_in: 20.741730713198688 d_act_target_out: 20.429597026139042\n",
      "\n",
      "\n",
      "Seed: 30449.0, Step: 160.0, Timestep: 2.0\n",
      "Theta_tc: -13.120717011274541, d_tc: 6.343284254644151, ClosestK: 2 \n",
      " Delta_theta_act_in: 179.81620461839128 Delta_dist_act_out: 8.82078920555269 \n",
      " Delta_dist_act_in: 10.65563884275428 Delta_dist_act_out: 8.82078920555269 \n",
      " d_act_curr_in: 13.509027672486244 d_act_curr_out: 13.831234245375066 \n",
      " d_act_target_in: 16.13532654724354 d_act_target_out: 16.247847524461836\n",
      "\n",
      "\n",
      "Seed: 30449.0, Step: 160.0, Timestep: 13.0\n",
      "Theta_tc: -13.120717011274541, d_tc: 6.343284254644151, ClosestK: 2 \n",
      " Delta_theta_act_in: 208.55876079682884 Delta_dist_act_out: 30.886322338117857 \n",
      " Delta_dist_act_in: 29.975066981754274 Delta_dist_act_out: 30.886322338117857 \n",
      " d_act_curr_in: 14.961675028680514 d_act_curr_out: 14.329276780624436 \n",
      " d_act_target_in: 16.69347257862457 d_act_target_out: 15.534042415246962\n",
      "\n",
      "\n",
      "Seed: 30449.0, Step: 160.0, Timestep: 18.0\n",
      "Theta_tc: -13.120717011274541, d_tc: 6.343284254644151, ClosestK: 2 \n",
      " Delta_theta_act_in: 43.51333544730494 Delta_dist_act_out: 15.681754916348817 \n",
      " Delta_dist_act_in: 14.349749125291243 Delta_dist_act_out: 15.681754916348817 \n",
      " d_act_curr_in: 18.568564163763817 d_act_curr_out: 19.816827041684576 \n",
      " d_act_target_in: 21.93210458024658 d_act_target_out: 22.875942943062775\n",
      "\n",
      "\n",
      "Seed: 87390.0, Step: 120.0, Timestep: 9.0\n",
      "Theta_tc: -7.0373885364351745, d_tc: 5.5391783021719645, ClosestK: 2 \n",
      " Delta_theta_act_in: -82.12694590104202 Delta_dist_act_out: 38.52140260352075 \n",
      " Delta_dist_act_in: 38.7100072057115 Delta_dist_act_out: 38.52140260352075 \n",
      " d_act_curr_in: 20.405612234719484 d_act_curr_out: 20.215646039002966 \n",
      " d_act_target_in: 22.440935284080393 d_act_target_out: 22.079848169890944\n",
      "\n",
      "\n",
      "Seed: 87390.0, Step: 32.0, Timestep: 1.0\n",
      "Theta_tc: -6.759949667443841, d_tc: 9.360211589705171, ClosestK: 5 \n",
      " Delta_theta_act_in: 78.82597011668821 Delta_dist_act_out: 7.056327403316638 \n",
      " Delta_dist_act_in: 6.171370983274671 Delta_dist_act_out: 7.056327403316638 \n",
      " d_act_curr_in: 11.360120361236238 d_act_curr_out: 11.69672865083152 \n",
      " d_act_target_in: 19.428052320533016 d_act_target_out: 19.756804991078326\n",
      "\n",
      "\n",
      "Seed: 87390.0, Step: 112.0, Timestep: 0.0\n",
      "Theta_tc: -11.981837608688275, d_tc: 5.933877398215284, ClosestK: 2 \n",
      " Delta_theta_act_in: 188.68680351991864 Delta_dist_act_out: 3.5961332652021367 \n",
      " Delta_dist_act_in: 2.4054262709840417 Delta_dist_act_out: 3.5961332652021367 \n",
      " d_act_curr_in: 12.58587357579929 d_act_curr_out: 13.015501996152642 \n",
      " d_act_target_in: 14.88765171285113 d_act_target_out: 15.416625467630457\n",
      "\n",
      "\n",
      "Seed: 27242.0, Step: 112.0, Timestep: 12.0\n",
      "Theta_tc: -5.924453607411201, d_tc: 5.892085507583355, ClosestK: 5 \n",
      " Delta_theta_act_in: 195.64892462393934 Delta_dist_act_out: 3.4353188687925775 \n",
      " Delta_dist_act_in: 9.82514268385188 Delta_dist_act_out: 3.4353188687925775 \n",
      " d_act_curr_in: 13.284365167456937 d_act_curr_out: 12.744340742384711 \n",
      " d_act_target_in: 16.612259172185798 d_act_target_out: 15.919195620453314\n",
      "\n",
      "\n",
      "Seed: 98355.0, Step: 48.0, Timestep: 0.0\n",
      "Theta_tc: -3.4485305238490893, d_tc: 8.548137406439595, ClosestK: 5 \n",
      " Delta_theta_act_in: 42.03390622779642 Delta_dist_act_out: 10.58220800848578 \n",
      " Delta_dist_act_in: 9.142255258227745 Delta_dist_act_out: 10.58220800848578 \n",
      " d_act_curr_in: 9.36780635406041 d_act_curr_out: 8.95502729205292 \n",
      " d_act_target_in: 17.1714397914295 d_act_target_out: 16.806456177498067\n",
      "\n",
      "\n",
      "Seed: 29142.0, Step: 64.0, Timestep: 5.0\n",
      "Theta_tc: -6.890969771197611, d_tc: 6.771475108281929, ClosestK: 5 \n",
      " Delta_theta_act_in: 227.60168337266123 Delta_dist_act_out: 14.779955292108616 \n",
      " Delta_dist_act_in: 14.645413321187199 Delta_dist_act_out: 14.779955292108616 \n",
      " d_act_curr_in: 8.107426389080683 d_act_curr_out: 6.559899425166416 \n",
      " d_act_target_in: 12.803348908221599 d_act_target_out: 11.34535480314307\n",
      "\n",
      "\n"
     ]
    }
   ],
   "source": [
    "for idx, row in f922_30.iterrows():\n",
    "    seed, step, timestep, _ = row.values\n",
    "    inf_inputs = torch.load(f\"data/inference_inputs_seed_{int(seed)}.pt\")\n",
    "    time_ind = 99 - int(timestep)\n",
    "    obs = torch.Tensor(inf_inputs[int(step)][time_ind]['cond_input'])\n",
    "    action_in = torch.Tensor(inf_inputs[int(step)][time_ind]['trajectory_input'])\n",
    "    action_out = torch.Tensor(inf_inputs[int(step)][time_ind]['trajectory_output'])\n",
    "    obs_norm1 = policy.normalizer['obs'].unnormalize(obs)[0][0]\n",
    "    obs_norm2 = policy.normalizer['obs'].unnormalize(obs)[0][1]\n",
    "    inp_action = np.array(policy.normalizer['action'].unnormalize(action_in)[0].detach().cpu()) / 512 * 96\n",
    "    out_action = np.array(policy.normalizer['action'].unnormalize(action_out)[0].detach().cpu()) / 512 * 96\n",
    "    points1 = np.array(obs_norm1.detach().cpu()).reshape(-1, 2)  / 512 * 96\n",
    "    points2 = np.array(obs_norm2.detach().cpu()).reshape(-1, 2)  / 512 * 96\n",
    "    print(f\"Seed: {seed}, Step: {step}, Timestep: {timestep}\")\n",
    "    # print(theta_tc(points1))\n",
    "    _, theta_tc_deg, _, theta_c_deg = theta_tc(points2)\n",
    "    # print(dist_tc(points1))\n",
    "    d_tc = dist_tc(points2)\n",
    "    ClosestK = Ka(points2)\n",
    "    # print(Ka(points2))\n",
    "    _, _, _, Delta_theta_act_in = theta_action(inp_action)\n",
    "    _, _, _, Delta_theta_act_out = theta_action(out_action)\n",
    "    Delta_dist_act_in = dist_action(inp_action)\n",
    "    Delta_dist_act_out = dist_action(out_action)\n",
    "    # print(dist_action_mid(inp_action, points1))\n",
    "    d_act_curr_in = dist_action_mid(inp_action, points2)\n",
    "    d_act_curr_out = dist_action_mid(out_action, points2)\n",
    "    d_act_target_in = dist_action_target(inp_action)\n",
    "    d_act_target_out = dist_action_target(out_action)\n",
    "    print(f\"Theta_tc: {theta_tc_deg}, d_tc: {d_tc}, ClosestK: {ClosestK} \\n Delta_theta_act_in: {Delta_theta_act_in} Delta_dist_act_out: {Delta_dist_act_out} \\n Delta_dist_act_in: {Delta_dist_act_in} Delta_dist_act_out: {Delta_dist_act_out} \\n d_act_curr_in: {d_act_curr_in} d_act_curr_out: {d_act_curr_out} \\n d_act_target_in: {d_act_target_in} d_act_target_out: {d_act_target_out}\")\n",
    "    print(\"\\n\")"
   ]
  },
  {
   "cell_type": "code",
   "execution_count": null,
   "metadata": {},
   "outputs": [],
   "source": []
  },
  {
   "cell_type": "code",
   "execution_count": 21,
   "metadata": {},
   "outputs": [
    {
     "name": "stderr",
     "output_type": "stream",
     "text": [
      "/work/pi_hzhang2_umass_edu/jnainani_umass_edu/diffusion_policy_interp/diffusion_policy/env/pusht/pymunk_keypoint_manager.py:37: MatplotlibDeprecationWarning: The get_cmap function was deprecated in Matplotlib 3.7 and will be removed two minor releases later. Use ``matplotlib.colormaps[name]`` or ``matplotlib.colormaps.get_cmap(obj)`` instead.\n",
      "  cmap = cm.get_cmap('tab10')\n"
     ]
    },
    {
     "data": {
      "image/jpeg": "[encoded data removed]",
      "image/png": "[encoded data removed]",
      "text/plain": [
       "<PIL.Image.Image image mode=RGB size=96x96>"
      ]
     },
     "metadata": {},
     "output_type": "display_data"
    }
   ],
   "source": [
    "from PIL import Image\n",
    "env = PushTKeypointsEnv()\n",
    "env.seed(0)\n",
    "env.reset()\n",
    "img = Image.fromarray(env.render(mode='rgb_array'))\n",
    "display(img)"
   ]
  },
  {
   "cell_type": "code",
   "execution_count": 49,
   "metadata": {},
   "outputs": [],
   "source": [
    "\n",
    "import gym\n",
    "from gym import spaces\n",
    "from PIL import Image\n",
    "import collections\n",
    "import numpy as np\n",
    "import pygame\n",
    "import pymunk\n",
    "import pymunk.pygame_util\n",
    "from pymunk.vec2d import Vec2d\n",
    "import shapely.geometry as sg\n",
    "import cv2\n",
    "import os\n",
    "import skimage.transform as st\n",
    "from diffusion_policy.env.pusht.pymunk_override import DrawOptions\n",
    "import matplotlib.cm as cm\n",
    "\n",
    "def get_image_from_obs(points, action, seed, step, timestep, action_mode=\"Input\"):\n",
    "    center_x, center_y = 96 / 2, 96 / 2\n",
    "    d_i = 30\n",
    "    angle = (5 * np.pi) / 4\n",
    "    end_x = center_x + d_i * np.cos(angle)\n",
    "    end_y = center_y - d_i * np.sin(angle)\n",
    "    points_to_average = [\n",
    "    points[8], points[1] \n",
    "    ]\n",
    "    points_array = np.array(points_to_average)\n",
    "    average_point = np.mean(points_array, axis=0)\n",
    "\n",
    "    env = PushTKeypointsEnv()\n",
    "    canvas = pygame.Surface((env.window_size, env.window_size))\n",
    "    canvas.fill((255, 255, 255))\n",
    "    env.screen = canvas\n",
    "    draw_options = DrawOptions(canvas)\n",
    "    # Draw goal pose.\n",
    "    env.space = pymunk.Space()\n",
    "    goal_body = env._get_goal_pose_body(np.array([256,256,np.pi/4]))\n",
    "    env.goal_color = pygame.Color('LightGreen')\n",
    "    block_temp = env.add_tee((256, 300), 0)\n",
    "    for shape in block_temp.shapes:\n",
    "        goal_points = [pymunk.pygame_util.to_pygame(goal_body.local_to_world(v), draw_options.surface) for v in shape.get_vertices()]\n",
    "        goal_points += [goal_points[0]]\n",
    "        pygame.draw.polygon(canvas, env.goal_color, goal_points)\n",
    "    img = np.transpose(\n",
    "                    np.array(pygame.surfarray.pixels3d(canvas)), axes=(1, 0, 2)\n",
    "                )\n",
    "    img = cv2.resize(img, (env.render_size, env.render_size))\n",
    "    img = Image.fromarray(img)\n",
    "    plt.imshow(img)\n",
    "    plt.axis('off')\n",
    "\n",
    "    # Overlay the points and annotate them\n",
    "    for idx, (x, y) in enumerate(points):\n",
    "        if idx == 9:\n",
    "            plt.scatter(x, y, c='blue', label='Agent start')\n",
    "        else:\n",
    "            plt.scatter(x, y, c='red', label=f'Point {idx}' if idx == 0 else None)  # Points now match image size\n",
    "            plt.text(x, y, f'{idx}', fontsize=9, color='blue')\n",
    "\n",
    "    # Plot arrows for the action trajectory with gradient colors\n",
    "    num_actions = len(action) - 1\n",
    "    colors = cm.viridis(np.linspace(0, 1, num_actions)) \n",
    "    for i in range(num_actions):\n",
    "        start_x, start_y = action[i]\n",
    "        end_x, end_y = action[i + 1]\n",
    "        dx = end_x - start_x\n",
    "        dy = end_y - start_y\n",
    "        if i == 0:\n",
    "            plt.quiver(start_x, start_y, dx, dy, angles='xy', scale_units='xy', scale=1, color=colors[i], label=action_mode+\" start\")\n",
    "        elif i == num_actions - 1:\n",
    "            plt.quiver(start_x, start_y, dx, dy, angles='xy', scale_units='xy', scale=1, color=colors[i], label=action_mode+\" end\")\n",
    "        else:\n",
    "            plt.quiver(start_x, start_y, dx, dy, angles='xy', scale_units='xy', scale=1, color=colors[i])\n",
    "\n",
    "    top_left = points[1]     # Left side of the base\n",
    "    top_right = points[2]    # Right side of the base\n",
    "    center_top = points[4]   # Top of the T (center vertical bar)\n",
    "    mid_point = average_point    # Middle connecting point\n",
    "    # Draw the base of the T (horizontal line)\n",
    "    plt.plot([top_left[0], top_right[0]], [top_left[1], top_right[1]], c='grey', linewidth=2)\n",
    "    # Draw the vertical bar of the T\n",
    "    plt.plot([mid_point[0], center_top[0]], [mid_point[1], center_top[1]], c='grey', linewidth=2)\n",
    "    # Plot the center of the image\n",
    "    plt.scatter(center_x, center_y, c='green', label='Center')  # \n",
    "    plt.legend(loc='upper left')\n",
    "    # plt.title(\"Points and Line Overlay on Image\")\n",
    "    plt.savefig(f\"sae_analysis/out/env_imgs/seed{seed}_step{step}_timestep{timestep}_action{action_mode}.png\")\n",
    "    plt.close()\n",
    "\n",
    "# Define a function to compute statistics\n",
    "def compute_stats(row, policy, save_img=True):\n",
    "    seed, step, timestep, activation = row.values\n",
    "    seed, step, timestep = int(seed), int(step), int(timestep)\n",
    "    inf_inputs = torch.load(f\"data/inference_inputs_seed_{int(seed)}.pt\", weights_only=True)\n",
    "    time_ind = 99 - int(timestep)\n",
    "    obs = torch.Tensor(inf_inputs[int(step)][time_ind]['cond_input'])\n",
    "    action_in = torch.Tensor(inf_inputs[int(step)][time_ind]['trajectory_input'])\n",
    "    action_out = torch.Tensor(inf_inputs[int(step)][time_ind]['trajectory_output'])\n",
    "    obs_norm1 = policy.normalizer['obs'].unnormalize(obs)[0][0]\n",
    "    obs_norm2 = policy.normalizer['obs'].unnormalize(obs)[0][1]\n",
    "    inp_action = np.array(policy.normalizer['action'].unnormalize(action_in)[0].detach().cpu()) / 512 * 96\n",
    "    out_action = np.array(policy.normalizer['action'].unnormalize(action_out)[0].detach().cpu()) / 512 * 96\n",
    "    points1 = np.array(obs_norm1.detach().cpu()).reshape(-1, 2) / 512 * 96\n",
    "    points2 = np.array(obs_norm2.detach().cpu()).reshape(-1, 2) / 512 * 96\n",
    "    _, theta_tc_deg, _, theta_c_deg = theta_tc(points2)\n",
    "    d_tc = dist_tc(points2)\n",
    "    ClosestK = Ka(points2)\n",
    "    _, _, _, Delta_theta_act_in = theta_action(inp_action)\n",
    "    _, _, _, Delta_theta_act_out = theta_action(out_action)\n",
    "    Delta_dist_act_in = dist_action(inp_action)\n",
    "    Delta_dist_act_out = dist_action(out_action)\n",
    "    # print(dist_action_mid(inp_action, points1))\n",
    "    d_act_curr_in = dist_action_mid(inp_action, points2)\n",
    "    d_act_curr_out = dist_action_mid(out_action, points2)\n",
    "    d_act_target_in = dist_action_target(inp_action)\n",
    "    d_act_target_out = dist_action_target(out_action)\n",
    "\n",
    "    img_saved = os.path.exists(f\"sae_analysis/out/env_imgs/seed{seed}_step{step}_timestep{timestep}_actionInput.png\")\n",
    "    if save_img and not img_saved:\n",
    "        get_image_from_obs(points2, inp_action, seed, step, timestep, \"Input\")\n",
    "        get_image_from_obs(points2, out_action, seed, step, timestep, \"Output\")\n",
    "\n",
    "    # Collect the results in a dictionary\n",
    "    return {\n",
    "        \"seed\": int(seed),\n",
    "        \"step_idx\": int(step),\n",
    "        \"timestep\": time_ind,\n",
    "        \"activation\": activation,\n",
    "        \"theta_tc_deg\": theta_tc_deg,\n",
    "        \"theta_c_deg\": theta_c_deg,\n",
    "        \"d_tc\": d_tc,\n",
    "        \"ClosestK\": ClosestK,\n",
    "        \"Delta_theta_act_in\": Delta_theta_act_in,\n",
    "        \"Delta_theta_act_out\": Delta_theta_act_out,\n",
    "        \"Delta_dist_act_in\": Delta_dist_act_in,\n",
    "        \"Delta_dist_act_out\": Delta_dist_act_out,\n",
    "        \"d_act_curr_in\": d_act_curr_in,\n",
    "        \"d_act_curr_out\": d_act_curr_out,\n",
    "        \"d_act_target_in\": d_act_target_in,\n",
    "        \"d_act_target_out\": d_act_target_out,\n",
    "        \"img_path_in\": f\"sae_analysis/out/env_imgs/seed{seed}_step{step}_timestep{timestep}_actionInput.png\",\n",
    "        \"img_path_out\": f\"sae_analysis/out/env_imgs/seed{seed}_step{step}_timestep{timestep}_actionOutput.png\"\n",
    "    }\n",
    "\n",
    "def round_to_significant_digits(val):\n",
    "    if isinstance(val, (int, float)):  # Check if the value is numeric\n",
    "        return float(f\"{val:.3g}\")  # Format to 3 significant digits\n",
    "    return val  \n"
   ]
  },
  {
   "cell_type": "code",
   "execution_count": 50,
   "metadata": {},
   "outputs": [
    {
     "name": "stdout",
     "output_type": "stream",
     "text": [
      "Processing feature index: 0\n",
      "Skipping feature  0\n",
      "Processing feature index: 1\n",
      "Skipping feature  1\n",
      "Processing feature index: 2\n",
      "Skipping feature 2 due to insufficient activations\n",
      "Processing feature index: 3\n"
     ]
    },
    {
     "name": "stderr",
     "output_type": "stream",
     "text": [
      "/work/pi_hzhang2_umass_edu/jnainani_umass_edu/diffusion_policy_interp/diffusion_policy/env/pusht/pymunk_keypoint_manager.py:37: MatplotlibDeprecationWarning: The get_cmap function was deprecated in Matplotlib 3.7 and will be removed two minor releases later. Use ``matplotlib.colormaps[name]`` or ``matplotlib.colormaps.get_cmap(obj)`` instead.\n",
      "  cmap = cm.get_cmap('tab10')\n"
     ]
    },
    {
     "name": "stdout",
     "output_type": "stream",
     "text": [
      "Saved CSV for feature index: 3\n",
      "Processing feature index: 4\n",
      "Skipping feature  4\n",
      "Processing feature index: 5\n",
      "Skipping feature 5 due to insufficient activations\n",
      "Processing feature index: 6\n",
      "Skipping feature  6\n",
      "Processing feature index: 7\n"
     ]
    },
    {
     "name": "stderr",
     "output_type": "stream",
     "text": [
      "/work/pi_hzhang2_umass_edu/jnainani_umass_edu/diffusion_policy_interp/diffusion_policy/env/pusht/pymunk_keypoint_manager.py:37: MatplotlibDeprecationWarning: The get_cmap function was deprecated in Matplotlib 3.7 and will be removed two minor releases later. Use ``matplotlib.colormaps[name]`` or ``matplotlib.colormaps.get_cmap(obj)`` instead.\n",
      "  cmap = cm.get_cmap('tab10')\n"
     ]
    },
    {
     "name": "stdout",
     "output_type": "stream",
     "text": [
      "Saved CSV for feature index: 7\n",
      "Processing feature index: 8\n",
      "Skipping feature  8\n",
      "Processing feature index: 9\n",
      "Skipping feature  9\n",
      "Processing feature index: 10\n",
      "Skipping feature  10\n",
      "Processing feature index: 11\n",
      "Skipping feature  11\n",
      "Processing feature index: 12\n",
      "Skipping feature  12\n",
      "Processing feature index: 13\n",
      "Skipping feature  13\n",
      "Processing feature index: 14\n",
      "Skipping feature  14\n",
      "Processing feature index: 15\n",
      "Skipping feature  15\n",
      "Processing feature index: 16\n",
      "Skipping feature  16\n",
      "Processing feature index: 17\n",
      "Skipping feature  17\n",
      "Processing feature index: 18\n",
      "Skipping feature  18\n",
      "Processing feature index: 19\n",
      "Skipping feature  19\n",
      "Processing feature index: 20\n",
      "Skipping feature  20\n",
      "Processing feature index: 21\n",
      "Skipping feature  21\n",
      "Processing feature index: 22\n",
      "Skipping feature  22\n",
      "Processing feature index: 23\n",
      "Skipping feature  23\n",
      "Processing feature index: 24\n"
     ]
    },
    {
     "name": "stderr",
     "output_type": "stream",
     "text": [
      "/work/pi_hzhang2_umass_edu/jnainani_umass_edu/diffusion_policy_interp/diffusion_policy/env/pusht/pymunk_keypoint_manager.py:37: MatplotlibDeprecationWarning: The get_cmap function was deprecated in Matplotlib 3.7 and will be removed two minor releases later. Use ``matplotlib.colormaps[name]`` or ``matplotlib.colormaps.get_cmap(obj)`` instead.\n",
      "  cmap = cm.get_cmap('tab10')\n"
     ]
    },
    {
     "name": "stdout",
     "output_type": "stream",
     "text": [
      "Saved CSV for feature index: 24\n",
      "Processing feature index: 25\n",
      "Skipping feature  25\n",
      "Processing feature index: 26\n",
      "Skipping feature  26\n",
      "Processing feature index: 27\n",
      "Skipping feature  27\n",
      "Processing feature index: 28\n"
     ]
    },
    {
     "name": "stderr",
     "output_type": "stream",
     "text": [
      "/work/pi_hzhang2_umass_edu/jnainani_umass_edu/diffusion_policy_interp/diffusion_policy/env/pusht/pymunk_keypoint_manager.py:37: MatplotlibDeprecationWarning: The get_cmap function was deprecated in Matplotlib 3.7 and will be removed two minor releases later. Use ``matplotlib.colormaps[name]`` or ``matplotlib.colormaps.get_cmap(obj)`` instead.\n",
      "  cmap = cm.get_cmap('tab10')\n"
     ]
    },
    {
     "name": "stdout",
     "output_type": "stream",
     "text": [
      "Saved CSV for feature index: 28\n",
      "Processing feature index: 29\n"
     ]
    },
    {
     "name": "stderr",
     "output_type": "stream",
     "text": [
      "/work/pi_hzhang2_umass_edu/jnainani_umass_edu/diffusion_policy_interp/diffusion_policy/env/pusht/pymunk_keypoint_manager.py:37: MatplotlibDeprecationWarning: The get_cmap function was deprecated in Matplotlib 3.7 and will be removed two minor releases later. Use ``matplotlib.colormaps[name]`` or ``matplotlib.colormaps.get_cmap(obj)`` instead.\n",
      "  cmap = cm.get_cmap('tab10')\n"
     ]
    },
    {
     "name": "stdout",
     "output_type": "stream",
     "text": [
      "Saved CSV for feature index: 29\n",
      "Processing feature index: 30\n",
      "Skipping feature  30\n",
      "Processing feature index: 31\n"
     ]
    },
    {
     "name": "stderr",
     "output_type": "stream",
     "text": [
      "/work/pi_hzhang2_umass_edu/jnainani_umass_edu/diffusion_policy_interp/diffusion_policy/env/pusht/pymunk_keypoint_manager.py:37: MatplotlibDeprecationWarning: The get_cmap function was deprecated in Matplotlib 3.7 and will be removed two minor releases later. Use ``matplotlib.colormaps[name]`` or ``matplotlib.colormaps.get_cmap(obj)`` instead.\n",
      "  cmap = cm.get_cmap('tab10')\n"
     ]
    },
    {
     "name": "stdout",
     "output_type": "stream",
     "text": [
      "Saved CSV for feature index: 31\n",
      "Processing feature index: 32\n"
     ]
    },
    {
     "name": "stderr",
     "output_type": "stream",
     "text": [
      "/work/pi_hzhang2_umass_edu/jnainani_umass_edu/diffusion_policy_interp/diffusion_policy/env/pusht/pymunk_keypoint_manager.py:37: MatplotlibDeprecationWarning: The get_cmap function was deprecated in Matplotlib 3.7 and will be removed two minor releases later. Use ``matplotlib.colormaps[name]`` or ``matplotlib.colormaps.get_cmap(obj)`` instead.\n",
      "  cmap = cm.get_cmap('tab10')\n"
     ]
    },
    {
     "name": "stdout",
     "output_type": "stream",
     "text": [
      "Saved CSV for feature index: 32\n",
      "Processing feature index: 33\n",
      "Skipping feature  33\n",
      "Processing feature index: 34\n",
      "Skipping feature  34\n",
      "Processing feature index: 35\n",
      "Skipping feature  35\n",
      "Processing feature index: 36\n"
     ]
    },
    {
     "name": "stderr",
     "output_type": "stream",
     "text": [
      "/work/pi_hzhang2_umass_edu/jnainani_umass_edu/diffusion_policy_interp/diffusion_policy/env/pusht/pymunk_keypoint_manager.py:37: MatplotlibDeprecationWarning: The get_cmap function was deprecated in Matplotlib 3.7 and will be removed two minor releases later. Use ``matplotlib.colormaps[name]`` or ``matplotlib.colormaps.get_cmap(obj)`` instead.\n",
      "  cmap = cm.get_cmap('tab10')\n"
     ]
    },
    {
     "name": "stdout",
     "output_type": "stream",
     "text": [
      "Saved CSV for feature index: 36\n",
      "Processing feature index: 37\n"
     ]
    },
    {
     "name": "stderr",
     "output_type": "stream",
     "text": [
      "/work/pi_hzhang2_umass_edu/jnainani_umass_edu/diffusion_policy_interp/diffusion_policy/env/pusht/pymunk_keypoint_manager.py:37: MatplotlibDeprecationWarning: The get_cmap function was deprecated in Matplotlib 3.7 and will be removed two minor releases later. Use ``matplotlib.colormaps[name]`` or ``matplotlib.colormaps.get_cmap(obj)`` instead.\n",
      "  cmap = cm.get_cmap('tab10')\n"
     ]
    },
    {
     "name": "stdout",
     "output_type": "stream",
     "text": [
      "Saved CSV for feature index: 37\n",
      "Processing feature index: 38\n",
      "Skipping feature  38\n",
      "Processing feature index: 39\n",
      "Skipping feature  39\n",
      "Processing feature index: 40\n",
      "Skipping feature  40\n",
      "Processing feature index: 41\n",
      "Skipping feature  41\n",
      "Processing feature index: 42\n",
      "Skipping feature  42\n",
      "Processing feature index: 43\n"
     ]
    },
    {
     "name": "stderr",
     "output_type": "stream",
     "text": [
      "/work/pi_hzhang2_umass_edu/jnainani_umass_edu/diffusion_policy_interp/diffusion_policy/env/pusht/pymunk_keypoint_manager.py:37: MatplotlibDeprecationWarning: The get_cmap function was deprecated in Matplotlib 3.7 and will be removed two minor releases later. Use ``matplotlib.colormaps[name]`` or ``matplotlib.colormaps.get_cmap(obj)`` instead.\n",
      "  cmap = cm.get_cmap('tab10')\n"
     ]
    },
    {
     "name": "stdout",
     "output_type": "stream",
     "text": [
      "Saved CSV for feature index: 43\n",
      "Processing feature index: 44\n",
      "Skipping feature  44\n",
      "Processing feature index: 45\n",
      "Skipping feature  45\n",
      "Processing feature index: 46\n",
      "Skipping feature 46 due to insufficient activations\n",
      "Processing feature index: 47\n",
      "Skipping feature  47\n",
      "Processing feature index: 48\n"
     ]
    },
    {
     "name": "stderr",
     "output_type": "stream",
     "text": [
      "/work/pi_hzhang2_umass_edu/jnainani_umass_edu/diffusion_policy_interp/diffusion_policy/env/pusht/pymunk_keypoint_manager.py:37: MatplotlibDeprecationWarning: The get_cmap function was deprecated in Matplotlib 3.7 and will be removed two minor releases later. Use ``matplotlib.colormaps[name]`` or ``matplotlib.colormaps.get_cmap(obj)`` instead.\n",
      "  cmap = cm.get_cmap('tab10')\n"
     ]
    },
    {
     "name": "stdout",
     "output_type": "stream",
     "text": [
      "Saved CSV for feature index: 48\n",
      "Processing feature index: 49\n",
      "Skipping feature  49\n",
      "Processing feature index: 50\n",
      "Skipping feature  50\n",
      "Processing feature index: 51\n",
      "Skipping feature  51\n",
      "Processing feature index: 52\n"
     ]
    },
    {
     "name": "stderr",
     "output_type": "stream",
     "text": [
      "/work/pi_hzhang2_umass_edu/jnainani_umass_edu/diffusion_policy_interp/diffusion_policy/env/pusht/pymunk_keypoint_manager.py:37: MatplotlibDeprecationWarning: The get_cmap function was deprecated in Matplotlib 3.7 and will be removed two minor releases later. Use ``matplotlib.colormaps[name]`` or ``matplotlib.colormaps.get_cmap(obj)`` instead.\n",
      "  cmap = cm.get_cmap('tab10')\n"
     ]
    },
    {
     "name": "stdout",
     "output_type": "stream",
     "text": [
      "Saved CSV for feature index: 52\n",
      "Processing feature index: 53\n",
      "Skipping feature  53\n",
      "Processing feature index: 54\n",
      "Skipping feature  54\n",
      "Processing feature index: 55\n"
     ]
    },
    {
     "name": "stderr",
     "output_type": "stream",
     "text": [
      "/work/pi_hzhang2_umass_edu/jnainani_umass_edu/diffusion_policy_interp/diffusion_policy/env/pusht/pymunk_keypoint_manager.py:37: MatplotlibDeprecationWarning: The get_cmap function was deprecated in Matplotlib 3.7 and will be removed two minor releases later. Use ``matplotlib.colormaps[name]`` or ``matplotlib.colormaps.get_cmap(obj)`` instead.\n",
      "  cmap = cm.get_cmap('tab10')\n"
     ]
    },
    {
     "name": "stdout",
     "output_type": "stream",
     "text": [
      "Saved CSV for feature index: 55\n",
      "Processing feature index: 56\n",
      "Skipping feature  56\n",
      "Processing feature index: 57\n",
      "Skipping feature  57\n",
      "Processing feature index: 58\n",
      "Skipping feature  58\n",
      "Processing feature index: 59\n",
      "Skipping feature  59\n",
      "Processing feature index: 60\n"
     ]
    },
    {
     "name": "stderr",
     "output_type": "stream",
     "text": [
      "/work/pi_hzhang2_umass_edu/jnainani_umass_edu/diffusion_policy_interp/diffusion_policy/env/pusht/pymunk_keypoint_manager.py:37: MatplotlibDeprecationWarning: The get_cmap function was deprecated in Matplotlib 3.7 and will be removed two minor releases later. Use ``matplotlib.colormaps[name]`` or ``matplotlib.colormaps.get_cmap(obj)`` instead.\n",
      "  cmap = cm.get_cmap('tab10')\n"
     ]
    },
    {
     "name": "stdout",
     "output_type": "stream",
     "text": [
      "Saved CSV for feature index: 60\n",
      "Processing feature index: 61\n",
      "Skipping feature  61\n",
      "Processing feature index: 62\n",
      "Skipping feature  62\n",
      "Processing feature index: 63\n"
     ]
    },
    {
     "name": "stderr",
     "output_type": "stream",
     "text": [
      "/work/pi_hzhang2_umass_edu/jnainani_umass_edu/diffusion_policy_interp/diffusion_policy/env/pusht/pymunk_keypoint_manager.py:37: MatplotlibDeprecationWarning: The get_cmap function was deprecated in Matplotlib 3.7 and will be removed two minor releases later. Use ``matplotlib.colormaps[name]`` or ``matplotlib.colormaps.get_cmap(obj)`` instead.\n",
      "  cmap = cm.get_cmap('tab10')\n"
     ]
    },
    {
     "name": "stdout",
     "output_type": "stream",
     "text": [
      "Saved CSV for feature index: 63\n",
      "Processing feature index: 64\n",
      "Skipping feature  64\n",
      "Processing feature index: 65\n",
      "Skipping feature  65\n",
      "Processing feature index: 66\n"
     ]
    },
    {
     "name": "stderr",
     "output_type": "stream",
     "text": [
      "/work/pi_hzhang2_umass_edu/jnainani_umass_edu/diffusion_policy_interp/diffusion_policy/env/pusht/pymunk_keypoint_manager.py:37: MatplotlibDeprecationWarning: The get_cmap function was deprecated in Matplotlib 3.7 and will be removed two minor releases later. Use ``matplotlib.colormaps[name]`` or ``matplotlib.colormaps.get_cmap(obj)`` instead.\n",
      "  cmap = cm.get_cmap('tab10')\n"
     ]
    },
    {
     "name": "stdout",
     "output_type": "stream",
     "text": [
      "Saved CSV for feature index: 66\n",
      "Processing feature index: 67\n",
      "Skipping feature  67\n",
      "Processing feature index: 68\n",
      "Skipping feature  68\n",
      "Processing feature index: 69\n",
      "Skipping feature  69\n",
      "Processing feature index: 70\n",
      "Skipping feature  70\n",
      "Processing feature index: 71\n",
      "Skipping feature  71\n",
      "Processing feature index: 72\n",
      "Skipping feature  72\n",
      "Processing feature index: 73\n",
      "Skipping feature  73\n",
      "Processing feature index: 74\n"
     ]
    },
    {
     "name": "stderr",
     "output_type": "stream",
     "text": [
      "/work/pi_hzhang2_umass_edu/jnainani_umass_edu/diffusion_policy_interp/diffusion_policy/env/pusht/pymunk_keypoint_manager.py:37: MatplotlibDeprecationWarning: The get_cmap function was deprecated in Matplotlib 3.7 and will be removed two minor releases later. Use ``matplotlib.colormaps[name]`` or ``matplotlib.colormaps.get_cmap(obj)`` instead.\n",
      "  cmap = cm.get_cmap('tab10')\n"
     ]
    },
    {
     "name": "stdout",
     "output_type": "stream",
     "text": [
      "Saved CSV for feature index: 74\n",
      "Processing feature index: 75\n"
     ]
    },
    {
     "name": "stderr",
     "output_type": "stream",
     "text": [
      "/work/pi_hzhang2_umass_edu/jnainani_umass_edu/diffusion_policy_interp/diffusion_policy/env/pusht/pymunk_keypoint_manager.py:37: MatplotlibDeprecationWarning: The get_cmap function was deprecated in Matplotlib 3.7 and will be removed two minor releases later. Use ``matplotlib.colormaps[name]`` or ``matplotlib.colormaps.get_cmap(obj)`` instead.\n",
      "  cmap = cm.get_cmap('tab10')\n"
     ]
    },
    {
     "name": "stdout",
     "output_type": "stream",
     "text": [
      "Saved CSV for feature index: 75\n",
      "Processing feature index: 76\n",
      "Skipping feature  76\n",
      "Processing feature index: 77\n",
      "Skipping feature  77\n",
      "Processing feature index: 78\n",
      "Skipping feature  78\n",
      "Processing feature index: 79\n"
     ]
    },
    {
     "name": "stderr",
     "output_type": "stream",
     "text": [
      "/work/pi_hzhang2_umass_edu/jnainani_umass_edu/diffusion_policy_interp/diffusion_policy/env/pusht/pymunk_keypoint_manager.py:37: MatplotlibDeprecationWarning: The get_cmap function was deprecated in Matplotlib 3.7 and will be removed two minor releases later. Use ``matplotlib.colormaps[name]`` or ``matplotlib.colormaps.get_cmap(obj)`` instead.\n",
      "  cmap = cm.get_cmap('tab10')\n"
     ]
    },
    {
     "name": "stdout",
     "output_type": "stream",
     "text": [
      "Saved CSV for feature index: 79\n",
      "Processing feature index: 80\n",
      "Skipping feature  80\n",
      "Processing feature index: 81\n"
     ]
    },
    {
     "name": "stderr",
     "output_type": "stream",
     "text": [
      "/work/pi_hzhang2_umass_edu/jnainani_umass_edu/diffusion_policy_interp/diffusion_policy/env/pusht/pymunk_keypoint_manager.py:37: MatplotlibDeprecationWarning: The get_cmap function was deprecated in Matplotlib 3.7 and will be removed two minor releases later. Use ``matplotlib.colormaps[name]`` or ``matplotlib.colormaps.get_cmap(obj)`` instead.\n",
      "  cmap = cm.get_cmap('tab10')\n"
     ]
    },
    {
     "name": "stdout",
     "output_type": "stream",
     "text": [
      "Saved CSV for feature index: 81\n",
      "Processing feature index: 82\n",
      "Skipping feature  82\n",
      "Processing feature index: 83\n",
      "Skipping feature  83\n",
      "Processing feature index: 84\n"
     ]
    },
    {
     "name": "stderr",
     "output_type": "stream",
     "text": [
      "/work/pi_hzhang2_umass_edu/jnainani_umass_edu/diffusion_policy_interp/diffusion_policy/env/pusht/pymunk_keypoint_manager.py:37: MatplotlibDeprecationWarning: The get_cmap function was deprecated in Matplotlib 3.7 and will be removed two minor releases later. Use ``matplotlib.colormaps[name]`` or ``matplotlib.colormaps.get_cmap(obj)`` instead.\n",
      "  cmap = cm.get_cmap('tab10')\n"
     ]
    },
    {
     "name": "stdout",
     "output_type": "stream",
     "text": [
      "Saved CSV for feature index: 84\n",
      "Processing feature index: 85\n",
      "Skipping feature  85\n",
      "Processing feature index: 86\n",
      "Skipping feature  86\n",
      "Processing feature index: 87\n",
      "Skipping feature  87\n",
      "Processing feature index: 88\n",
      "Skipping feature  88\n",
      "Processing feature index: 89\n",
      "Skipping feature  89\n",
      "Processing feature index: 90\n"
     ]
    },
    {
     "name": "stderr",
     "output_type": "stream",
     "text": [
      "/work/pi_hzhang2_umass_edu/jnainani_umass_edu/diffusion_policy_interp/diffusion_policy/env/pusht/pymunk_keypoint_manager.py:37: MatplotlibDeprecationWarning: The get_cmap function was deprecated in Matplotlib 3.7 and will be removed two minor releases later. Use ``matplotlib.colormaps[name]`` or ``matplotlib.colormaps.get_cmap(obj)`` instead.\n",
      "  cmap = cm.get_cmap('tab10')\n"
     ]
    },
    {
     "name": "stdout",
     "output_type": "stream",
     "text": [
      "Saved CSV for feature index: 90\n",
      "Processing feature index: 91\n",
      "Skipping feature  91\n",
      "Processing feature index: 92\n",
      "Skipping feature  92\n",
      "Processing feature index: 93\n"
     ]
    },
    {
     "name": "stderr",
     "output_type": "stream",
     "text": [
      "/work/pi_hzhang2_umass_edu/jnainani_umass_edu/diffusion_policy_interp/diffusion_policy/env/pusht/pymunk_keypoint_manager.py:37: MatplotlibDeprecationWarning: The get_cmap function was deprecated in Matplotlib 3.7 and will be removed two minor releases later. Use ``matplotlib.colormaps[name]`` or ``matplotlib.colormaps.get_cmap(obj)`` instead.\n",
      "  cmap = cm.get_cmap('tab10')\n"
     ]
    },
    {
     "name": "stdout",
     "output_type": "stream",
     "text": [
      "Saved CSV for feature index: 93\n",
      "Processing feature index: 94\n",
      "Skipping feature  94\n",
      "Processing feature index: 95\n",
      "Skipping feature  95\n",
      "Processing feature index: 96\n",
      "Skipping feature  96\n",
      "Processing feature index: 97\n",
      "Skipping feature  97\n",
      "Processing feature index: 98\n"
     ]
    },
    {
     "name": "stderr",
     "output_type": "stream",
     "text": [
      "/work/pi_hzhang2_umass_edu/jnainani_umass_edu/diffusion_policy_interp/diffusion_policy/env/pusht/pymunk_keypoint_manager.py:37: MatplotlibDeprecationWarning: The get_cmap function was deprecated in Matplotlib 3.7 and will be removed two minor releases later. Use ``matplotlib.colormaps[name]`` or ``matplotlib.colormaps.get_cmap(obj)`` instead.\n",
      "  cmap = cm.get_cmap('tab10')\n"
     ]
    },
    {
     "name": "stdout",
     "output_type": "stream",
     "text": [
      "Saved CSV for feature index: 98\n",
      "Processing feature index: 99\n",
      "Skipping feature  99\n",
      "Processing feature index: 100\n",
      "Skipping feature  100\n",
      "Processing feature index: 101\n"
     ]
    },
    {
     "name": "stderr",
     "output_type": "stream",
     "text": [
      "/work/pi_hzhang2_umass_edu/jnainani_umass_edu/diffusion_policy_interp/diffusion_policy/env/pusht/pymunk_keypoint_manager.py:37: MatplotlibDeprecationWarning: The get_cmap function was deprecated in Matplotlib 3.7 and will be removed two minor releases later. Use ``matplotlib.colormaps[name]`` or ``matplotlib.colormaps.get_cmap(obj)`` instead.\n",
      "  cmap = cm.get_cmap('tab10')\n"
     ]
    },
    {
     "name": "stdout",
     "output_type": "stream",
     "text": [
      "Saved CSV for feature index: 101\n",
      "Processing feature index: 102\n",
      "Skipping feature  102\n",
      "Processing feature index: 103\n",
      "Skipping feature  103\n",
      "Processing feature index: 104\n",
      "Skipping feature  104\n",
      "Processing feature index: 105\n"
     ]
    },
    {
     "name": "stderr",
     "output_type": "stream",
     "text": [
      "/work/pi_hzhang2_umass_edu/jnainani_umass_edu/diffusion_policy_interp/diffusion_policy/env/pusht/pymunk_keypoint_manager.py:37: MatplotlibDeprecationWarning: The get_cmap function was deprecated in Matplotlib 3.7 and will be removed two minor releases later. Use ``matplotlib.colormaps[name]`` or ``matplotlib.colormaps.get_cmap(obj)`` instead.\n",
      "  cmap = cm.get_cmap('tab10')\n"
     ]
    },
    {
     "name": "stdout",
     "output_type": "stream",
     "text": [
      "Saved CSV for feature index: 105\n",
      "Processing feature index: 106\n",
      "Skipping feature  106\n",
      "Processing feature index: 107\n"
     ]
    },
    {
     "name": "stderr",
     "output_type": "stream",
     "text": [
      "/work/pi_hzhang2_umass_edu/jnainani_umass_edu/diffusion_policy_interp/diffusion_policy/env/pusht/pymunk_keypoint_manager.py:37: MatplotlibDeprecationWarning: The get_cmap function was deprecated in Matplotlib 3.7 and will be removed two minor releases later. Use ``matplotlib.colormaps[name]`` or ``matplotlib.colormaps.get_cmap(obj)`` instead.\n",
      "  cmap = cm.get_cmap('tab10')\n"
     ]
    },
    {
     "name": "stdout",
     "output_type": "stream",
     "text": [
      "Saved CSV for feature index: 107\n",
      "Processing feature index: 108\n",
      "Skipping feature  108\n",
      "Processing feature index: 109\n",
      "Skipping feature  109\n",
      "Processing feature index: 110\n",
      "Skipping feature  110\n",
      "Processing feature index: 111\n",
      "Skipping feature  111\n",
      "Processing feature index: 112\n"
     ]
    },
    {
     "name": "stderr",
     "output_type": "stream",
     "text": [
      "/work/pi_hzhang2_umass_edu/jnainani_umass_edu/diffusion_policy_interp/diffusion_policy/env/pusht/pymunk_keypoint_manager.py:37: MatplotlibDeprecationWarning: The get_cmap function was deprecated in Matplotlib 3.7 and will be removed two minor releases later. Use ``matplotlib.colormaps[name]`` or ``matplotlib.colormaps.get_cmap(obj)`` instead.\n",
      "  cmap = cm.get_cmap('tab10')\n"
     ]
    },
    {
     "name": "stdout",
     "output_type": "stream",
     "text": [
      "Saved CSV for feature index: 112\n",
      "Processing feature index: 113\n"
     ]
    },
    {
     "name": "stderr",
     "output_type": "stream",
     "text": [
      "/work/pi_hzhang2_umass_edu/jnainani_umass_edu/diffusion_policy_interp/diffusion_policy/env/pusht/pymunk_keypoint_manager.py:37: MatplotlibDeprecationWarning: The get_cmap function was deprecated in Matplotlib 3.7 and will be removed two minor releases later. Use ``matplotlib.colormaps[name]`` or ``matplotlib.colormaps.get_cmap(obj)`` instead.\n",
      "  cmap = cm.get_cmap('tab10')\n"
     ]
    },
    {
     "name": "stdout",
     "output_type": "stream",
     "text": [
      "Saved CSV for feature index: 113\n",
      "Processing feature index: 114\n"
     ]
    },
    {
     "name": "stderr",
     "output_type": "stream",
     "text": [
      "/work/pi_hzhang2_umass_edu/jnainani_umass_edu/diffusion_policy_interp/diffusion_policy/env/pusht/pymunk_keypoint_manager.py:37: MatplotlibDeprecationWarning: The get_cmap function was deprecated in Matplotlib 3.7 and will be removed two minor releases later. Use ``matplotlib.colormaps[name]`` or ``matplotlib.colormaps.get_cmap(obj)`` instead.\n",
      "  cmap = cm.get_cmap('tab10')\n"
     ]
    },
    {
     "name": "stdout",
     "output_type": "stream",
     "text": [
      "Saved CSV for feature index: 114\n",
      "Processing feature index: 115\n"
     ]
    },
    {
     "name": "stderr",
     "output_type": "stream",
     "text": [
      "/work/pi_hzhang2_umass_edu/jnainani_umass_edu/diffusion_policy_interp/diffusion_policy/env/pusht/pymunk_keypoint_manager.py:37: MatplotlibDeprecationWarning: The get_cmap function was deprecated in Matplotlib 3.7 and will be removed two minor releases later. Use ``matplotlib.colormaps[name]`` or ``matplotlib.colormaps.get_cmap(obj)`` instead.\n",
      "  cmap = cm.get_cmap('tab10')\n"
     ]
    },
    {
     "name": "stdout",
     "output_type": "stream",
     "text": [
      "Saved CSV for feature index: 115\n",
      "Processing feature index: 116\n"
     ]
    },
    {
     "name": "stderr",
     "output_type": "stream",
     "text": [
      "/work/pi_hzhang2_umass_edu/jnainani_umass_edu/diffusion_policy_interp/diffusion_policy/env/pusht/pymunk_keypoint_manager.py:37: MatplotlibDeprecationWarning: The get_cmap function was deprecated in Matplotlib 3.7 and will be removed two minor releases later. Use ``matplotlib.colormaps[name]`` or ``matplotlib.colormaps.get_cmap(obj)`` instead.\n",
      "  cmap = cm.get_cmap('tab10')\n"
     ]
    },
    {
     "name": "stdout",
     "output_type": "stream",
     "text": [
      "Saved CSV for feature index: 116\n",
      "Processing feature index: 117\n",
      "Skipping feature  117\n",
      "Processing feature index: 118\n",
      "Skipping feature  118\n",
      "Processing feature index: 119\n"
     ]
    },
    {
     "name": "stderr",
     "output_type": "stream",
     "text": [
      "/work/pi_hzhang2_umass_edu/jnainani_umass_edu/diffusion_policy_interp/diffusion_policy/env/pusht/pymunk_keypoint_manager.py:37: MatplotlibDeprecationWarning: The get_cmap function was deprecated in Matplotlib 3.7 and will be removed two minor releases later. Use ``matplotlib.colormaps[name]`` or ``matplotlib.colormaps.get_cmap(obj)`` instead.\n",
      "  cmap = cm.get_cmap('tab10')\n"
     ]
    },
    {
     "name": "stdout",
     "output_type": "stream",
     "text": [
      "Saved CSV for feature index: 119\n",
      "Processing feature index: 120\n"
     ]
    },
    {
     "name": "stderr",
     "output_type": "stream",
     "text": [
      "/work/pi_hzhang2_umass_edu/jnainani_umass_edu/diffusion_policy_interp/diffusion_policy/env/pusht/pymunk_keypoint_manager.py:37: MatplotlibDeprecationWarning: The get_cmap function was deprecated in Matplotlib 3.7 and will be removed two minor releases later. Use ``matplotlib.colormaps[name]`` or ``matplotlib.colormaps.get_cmap(obj)`` instead.\n",
      "  cmap = cm.get_cmap('tab10')\n"
     ]
    },
    {
     "name": "stdout",
     "output_type": "stream",
     "text": [
      "Saved CSV for feature index: 120\n",
      "Processing feature index: 121\n"
     ]
    },
    {
     "name": "stderr",
     "output_type": "stream",
     "text": [
      "/work/pi_hzhang2_umass_edu/jnainani_umass_edu/diffusion_policy_interp/diffusion_policy/env/pusht/pymunk_keypoint_manager.py:37: MatplotlibDeprecationWarning: The get_cmap function was deprecated in Matplotlib 3.7 and will be removed two minor releases later. Use ``matplotlib.colormaps[name]`` or ``matplotlib.colormaps.get_cmap(obj)`` instead.\n",
      "  cmap = cm.get_cmap('tab10')\n"
     ]
    },
    {
     "name": "stdout",
     "output_type": "stream",
     "text": [
      "Saved CSV for feature index: 121\n",
      "Processing feature index: 122\n",
      "Skipping feature  122\n",
      "Processing feature index: 123\n",
      "Skipping feature 123 due to insufficient activations\n",
      "Processing feature index: 124\n",
      "Skipping feature  124\n",
      "Processing feature index: 125\n"
     ]
    },
    {
     "name": "stderr",
     "output_type": "stream",
     "text": [
      "/work/pi_hzhang2_umass_edu/jnainani_umass_edu/diffusion_policy_interp/diffusion_policy/env/pusht/pymunk_keypoint_manager.py:37: MatplotlibDeprecationWarning: The get_cmap function was deprecated in Matplotlib 3.7 and will be removed two minor releases later. Use ``matplotlib.colormaps[name]`` or ``matplotlib.colormaps.get_cmap(obj)`` instead.\n",
      "  cmap = cm.get_cmap('tab10')\n"
     ]
    },
    {
     "name": "stdout",
     "output_type": "stream",
     "text": [
      "Saved CSV for feature index: 125\n",
      "Processing feature index: 126\n",
      "Skipping feature  126\n",
      "Processing feature index: 127\n"
     ]
    },
    {
     "name": "stderr",
     "output_type": "stream",
     "text": [
      "/work/pi_hzhang2_umass_edu/jnainani_umass_edu/diffusion_policy_interp/diffusion_policy/env/pusht/pymunk_keypoint_manager.py:37: MatplotlibDeprecationWarning: The get_cmap function was deprecated in Matplotlib 3.7 and will be removed two minor releases later. Use ``matplotlib.colormaps[name]`` or ``matplotlib.colormaps.get_cmap(obj)`` instead.\n",
      "  cmap = cm.get_cmap('tab10')\n"
     ]
    },
    {
     "name": "stdout",
     "output_type": "stream",
     "text": [
      "Saved CSV for feature index: 127\n",
      "Processing feature index: 128\n"
     ]
    },
    {
     "name": "stderr",
     "output_type": "stream",
     "text": [
      "/work/pi_hzhang2_umass_edu/jnainani_umass_edu/diffusion_policy_interp/diffusion_policy/env/pusht/pymunk_keypoint_manager.py:37: MatplotlibDeprecationWarning: The get_cmap function was deprecated in Matplotlib 3.7 and will be removed two minor releases later. Use ``matplotlib.colormaps[name]`` or ``matplotlib.colormaps.get_cmap(obj)`` instead.\n",
      "  cmap = cm.get_cmap('tab10')\n"
     ]
    },
    {
     "name": "stdout",
     "output_type": "stream",
     "text": [
      "Saved CSV for feature index: 128\n",
      "Processing feature index: 129\n",
      "Skipping feature  129\n",
      "Processing feature index: 130\n",
      "Skipping feature  130\n",
      "Processing feature index: 131\n",
      "Skipping feature 131 due to insufficient activations\n",
      "Processing feature index: 132\n",
      "Skipping feature  132\n",
      "Processing feature index: 133\n",
      "Skipping feature  133\n",
      "Processing feature index: 134\n"
     ]
    },
    {
     "name": "stderr",
     "output_type": "stream",
     "text": [
      "/work/pi_hzhang2_umass_edu/jnainani_umass_edu/diffusion_policy_interp/diffusion_policy/env/pusht/pymunk_keypoint_manager.py:37: MatplotlibDeprecationWarning: The get_cmap function was deprecated in Matplotlib 3.7 and will be removed two minor releases later. Use ``matplotlib.colormaps[name]`` or ``matplotlib.colormaps.get_cmap(obj)`` instead.\n",
      "  cmap = cm.get_cmap('tab10')\n"
     ]
    },
    {
     "name": "stdout",
     "output_type": "stream",
     "text": [
      "Saved CSV for feature index: 134\n",
      "Processing feature index: 135\n",
      "Skipping feature 135 due to insufficient activations\n",
      "Processing feature index: 136\n"
     ]
    },
    {
     "name": "stderr",
     "output_type": "stream",
     "text": [
      "/work/pi_hzhang2_umass_edu/jnainani_umass_edu/diffusion_policy_interp/diffusion_policy/env/pusht/pymunk_keypoint_manager.py:37: MatplotlibDeprecationWarning: The get_cmap function was deprecated in Matplotlib 3.7 and will be removed two minor releases later. Use ``matplotlib.colormaps[name]`` or ``matplotlib.colormaps.get_cmap(obj)`` instead.\n",
      "  cmap = cm.get_cmap('tab10')\n"
     ]
    },
    {
     "name": "stdout",
     "output_type": "stream",
     "text": [
      "Saved CSV for feature index: 136\n",
      "Processing feature index: 137\n"
     ]
    },
    {
     "name": "stderr",
     "output_type": "stream",
     "text": [
      "/work/pi_hzhang2_umass_edu/jnainani_umass_edu/diffusion_policy_interp/diffusion_policy/env/pusht/pymunk_keypoint_manager.py:37: MatplotlibDeprecationWarning: The get_cmap function was deprecated in Matplotlib 3.7 and will be removed two minor releases later. Use ``matplotlib.colormaps[name]`` or ``matplotlib.colormaps.get_cmap(obj)`` instead.\n",
      "  cmap = cm.get_cmap('tab10')\n"
     ]
    },
    {
     "name": "stdout",
     "output_type": "stream",
     "text": [
      "Saved CSV for feature index: 137\n",
      "Processing feature index: 138\n"
     ]
    },
    {
     "name": "stderr",
     "output_type": "stream",
     "text": [
      "/work/pi_hzhang2_umass_edu/jnainani_umass_edu/diffusion_policy_interp/diffusion_policy/env/pusht/pymunk_keypoint_manager.py:37: MatplotlibDeprecationWarning: The get_cmap function was deprecated in Matplotlib 3.7 and will be removed two minor releases later. Use ``matplotlib.colormaps[name]`` or ``matplotlib.colormaps.get_cmap(obj)`` instead.\n",
      "  cmap = cm.get_cmap('tab10')\n"
     ]
    },
    {
     "name": "stdout",
     "output_type": "stream",
     "text": [
      "Saved CSV for feature index: 138\n",
      "Processing feature index: 139\n",
      "Skipping feature  139\n",
      "Processing feature index: 140\n"
     ]
    },
    {
     "name": "stderr",
     "output_type": "stream",
     "text": [
      "/work/pi_hzhang2_umass_edu/jnainani_umass_edu/diffusion_policy_interp/diffusion_policy/env/pusht/pymunk_keypoint_manager.py:37: MatplotlibDeprecationWarning: The get_cmap function was deprecated in Matplotlib 3.7 and will be removed two minor releases later. Use ``matplotlib.colormaps[name]`` or ``matplotlib.colormaps.get_cmap(obj)`` instead.\n",
      "  cmap = cm.get_cmap('tab10')\n"
     ]
    },
    {
     "name": "stdout",
     "output_type": "stream",
     "text": [
      "Saved CSV for feature index: 140\n",
      "Processing feature index: 141\n",
      "Skipping feature  141\n",
      "Processing feature index: 142\n"
     ]
    },
    {
     "name": "stderr",
     "output_type": "stream",
     "text": [
      "/work/pi_hzhang2_umass_edu/jnainani_umass_edu/diffusion_policy_interp/diffusion_policy/env/pusht/pymunk_keypoint_manager.py:37: MatplotlibDeprecationWarning: The get_cmap function was deprecated in Matplotlib 3.7 and will be removed two minor releases later. Use ``matplotlib.colormaps[name]`` or ``matplotlib.colormaps.get_cmap(obj)`` instead.\n",
      "  cmap = cm.get_cmap('tab10')\n"
     ]
    },
    {
     "name": "stdout",
     "output_type": "stream",
     "text": [
      "Saved CSV for feature index: 142\n",
      "Processing feature index: 143\n",
      "Skipping feature  143\n",
      "Processing feature index: 144\n"
     ]
    },
    {
     "name": "stderr",
     "output_type": "stream",
     "text": [
      "/work/pi_hzhang2_umass_edu/jnainani_umass_edu/diffusion_policy_interp/diffusion_policy/env/pusht/pymunk_keypoint_manager.py:37: MatplotlibDeprecationWarning: The get_cmap function was deprecated in Matplotlib 3.7 and will be removed two minor releases later. Use ``matplotlib.colormaps[name]`` or ``matplotlib.colormaps.get_cmap(obj)`` instead.\n",
      "  cmap = cm.get_cmap('tab10')\n"
     ]
    },
    {
     "name": "stdout",
     "output_type": "stream",
     "text": [
      "Saved CSV for feature index: 144\n",
      "Processing feature index: 145\n",
      "Skipping feature  145\n",
      "Processing feature index: 146\n"
     ]
    },
    {
     "name": "stderr",
     "output_type": "stream",
     "text": [
      "/work/pi_hzhang2_umass_edu/jnainani_umass_edu/diffusion_policy_interp/diffusion_policy/env/pusht/pymunk_keypoint_manager.py:37: MatplotlibDeprecationWarning: The get_cmap function was deprecated in Matplotlib 3.7 and will be removed two minor releases later. Use ``matplotlib.colormaps[name]`` or ``matplotlib.colormaps.get_cmap(obj)`` instead.\n",
      "  cmap = cm.get_cmap('tab10')\n"
     ]
    },
    {
     "name": "stdout",
     "output_type": "stream",
     "text": [
      "Saved CSV for feature index: 146\n",
      "Processing feature index: 147\n",
      "Skipping feature  147\n",
      "Processing feature index: 148\n",
      "Skipping feature  148\n",
      "Processing feature index: 149\n"
     ]
    },
    {
     "name": "stderr",
     "output_type": "stream",
     "text": [
      "/work/pi_hzhang2_umass_edu/jnainani_umass_edu/diffusion_policy_interp/diffusion_policy/env/pusht/pymunk_keypoint_manager.py:37: MatplotlibDeprecationWarning: The get_cmap function was deprecated in Matplotlib 3.7 and will be removed two minor releases later. Use ``matplotlib.colormaps[name]`` or ``matplotlib.colormaps.get_cmap(obj)`` instead.\n",
      "  cmap = cm.get_cmap('tab10')\n"
     ]
    },
    {
     "name": "stdout",
     "output_type": "stream",
     "text": [
      "Saved CSV for feature index: 149\n",
      "Processing feature index: 150\n"
     ]
    },
    {
     "name": "stderr",
     "output_type": "stream",
     "text": [
      "/work/pi_hzhang2_umass_edu/jnainani_umass_edu/diffusion_policy_interp/diffusion_policy/env/pusht/pymunk_keypoint_manager.py:37: MatplotlibDeprecationWarning: The get_cmap function was deprecated in Matplotlib 3.7 and will be removed two minor releases later. Use ``matplotlib.colormaps[name]`` or ``matplotlib.colormaps.get_cmap(obj)`` instead.\n",
      "  cmap = cm.get_cmap('tab10')\n"
     ]
    },
    {
     "name": "stdout",
     "output_type": "stream",
     "text": [
      "Saved CSV for feature index: 150\n",
      "Processing feature index: 151\n"
     ]
    },
    {
     "name": "stderr",
     "output_type": "stream",
     "text": [
      "/work/pi_hzhang2_umass_edu/jnainani_umass_edu/diffusion_policy_interp/diffusion_policy/env/pusht/pymunk_keypoint_manager.py:37: MatplotlibDeprecationWarning: The get_cmap function was deprecated in Matplotlib 3.7 and will be removed two minor releases later. Use ``matplotlib.colormaps[name]`` or ``matplotlib.colormaps.get_cmap(obj)`` instead.\n",
      "  cmap = cm.get_cmap('tab10')\n"
     ]
    },
    {
     "name": "stdout",
     "output_type": "stream",
     "text": [
      "Saved CSV for feature index: 151\n",
      "Processing feature index: 152\n"
     ]
    },
    {
     "name": "stderr",
     "output_type": "stream",
     "text": [
      "/work/pi_hzhang2_umass_edu/jnainani_umass_edu/diffusion_policy_interp/diffusion_policy/env/pusht/pymunk_keypoint_manager.py:37: MatplotlibDeprecationWarning: The get_cmap function was deprecated in Matplotlib 3.7 and will be removed two minor releases later. Use ``matplotlib.colormaps[name]`` or ``matplotlib.colormaps.get_cmap(obj)`` instead.\n",
      "  cmap = cm.get_cmap('tab10')\n"
     ]
    },
    {
     "name": "stdout",
     "output_type": "stream",
     "text": [
      "Saved CSV for feature index: 152\n",
      "Processing feature index: 153\n",
      "Skipping feature  153\n",
      "Processing feature index: 154\n",
      "Skipping feature  154\n",
      "Processing feature index: 155\n"
     ]
    },
    {
     "name": "stderr",
     "output_type": "stream",
     "text": [
      "/work/pi_hzhang2_umass_edu/jnainani_umass_edu/diffusion_policy_interp/diffusion_policy/env/pusht/pymunk_keypoint_manager.py:37: MatplotlibDeprecationWarning: The get_cmap function was deprecated in Matplotlib 3.7 and will be removed two minor releases later. Use ``matplotlib.colormaps[name]`` or ``matplotlib.colormaps.get_cmap(obj)`` instead.\n",
      "  cmap = cm.get_cmap('tab10')\n"
     ]
    },
    {
     "name": "stdout",
     "output_type": "stream",
     "text": [
      "Saved CSV for feature index: 155\n",
      "Processing feature index: 156\n",
      "Skipping feature  156\n",
      "Processing feature index: 157\n",
      "Skipping feature  157\n",
      "Processing feature index: 158\n",
      "Skipping feature 158 due to insufficient activations\n",
      "Processing feature index: 159\n"
     ]
    },
    {
     "name": "stderr",
     "output_type": "stream",
     "text": [
      "/work/pi_hzhang2_umass_edu/jnainani_umass_edu/diffusion_policy_interp/diffusion_policy/env/pusht/pymunk_keypoint_manager.py:37: MatplotlibDeprecationWarning: The get_cmap function was deprecated in Matplotlib 3.7 and will be removed two minor releases later. Use ``matplotlib.colormaps[name]`` or ``matplotlib.colormaps.get_cmap(obj)`` instead.\n",
      "  cmap = cm.get_cmap('tab10')\n"
     ]
    },
    {
     "name": "stdout",
     "output_type": "stream",
     "text": [
      "Saved CSV for feature index: 159\n",
      "Processing feature index: 160\n"
     ]
    },
    {
     "name": "stderr",
     "output_type": "stream",
     "text": [
      "/work/pi_hzhang2_umass_edu/jnainani_umass_edu/diffusion_policy_interp/diffusion_policy/env/pusht/pymunk_keypoint_manager.py:37: MatplotlibDeprecationWarning: The get_cmap function was deprecated in Matplotlib 3.7 and will be removed two minor releases later. Use ``matplotlib.colormaps[name]`` or ``matplotlib.colormaps.get_cmap(obj)`` instead.\n",
      "  cmap = cm.get_cmap('tab10')\n"
     ]
    },
    {
     "name": "stdout",
     "output_type": "stream",
     "text": [
      "Saved CSV for feature index: 160\n",
      "Processing feature index: 161\n",
      "Skipping feature  161\n",
      "Processing feature index: 162\n",
      "Skipping feature  162\n",
      "Processing feature index: 163\n"
     ]
    },
    {
     "name": "stderr",
     "output_type": "stream",
     "text": [
      "/work/pi_hzhang2_umass_edu/jnainani_umass_edu/diffusion_policy_interp/diffusion_policy/env/pusht/pymunk_keypoint_manager.py:37: MatplotlibDeprecationWarning: The get_cmap function was deprecated in Matplotlib 3.7 and will be removed two minor releases later. Use ``matplotlib.colormaps[name]`` or ``matplotlib.colormaps.get_cmap(obj)`` instead.\n",
      "  cmap = cm.get_cmap('tab10')\n"
     ]
    },
    {
     "name": "stdout",
     "output_type": "stream",
     "text": [
      "Saved CSV for feature index: 163\n",
      "Processing feature index: 164\n",
      "Skipping feature  164\n",
      "Processing feature index: 165\n"
     ]
    },
    {
     "name": "stderr",
     "output_type": "stream",
     "text": [
      "/work/pi_hzhang2_umass_edu/jnainani_umass_edu/diffusion_policy_interp/diffusion_policy/env/pusht/pymunk_keypoint_manager.py:37: MatplotlibDeprecationWarning: The get_cmap function was deprecated in Matplotlib 3.7 and will be removed two minor releases later. Use ``matplotlib.colormaps[name]`` or ``matplotlib.colormaps.get_cmap(obj)`` instead.\n",
      "  cmap = cm.get_cmap('tab10')\n"
     ]
    },
    {
     "name": "stdout",
     "output_type": "stream",
     "text": [
      "Saved CSV for feature index: 165\n",
      "Processing feature index: 166\n"
     ]
    },
    {
     "name": "stderr",
     "output_type": "stream",
     "text": [
      "/work/pi_hzhang2_umass_edu/jnainani_umass_edu/diffusion_policy_interp/diffusion_policy/env/pusht/pymunk_keypoint_manager.py:37: MatplotlibDeprecationWarning: The get_cmap function was deprecated in Matplotlib 3.7 and will be removed two minor releases later. Use ``matplotlib.colormaps[name]`` or ``matplotlib.colormaps.get_cmap(obj)`` instead.\n",
      "  cmap = cm.get_cmap('tab10')\n"
     ]
    },
    {
     "name": "stdout",
     "output_type": "stream",
     "text": [
      "Saved CSV for feature index: 166\n",
      "Processing feature index: 167\n"
     ]
    },
    {
     "name": "stderr",
     "output_type": "stream",
     "text": [
      "/work/pi_hzhang2_umass_edu/jnainani_umass_edu/diffusion_policy_interp/diffusion_policy/env/pusht/pymunk_keypoint_manager.py:37: MatplotlibDeprecationWarning: The get_cmap function was deprecated in Matplotlib 3.7 and will be removed two minor releases later. Use ``matplotlib.colormaps[name]`` or ``matplotlib.colormaps.get_cmap(obj)`` instead.\n",
      "  cmap = cm.get_cmap('tab10')\n"
     ]
    },
    {
     "name": "stdout",
     "output_type": "stream",
     "text": [
      "Saved CSV for feature index: 167\n",
      "Processing feature index: 168\n",
      "Skipping feature  168\n",
      "Processing feature index: 169\n"
     ]
    },
    {
     "name": "stderr",
     "output_type": "stream",
     "text": [
      "/work/pi_hzhang2_umass_edu/jnainani_umass_edu/diffusion_policy_interp/diffusion_policy/env/pusht/pymunk_keypoint_manager.py:37: MatplotlibDeprecationWarning: The get_cmap function was deprecated in Matplotlib 3.7 and will be removed two minor releases later. Use ``matplotlib.colormaps[name]`` or ``matplotlib.colormaps.get_cmap(obj)`` instead.\n",
      "  cmap = cm.get_cmap('tab10')\n"
     ]
    },
    {
     "name": "stdout",
     "output_type": "stream",
     "text": [
      "Saved CSV for feature index: 169\n",
      "Processing feature index: 170\n",
      "Skipping feature  170\n",
      "Processing feature index: 171\n"
     ]
    },
    {
     "name": "stderr",
     "output_type": "stream",
     "text": [
      "/work/pi_hzhang2_umass_edu/jnainani_umass_edu/diffusion_policy_interp/diffusion_policy/env/pusht/pymunk_keypoint_manager.py:37: MatplotlibDeprecationWarning: The get_cmap function was deprecated in Matplotlib 3.7 and will be removed two minor releases later. Use ``matplotlib.colormaps[name]`` or ``matplotlib.colormaps.get_cmap(obj)`` instead.\n",
      "  cmap = cm.get_cmap('tab10')\n"
     ]
    },
    {
     "name": "stdout",
     "output_type": "stream",
     "text": [
      "Saved CSV for feature index: 171\n",
      "Processing feature index: 172\n"
     ]
    },
    {
     "name": "stderr",
     "output_type": "stream",
     "text": [
      "/work/pi_hzhang2_umass_edu/jnainani_umass_edu/diffusion_policy_interp/diffusion_policy/env/pusht/pymunk_keypoint_manager.py:37: MatplotlibDeprecationWarning: The get_cmap function was deprecated in Matplotlib 3.7 and will be removed two minor releases later. Use ``matplotlib.colormaps[name]`` or ``matplotlib.colormaps.get_cmap(obj)`` instead.\n",
      "  cmap = cm.get_cmap('tab10')\n"
     ]
    },
    {
     "name": "stdout",
     "output_type": "stream",
     "text": [
      "Saved CSV for feature index: 172\n",
      "Processing feature index: 173\n",
      "Skipping feature  173\n",
      "Processing feature index: 174\n"
     ]
    },
    {
     "name": "stderr",
     "output_type": "stream",
     "text": [
      "/work/pi_hzhang2_umass_edu/jnainani_umass_edu/diffusion_policy_interp/diffusion_policy/env/pusht/pymunk_keypoint_manager.py:37: MatplotlibDeprecationWarning: The get_cmap function was deprecated in Matplotlib 3.7 and will be removed two minor releases later. Use ``matplotlib.colormaps[name]`` or ``matplotlib.colormaps.get_cmap(obj)`` instead.\n",
      "  cmap = cm.get_cmap('tab10')\n"
     ]
    },
    {
     "name": "stdout",
     "output_type": "stream",
     "text": [
      "Saved CSV for feature index: 174\n",
      "Processing feature index: 175\n"
     ]
    },
    {
     "name": "stderr",
     "output_type": "stream",
     "text": [
      "/work/pi_hzhang2_umass_edu/jnainani_umass_edu/diffusion_policy_interp/diffusion_policy/env/pusht/pymunk_keypoint_manager.py:37: MatplotlibDeprecationWarning: The get_cmap function was deprecated in Matplotlib 3.7 and will be removed two minor releases later. Use ``matplotlib.colormaps[name]`` or ``matplotlib.colormaps.get_cmap(obj)`` instead.\n",
      "  cmap = cm.get_cmap('tab10')\n"
     ]
    },
    {
     "name": "stdout",
     "output_type": "stream",
     "text": [
      "Saved CSV for feature index: 175\n",
      "Processing feature index: 176\n"
     ]
    },
    {
     "name": "stderr",
     "output_type": "stream",
     "text": [
      "/work/pi_hzhang2_umass_edu/jnainani_umass_edu/diffusion_policy_interp/diffusion_policy/env/pusht/pymunk_keypoint_manager.py:37: MatplotlibDeprecationWarning: The get_cmap function was deprecated in Matplotlib 3.7 and will be removed two minor releases later. Use ``matplotlib.colormaps[name]`` or ``matplotlib.colormaps.get_cmap(obj)`` instead.\n",
      "  cmap = cm.get_cmap('tab10')\n"
     ]
    },
    {
     "name": "stdout",
     "output_type": "stream",
     "text": [
      "Saved CSV for feature index: 176\n",
      "Processing feature index: 177\n",
      "Skipping feature  177\n",
      "Processing feature index: 178\n"
     ]
    },
    {
     "name": "stderr",
     "output_type": "stream",
     "text": [
      "/work/pi_hzhang2_umass_edu/jnainani_umass_edu/diffusion_policy_interp/diffusion_policy/env/pusht/pymunk_keypoint_manager.py:37: MatplotlibDeprecationWarning: The get_cmap function was deprecated in Matplotlib 3.7 and will be removed two minor releases later. Use ``matplotlib.colormaps[name]`` or ``matplotlib.colormaps.get_cmap(obj)`` instead.\n",
      "  cmap = cm.get_cmap('tab10')\n"
     ]
    },
    {
     "name": "stdout",
     "output_type": "stream",
     "text": [
      "Saved CSV for feature index: 178\n",
      "Processing feature index: 179\n",
      "Skipping feature  179\n",
      "Processing feature index: 180\n",
      "Skipping feature  180\n",
      "Processing feature index: 181\n"
     ]
    },
    {
     "name": "stderr",
     "output_type": "stream",
     "text": [
      "/work/pi_hzhang2_umass_edu/jnainani_umass_edu/diffusion_policy_interp/diffusion_policy/env/pusht/pymunk_keypoint_manager.py:37: MatplotlibDeprecationWarning: The get_cmap function was deprecated in Matplotlib 3.7 and will be removed two minor releases later. Use ``matplotlib.colormaps[name]`` or ``matplotlib.colormaps.get_cmap(obj)`` instead.\n",
      "  cmap = cm.get_cmap('tab10')\n"
     ]
    },
    {
     "name": "stdout",
     "output_type": "stream",
     "text": [
      "Saved CSV for feature index: 181\n",
      "Processing feature index: 182\n"
     ]
    },
    {
     "name": "stderr",
     "output_type": "stream",
     "text": [
      "/work/pi_hzhang2_umass_edu/jnainani_umass_edu/diffusion_policy_interp/diffusion_policy/env/pusht/pymunk_keypoint_manager.py:37: MatplotlibDeprecationWarning: The get_cmap function was deprecated in Matplotlib 3.7 and will be removed two minor releases later. Use ``matplotlib.colormaps[name]`` or ``matplotlib.colormaps.get_cmap(obj)`` instead.\n",
      "  cmap = cm.get_cmap('tab10')\n"
     ]
    },
    {
     "name": "stdout",
     "output_type": "stream",
     "text": [
      "Saved CSV for feature index: 182\n",
      "Processing feature index: 183\n"
     ]
    },
    {
     "name": "stderr",
     "output_type": "stream",
     "text": [
      "/work/pi_hzhang2_umass_edu/jnainani_umass_edu/diffusion_policy_interp/diffusion_policy/env/pusht/pymunk_keypoint_manager.py:37: MatplotlibDeprecationWarning: The get_cmap function was deprecated in Matplotlib 3.7 and will be removed two minor releases later. Use ``matplotlib.colormaps[name]`` or ``matplotlib.colormaps.get_cmap(obj)`` instead.\n",
      "  cmap = cm.get_cmap('tab10')\n"
     ]
    },
    {
     "name": "stdout",
     "output_type": "stream",
     "text": [
      "Saved CSV for feature index: 183\n",
      "Processing feature index: 184\n",
      "Skipping feature  184\n",
      "Processing feature index: 185\n",
      "Skipping feature  185\n",
      "Processing feature index: 186\n"
     ]
    },
    {
     "name": "stderr",
     "output_type": "stream",
     "text": [
      "/work/pi_hzhang2_umass_edu/jnainani_umass_edu/diffusion_policy_interp/diffusion_policy/env/pusht/pymunk_keypoint_manager.py:37: MatplotlibDeprecationWarning: The get_cmap function was deprecated in Matplotlib 3.7 and will be removed two minor releases later. Use ``matplotlib.colormaps[name]`` or ``matplotlib.colormaps.get_cmap(obj)`` instead.\n",
      "  cmap = cm.get_cmap('tab10')\n"
     ]
    },
    {
     "name": "stdout",
     "output_type": "stream",
     "text": [
      "Saved CSV for feature index: 186\n",
      "Processing feature index: 187\n",
      "Skipping feature  187\n",
      "Processing feature index: 188\n",
      "Skipping feature  188\n",
      "Processing feature index: 189\n"
     ]
    },
    {
     "name": "stderr",
     "output_type": "stream",
     "text": [
      "/work/pi_hzhang2_umass_edu/jnainani_umass_edu/diffusion_policy_interp/diffusion_policy/env/pusht/pymunk_keypoint_manager.py:37: MatplotlibDeprecationWarning: The get_cmap function was deprecated in Matplotlib 3.7 and will be removed two minor releases later. Use ``matplotlib.colormaps[name]`` or ``matplotlib.colormaps.get_cmap(obj)`` instead.\n",
      "  cmap = cm.get_cmap('tab10')\n"
     ]
    },
    {
     "name": "stdout",
     "output_type": "stream",
     "text": [
      "Saved CSV for feature index: 189\n",
      "Processing feature index: 190\n",
      "Skipping feature  190\n",
      "Processing feature index: 191\n",
      "Skipping feature  191\n",
      "Processing feature index: 192\n"
     ]
    },
    {
     "name": "stderr",
     "output_type": "stream",
     "text": [
      "/work/pi_hzhang2_umass_edu/jnainani_umass_edu/diffusion_policy_interp/diffusion_policy/env/pusht/pymunk_keypoint_manager.py:37: MatplotlibDeprecationWarning: The get_cmap function was deprecated in Matplotlib 3.7 and will be removed two minor releases later. Use ``matplotlib.colormaps[name]`` or ``matplotlib.colormaps.get_cmap(obj)`` instead.\n",
      "  cmap = cm.get_cmap('tab10')\n"
     ]
    },
    {
     "name": "stdout",
     "output_type": "stream",
     "text": [
      "Saved CSV for feature index: 192\n",
      "Processing feature index: 193\n",
      "Skipping feature  193\n",
      "Processing feature index: 194\n",
      "Skipping feature  194\n",
      "Processing feature index: 195\n",
      "Skipping feature  195\n",
      "Processing feature index: 196\n",
      "Skipping feature  196\n",
      "Processing feature index: 197\n",
      "Skipping feature  197\n",
      "Processing feature index: 198\n",
      "Skipping feature  198\n",
      "Processing feature index: 199\n",
      "Skipping feature  199\n",
      "Processing feature index: 200\n"
     ]
    },
    {
     "name": "stderr",
     "output_type": "stream",
     "text": [
      "/work/pi_hzhang2_umass_edu/jnainani_umass_edu/diffusion_policy_interp/diffusion_policy/env/pusht/pymunk_keypoint_manager.py:37: MatplotlibDeprecationWarning: The get_cmap function was deprecated in Matplotlib 3.7 and will be removed two minor releases later. Use ``matplotlib.colormaps[name]`` or ``matplotlib.colormaps.get_cmap(obj)`` instead.\n",
      "  cmap = cm.get_cmap('tab10')\n"
     ]
    },
    {
     "name": "stdout",
     "output_type": "stream",
     "text": [
      "Saved CSV for feature index: 200\n",
      "Processing feature index: 201\n",
      "Skipping feature  201\n",
      "Processing feature index: 202\n"
     ]
    },
    {
     "name": "stderr",
     "output_type": "stream",
     "text": [
      "/work/pi_hzhang2_umass_edu/jnainani_umass_edu/diffusion_policy_interp/diffusion_policy/env/pusht/pymunk_keypoint_manager.py:37: MatplotlibDeprecationWarning: The get_cmap function was deprecated in Matplotlib 3.7 and will be removed two minor releases later. Use ``matplotlib.colormaps[name]`` or ``matplotlib.colormaps.get_cmap(obj)`` instead.\n",
      "  cmap = cm.get_cmap('tab10')\n"
     ]
    },
    {
     "name": "stdout",
     "output_type": "stream",
     "text": [
      "Saved CSV for feature index: 202\n",
      "Processing feature index: 203\n"
     ]
    },
    {
     "name": "stderr",
     "output_type": "stream",
     "text": [
      "/work/pi_hzhang2_umass_edu/jnainani_umass_edu/diffusion_policy_interp/diffusion_policy/env/pusht/pymunk_keypoint_manager.py:37: MatplotlibDeprecationWarning: The get_cmap function was deprecated in Matplotlib 3.7 and will be removed two minor releases later. Use ``matplotlib.colormaps[name]`` or ``matplotlib.colormaps.get_cmap(obj)`` instead.\n",
      "  cmap = cm.get_cmap('tab10')\n"
     ]
    },
    {
     "name": "stdout",
     "output_type": "stream",
     "text": [
      "Saved CSV for feature index: 203\n",
      "Processing feature index: 204\n"
     ]
    },
    {
     "name": "stderr",
     "output_type": "stream",
     "text": [
      "/work/pi_hzhang2_umass_edu/jnainani_umass_edu/diffusion_policy_interp/diffusion_policy/env/pusht/pymunk_keypoint_manager.py:37: MatplotlibDeprecationWarning: The get_cmap function was deprecated in Matplotlib 3.7 and will be removed two minor releases later. Use ``matplotlib.colormaps[name]`` or ``matplotlib.colormaps.get_cmap(obj)`` instead.\n",
      "  cmap = cm.get_cmap('tab10')\n"
     ]
    },
    {
     "name": "stdout",
     "output_type": "stream",
     "text": [
      "Saved CSV for feature index: 204\n",
      "Processing feature index: 205\n"
     ]
    },
    {
     "name": "stderr",
     "output_type": "stream",
     "text": [
      "/work/pi_hzhang2_umass_edu/jnainani_umass_edu/diffusion_policy_interp/diffusion_policy/env/pusht/pymunk_keypoint_manager.py:37: MatplotlibDeprecationWarning: The get_cmap function was deprecated in Matplotlib 3.7 and will be removed two minor releases later. Use ``matplotlib.colormaps[name]`` or ``matplotlib.colormaps.get_cmap(obj)`` instead.\n",
      "  cmap = cm.get_cmap('tab10')\n"
     ]
    },
    {
     "name": "stdout",
     "output_type": "stream",
     "text": [
      "Saved CSV for feature index: 205\n",
      "Processing feature index: 206\n"
     ]
    },
    {
     "name": "stderr",
     "output_type": "stream",
     "text": [
      "/work/pi_hzhang2_umass_edu/jnainani_umass_edu/diffusion_policy_interp/diffusion_policy/env/pusht/pymunk_keypoint_manager.py:37: MatplotlibDeprecationWarning: The get_cmap function was deprecated in Matplotlib 3.7 and will be removed two minor releases later. Use ``matplotlib.colormaps[name]`` or ``matplotlib.colormaps.get_cmap(obj)`` instead.\n",
      "  cmap = cm.get_cmap('tab10')\n"
     ]
    },
    {
     "name": "stdout",
     "output_type": "stream",
     "text": [
      "Saved CSV for feature index: 206\n",
      "Processing feature index: 207\n"
     ]
    },
    {
     "name": "stderr",
     "output_type": "stream",
     "text": [
      "/work/pi_hzhang2_umass_edu/jnainani_umass_edu/diffusion_policy_interp/diffusion_policy/env/pusht/pymunk_keypoint_manager.py:37: MatplotlibDeprecationWarning: The get_cmap function was deprecated in Matplotlib 3.7 and will be removed two minor releases later. Use ``matplotlib.colormaps[name]`` or ``matplotlib.colormaps.get_cmap(obj)`` instead.\n",
      "  cmap = cm.get_cmap('tab10')\n"
     ]
    },
    {
     "name": "stdout",
     "output_type": "stream",
     "text": [
      "Saved CSV for feature index: 207\n",
      "Processing feature index: 208\n",
      "Skipping feature  208\n",
      "Processing feature index: 209\n",
      "Skipping feature  209\n",
      "Processing feature index: 210\n",
      "Skipping feature 210 due to insufficient activations\n",
      "Processing feature index: 211\n"
     ]
    },
    {
     "name": "stderr",
     "output_type": "stream",
     "text": [
      "/work/pi_hzhang2_umass_edu/jnainani_umass_edu/diffusion_policy_interp/diffusion_policy/env/pusht/pymunk_keypoint_manager.py:37: MatplotlibDeprecationWarning: The get_cmap function was deprecated in Matplotlib 3.7 and will be removed two minor releases later. Use ``matplotlib.colormaps[name]`` or ``matplotlib.colormaps.get_cmap(obj)`` instead.\n",
      "  cmap = cm.get_cmap('tab10')\n"
     ]
    },
    {
     "name": "stdout",
     "output_type": "stream",
     "text": [
      "Saved CSV for feature index: 211\n",
      "Processing feature index: 212\n",
      "Skipping feature  212\n",
      "Processing feature index: 213\n",
      "Skipping feature  213\n",
      "Processing feature index: 214\n"
     ]
    },
    {
     "name": "stderr",
     "output_type": "stream",
     "text": [
      "/work/pi_hzhang2_umass_edu/jnainani_umass_edu/diffusion_policy_interp/diffusion_policy/env/pusht/pymunk_keypoint_manager.py:37: MatplotlibDeprecationWarning: The get_cmap function was deprecated in Matplotlib 3.7 and will be removed two minor releases later. Use ``matplotlib.colormaps[name]`` or ``matplotlib.colormaps.get_cmap(obj)`` instead.\n",
      "  cmap = cm.get_cmap('tab10')\n"
     ]
    },
    {
     "name": "stdout",
     "output_type": "stream",
     "text": [
      "Saved CSV for feature index: 214\n",
      "Processing feature index: 215\n",
      "Skipping feature 215 due to insufficient activations\n",
      "Processing feature index: 216\n"
     ]
    },
    {
     "name": "stderr",
     "output_type": "stream",
     "text": [
      "/work/pi_hzhang2_umass_edu/jnainani_umass_edu/diffusion_policy_interp/diffusion_policy/env/pusht/pymunk_keypoint_manager.py:37: MatplotlibDeprecationWarning: The get_cmap function was deprecated in Matplotlib 3.7 and will be removed two minor releases later. Use ``matplotlib.colormaps[name]`` or ``matplotlib.colormaps.get_cmap(obj)`` instead.\n",
      "  cmap = cm.get_cmap('tab10')\n"
     ]
    },
    {
     "name": "stdout",
     "output_type": "stream",
     "text": [
      "Saved CSV for feature index: 216\n",
      "Processing feature index: 217\n",
      "Skipping feature  217\n",
      "Processing feature index: 218\n",
      "Skipping feature 218 due to insufficient activations\n",
      "Processing feature index: 219\n",
      "Skipping feature  219\n",
      "Processing feature index: 220\n",
      "Skipping feature  220\n",
      "Processing feature index: 221\n",
      "Skipping feature  221\n",
      "Processing feature index: 222\n",
      "Skipping feature  222\n",
      "Processing feature index: 223\n",
      "Skipping feature  223\n",
      "Processing feature index: 224\n",
      "Skipping feature  224\n",
      "Processing feature index: 225\n"
     ]
    },
    {
     "name": "stderr",
     "output_type": "stream",
     "text": [
      "/work/pi_hzhang2_umass_edu/jnainani_umass_edu/diffusion_policy_interp/diffusion_policy/env/pusht/pymunk_keypoint_manager.py:37: MatplotlibDeprecationWarning: The get_cmap function was deprecated in Matplotlib 3.7 and will be removed two minor releases later. Use ``matplotlib.colormaps[name]`` or ``matplotlib.colormaps.get_cmap(obj)`` instead.\n",
      "  cmap = cm.get_cmap('tab10')\n"
     ]
    },
    {
     "name": "stdout",
     "output_type": "stream",
     "text": [
      "Saved CSV for feature index: 225\n",
      "Processing feature index: 226\n",
      "Skipping feature  226\n",
      "Processing feature index: 227\n"
     ]
    },
    {
     "name": "stderr",
     "output_type": "stream",
     "text": [
      "/work/pi_hzhang2_umass_edu/jnainani_umass_edu/diffusion_policy_interp/diffusion_policy/env/pusht/pymunk_keypoint_manager.py:37: MatplotlibDeprecationWarning: The get_cmap function was deprecated in Matplotlib 3.7 and will be removed two minor releases later. Use ``matplotlib.colormaps[name]`` or ``matplotlib.colormaps.get_cmap(obj)`` instead.\n",
      "  cmap = cm.get_cmap('tab10')\n"
     ]
    },
    {
     "name": "stdout",
     "output_type": "stream",
     "text": [
      "Saved CSV for feature index: 227\n",
      "Processing feature index: 228\n",
      "Skipping feature  228\n",
      "Processing feature index: 229\n",
      "Skipping feature  229\n",
      "Processing feature index: 230\n",
      "Skipping feature  230\n",
      "Processing feature index: 231\n",
      "Skipping feature 231 due to insufficient activations\n",
      "Processing feature index: 232\n",
      "Skipping feature  232\n",
      "Processing feature index: 233\n"
     ]
    },
    {
     "name": "stderr",
     "output_type": "stream",
     "text": [
      "/work/pi_hzhang2_umass_edu/jnainani_umass_edu/diffusion_policy_interp/diffusion_policy/env/pusht/pymunk_keypoint_manager.py:37: MatplotlibDeprecationWarning: The get_cmap function was deprecated in Matplotlib 3.7 and will be removed two minor releases later. Use ``matplotlib.colormaps[name]`` or ``matplotlib.colormaps.get_cmap(obj)`` instead.\n",
      "  cmap = cm.get_cmap('tab10')\n"
     ]
    },
    {
     "name": "stdout",
     "output_type": "stream",
     "text": [
      "Saved CSV for feature index: 233\n",
      "Processing feature index: 234\n",
      "Skipping feature  234\n",
      "Processing feature index: 235\n",
      "Skipping feature  235\n",
      "Processing feature index: 236\n",
      "Skipping feature  236\n",
      "Processing feature index: 237\n",
      "Skipping feature  237\n",
      "Processing feature index: 238\n"
     ]
    },
    {
     "name": "stderr",
     "output_type": "stream",
     "text": [
      "/work/pi_hzhang2_umass_edu/jnainani_umass_edu/diffusion_policy_interp/diffusion_policy/env/pusht/pymunk_keypoint_manager.py:37: MatplotlibDeprecationWarning: The get_cmap function was deprecated in Matplotlib 3.7 and will be removed two minor releases later. Use ``matplotlib.colormaps[name]`` or ``matplotlib.colormaps.get_cmap(obj)`` instead.\n",
      "  cmap = cm.get_cmap('tab10')\n"
     ]
    },
    {
     "name": "stdout",
     "output_type": "stream",
     "text": [
      "Saved CSV for feature index: 238\n",
      "Processing feature index: 239\n",
      "Skipping feature 239 due to insufficient activations\n",
      "Processing feature index: 240\n",
      "Skipping feature  240\n",
      "Processing feature index: 241\n"
     ]
    },
    {
     "name": "stderr",
     "output_type": "stream",
     "text": [
      "/work/pi_hzhang2_umass_edu/jnainani_umass_edu/diffusion_policy_interp/diffusion_policy/env/pusht/pymunk_keypoint_manager.py:37: MatplotlibDeprecationWarning: The get_cmap function was deprecated in Matplotlib 3.7 and will be removed two minor releases later. Use ``matplotlib.colormaps[name]`` or ``matplotlib.colormaps.get_cmap(obj)`` instead.\n",
      "  cmap = cm.get_cmap('tab10')\n"
     ]
    },
    {
     "name": "stdout",
     "output_type": "stream",
     "text": [
      "Saved CSV for feature index: 241\n",
      "Processing feature index: 242\n"
     ]
    },
    {
     "name": "stderr",
     "output_type": "stream",
     "text": [
      "/work/pi_hzhang2_umass_edu/jnainani_umass_edu/diffusion_policy_interp/diffusion_policy/env/pusht/pymunk_keypoint_manager.py:37: MatplotlibDeprecationWarning: The get_cmap function was deprecated in Matplotlib 3.7 and will be removed two minor releases later. Use ``matplotlib.colormaps[name]`` or ``matplotlib.colormaps.get_cmap(obj)`` instead.\n",
      "  cmap = cm.get_cmap('tab10')\n"
     ]
    },
    {
     "name": "stdout",
     "output_type": "stream",
     "text": [
      "Saved CSV for feature index: 242\n",
      "Processing feature index: 243\n",
      "Skipping feature  243\n",
      "Processing feature index: 244\n"
     ]
    },
    {
     "name": "stderr",
     "output_type": "stream",
     "text": [
      "/work/pi_hzhang2_umass_edu/jnainani_umass_edu/diffusion_policy_interp/diffusion_policy/env/pusht/pymunk_keypoint_manager.py:37: MatplotlibDeprecationWarning: The get_cmap function was deprecated in Matplotlib 3.7 and will be removed two minor releases later. Use ``matplotlib.colormaps[name]`` or ``matplotlib.colormaps.get_cmap(obj)`` instead.\n",
      "  cmap = cm.get_cmap('tab10')\n"
     ]
    },
    {
     "name": "stdout",
     "output_type": "stream",
     "text": [
      "Saved CSV for feature index: 244\n",
      "Processing feature index: 245\n",
      "Skipping feature  245\n",
      "Processing feature index: 246\n"
     ]
    },
    {
     "name": "stderr",
     "output_type": "stream",
     "text": [
      "/work/pi_hzhang2_umass_edu/jnainani_umass_edu/diffusion_policy_interp/diffusion_policy/env/pusht/pymunk_keypoint_manager.py:37: MatplotlibDeprecationWarning: The get_cmap function was deprecated in Matplotlib 3.7 and will be removed two minor releases later. Use ``matplotlib.colormaps[name]`` or ``matplotlib.colormaps.get_cmap(obj)`` instead.\n",
      "  cmap = cm.get_cmap('tab10')\n"
     ]
    },
    {
     "name": "stdout",
     "output_type": "stream",
     "text": [
      "Saved CSV for feature index: 246\n",
      "Processing feature index: 247\n",
      "Skipping feature  247\n",
      "Processing feature index: 248\n",
      "Skipping feature  248\n",
      "Processing feature index: 249\n"
     ]
    },
    {
     "name": "stderr",
     "output_type": "stream",
     "text": [
      "/work/pi_hzhang2_umass_edu/jnainani_umass_edu/diffusion_policy_interp/diffusion_policy/env/pusht/pymunk_keypoint_manager.py:37: MatplotlibDeprecationWarning: The get_cmap function was deprecated in Matplotlib 3.7 and will be removed two minor releases later. Use ``matplotlib.colormaps[name]`` or ``matplotlib.colormaps.get_cmap(obj)`` instead.\n",
      "  cmap = cm.get_cmap('tab10')\n"
     ]
    },
    {
     "name": "stdout",
     "output_type": "stream",
     "text": [
      "Saved CSV for feature index: 249\n",
      "Processing feature index: 250\n",
      "Skipping feature  250\n",
      "Processing feature index: 251\n"
     ]
    },
    {
     "name": "stderr",
     "output_type": "stream",
     "text": [
      "/work/pi_hzhang2_umass_edu/jnainani_umass_edu/diffusion_policy_interp/diffusion_policy/env/pusht/pymunk_keypoint_manager.py:37: MatplotlibDeprecationWarning: The get_cmap function was deprecated in Matplotlib 3.7 and will be removed two minor releases later. Use ``matplotlib.colormaps[name]`` or ``matplotlib.colormaps.get_cmap(obj)`` instead.\n",
      "  cmap = cm.get_cmap('tab10')\n"
     ]
    },
    {
     "name": "stdout",
     "output_type": "stream",
     "text": [
      "Saved CSV for feature index: 251\n",
      "Processing feature index: 252\n",
      "Skipping feature  252\n",
      "Processing feature index: 253\n",
      "Skipping feature  253\n",
      "Processing feature index: 254\n",
      "Skipping feature  254\n",
      "Processing feature index: 255\n",
      "Skipping feature  255\n",
      "Processing feature index: 256\n",
      "Skipping feature  256\n",
      "Processing feature index: 257\n"
     ]
    },
    {
     "name": "stderr",
     "output_type": "stream",
     "text": [
      "/work/pi_hzhang2_umass_edu/jnainani_umass_edu/diffusion_policy_interp/diffusion_policy/env/pusht/pymunk_keypoint_manager.py:37: MatplotlibDeprecationWarning: The get_cmap function was deprecated in Matplotlib 3.7 and will be removed two minor releases later. Use ``matplotlib.colormaps[name]`` or ``matplotlib.colormaps.get_cmap(obj)`` instead.\n",
      "  cmap = cm.get_cmap('tab10')\n"
     ]
    },
    {
     "name": "stdout",
     "output_type": "stream",
     "text": [
      "Saved CSV for feature index: 257\n",
      "Processing feature index: 258\n",
      "Skipping feature  258\n",
      "Processing feature index: 259\n",
      "Skipping feature  259\n",
      "Processing feature index: 260\n"
     ]
    },
    {
     "name": "stderr",
     "output_type": "stream",
     "text": [
      "/work/pi_hzhang2_umass_edu/jnainani_umass_edu/diffusion_policy_interp/diffusion_policy/env/pusht/pymunk_keypoint_manager.py:37: MatplotlibDeprecationWarning: The get_cmap function was deprecated in Matplotlib 3.7 and will be removed two minor releases later. Use ``matplotlib.colormaps[name]`` or ``matplotlib.colormaps.get_cmap(obj)`` instead.\n",
      "  cmap = cm.get_cmap('tab10')\n"
     ]
    },
    {
     "name": "stdout",
     "output_type": "stream",
     "text": [
      "Saved CSV for feature index: 260\n",
      "Processing feature index: 261\n",
      "Skipping feature 261 due to insufficient activations\n",
      "Processing feature index: 262\n",
      "Skipping feature  262\n",
      "Processing feature index: 263\n",
      "Skipping feature  263\n",
      "Processing feature index: 264\n",
      "Skipping feature  264\n",
      "Processing feature index: 265\n",
      "Skipping feature  265\n",
      "Processing feature index: 266\n"
     ]
    },
    {
     "name": "stderr",
     "output_type": "stream",
     "text": [
      "/work/pi_hzhang2_umass_edu/jnainani_umass_edu/diffusion_policy_interp/diffusion_policy/env/pusht/pymunk_keypoint_manager.py:37: MatplotlibDeprecationWarning: The get_cmap function was deprecated in Matplotlib 3.7 and will be removed two minor releases later. Use ``matplotlib.colormaps[name]`` or ``matplotlib.colormaps.get_cmap(obj)`` instead.\n",
      "  cmap = cm.get_cmap('tab10')\n"
     ]
    },
    {
     "name": "stdout",
     "output_type": "stream",
     "text": [
      "Saved CSV for feature index: 266\n",
      "Processing feature index: 267\n",
      "Skipping feature  267\n",
      "Processing feature index: 268\n",
      "Skipping feature  268\n",
      "Processing feature index: 269\n"
     ]
    },
    {
     "name": "stderr",
     "output_type": "stream",
     "text": [
      "/work/pi_hzhang2_umass_edu/jnainani_umass_edu/diffusion_policy_interp/diffusion_policy/env/pusht/pymunk_keypoint_manager.py:37: MatplotlibDeprecationWarning: The get_cmap function was deprecated in Matplotlib 3.7 and will be removed two minor releases later. Use ``matplotlib.colormaps[name]`` or ``matplotlib.colormaps.get_cmap(obj)`` instead.\n",
      "  cmap = cm.get_cmap('tab10')\n"
     ]
    },
    {
     "name": "stdout",
     "output_type": "stream",
     "text": [
      "Saved CSV for feature index: 269\n",
      "Processing feature index: 270\n"
     ]
    },
    {
     "name": "stderr",
     "output_type": "stream",
     "text": [
      "/work/pi_hzhang2_umass_edu/jnainani_umass_edu/diffusion_policy_interp/diffusion_policy/env/pusht/pymunk_keypoint_manager.py:37: MatplotlibDeprecationWarning: The get_cmap function was deprecated in Matplotlib 3.7 and will be removed two minor releases later. Use ``matplotlib.colormaps[name]`` or ``matplotlib.colormaps.get_cmap(obj)`` instead.\n",
      "  cmap = cm.get_cmap('tab10')\n"
     ]
    },
    {
     "name": "stdout",
     "output_type": "stream",
     "text": [
      "Saved CSV for feature index: 270\n",
      "Processing feature index: 271\n",
      "Skipping feature  271\n",
      "Processing feature index: 272\n",
      "Skipping feature  272\n",
      "Processing feature index: 273\n"
     ]
    },
    {
     "name": "stderr",
     "output_type": "stream",
     "text": [
      "/work/pi_hzhang2_umass_edu/jnainani_umass_edu/diffusion_policy_interp/diffusion_policy/env/pusht/pymunk_keypoint_manager.py:37: MatplotlibDeprecationWarning: The get_cmap function was deprecated in Matplotlib 3.7 and will be removed two minor releases later. Use ``matplotlib.colormaps[name]`` or ``matplotlib.colormaps.get_cmap(obj)`` instead.\n",
      "  cmap = cm.get_cmap('tab10')\n"
     ]
    },
    {
     "name": "stdout",
     "output_type": "stream",
     "text": [
      "Saved CSV for feature index: 273\n",
      "Processing feature index: 274\n",
      "Skipping feature  274\n",
      "Processing feature index: 275\n",
      "Skipping feature  275\n",
      "Processing feature index: 276\n"
     ]
    },
    {
     "name": "stderr",
     "output_type": "stream",
     "text": [
      "/work/pi_hzhang2_umass_edu/jnainani_umass_edu/diffusion_policy_interp/diffusion_policy/env/pusht/pymunk_keypoint_manager.py:37: MatplotlibDeprecationWarning: The get_cmap function was deprecated in Matplotlib 3.7 and will be removed two minor releases later. Use ``matplotlib.colormaps[name]`` or ``matplotlib.colormaps.get_cmap(obj)`` instead.\n",
      "  cmap = cm.get_cmap('tab10')\n"
     ]
    },
    {
     "name": "stdout",
     "output_type": "stream",
     "text": [
      "Saved CSV for feature index: 276\n",
      "Processing feature index: 277\n"
     ]
    },
    {
     "name": "stderr",
     "output_type": "stream",
     "text": [
      "/work/pi_hzhang2_umass_edu/jnainani_umass_edu/diffusion_policy_interp/diffusion_policy/env/pusht/pymunk_keypoint_manager.py:37: MatplotlibDeprecationWarning: The get_cmap function was deprecated in Matplotlib 3.7 and will be removed two minor releases later. Use ``matplotlib.colormaps[name]`` or ``matplotlib.colormaps.get_cmap(obj)`` instead.\n",
      "  cmap = cm.get_cmap('tab10')\n"
     ]
    },
    {
     "name": "stdout",
     "output_type": "stream",
     "text": [
      "Saved CSV for feature index: 277\n",
      "Processing feature index: 278\n"
     ]
    },
    {
     "name": "stderr",
     "output_type": "stream",
     "text": [
      "/work/pi_hzhang2_umass_edu/jnainani_umass_edu/diffusion_policy_interp/diffusion_policy/env/pusht/pymunk_keypoint_manager.py:37: MatplotlibDeprecationWarning: The get_cmap function was deprecated in Matplotlib 3.7 and will be removed two minor releases later. Use ``matplotlib.colormaps[name]`` or ``matplotlib.colormaps.get_cmap(obj)`` instead.\n",
      "  cmap = cm.get_cmap('tab10')\n"
     ]
    },
    {
     "name": "stdout",
     "output_type": "stream",
     "text": [
      "Saved CSV for feature index: 278\n",
      "Processing feature index: 279\n",
      "Skipping feature 279 due to insufficient activations\n",
      "Processing feature index: 280\n"
     ]
    },
    {
     "name": "stderr",
     "output_type": "stream",
     "text": [
      "/work/pi_hzhang2_umass_edu/jnainani_umass_edu/diffusion_policy_interp/diffusion_policy/env/pusht/pymunk_keypoint_manager.py:37: MatplotlibDeprecationWarning: The get_cmap function was deprecated in Matplotlib 3.7 and will be removed two minor releases later. Use ``matplotlib.colormaps[name]`` or ``matplotlib.colormaps.get_cmap(obj)`` instead.\n",
      "  cmap = cm.get_cmap('tab10')\n"
     ]
    },
    {
     "name": "stdout",
     "output_type": "stream",
     "text": [
      "Saved CSV for feature index: 280\n",
      "Processing feature index: 281\n"
     ]
    },
    {
     "name": "stderr",
     "output_type": "stream",
     "text": [
      "/work/pi_hzhang2_umass_edu/jnainani_umass_edu/diffusion_policy_interp/diffusion_policy/env/pusht/pymunk_keypoint_manager.py:37: MatplotlibDeprecationWarning: The get_cmap function was deprecated in Matplotlib 3.7 and will be removed two minor releases later. Use ``matplotlib.colormaps[name]`` or ``matplotlib.colormaps.get_cmap(obj)`` instead.\n",
      "  cmap = cm.get_cmap('tab10')\n"
     ]
    },
    {
     "name": "stdout",
     "output_type": "stream",
     "text": [
      "Saved CSV for feature index: 281\n",
      "Processing feature index: 282\n"
     ]
    },
    {
     "name": "stderr",
     "output_type": "stream",
     "text": [
      "/work/pi_hzhang2_umass_edu/jnainani_umass_edu/diffusion_policy_interp/diffusion_policy/env/pusht/pymunk_keypoint_manager.py:37: MatplotlibDeprecationWarning: The get_cmap function was deprecated in Matplotlib 3.7 and will be removed two minor releases later. Use ``matplotlib.colormaps[name]`` or ``matplotlib.colormaps.get_cmap(obj)`` instead.\n",
      "  cmap = cm.get_cmap('tab10')\n"
     ]
    },
    {
     "name": "stdout",
     "output_type": "stream",
     "text": [
      "Saved CSV for feature index: 282\n",
      "Processing feature index: 283\n",
      "Skipping feature  283\n",
      "Processing feature index: 284\n"
     ]
    },
    {
     "name": "stderr",
     "output_type": "stream",
     "text": [
      "/work/pi_hzhang2_umass_edu/jnainani_umass_edu/diffusion_policy_interp/diffusion_policy/env/pusht/pymunk_keypoint_manager.py:37: MatplotlibDeprecationWarning: The get_cmap function was deprecated in Matplotlib 3.7 and will be removed two minor releases later. Use ``matplotlib.colormaps[name]`` or ``matplotlib.colormaps.get_cmap(obj)`` instead.\n",
      "  cmap = cm.get_cmap('tab10')\n"
     ]
    },
    {
     "name": "stdout",
     "output_type": "stream",
     "text": [
      "Saved CSV for feature index: 284\n",
      "Processing feature index: 285\n",
      "Skipping feature 285 due to insufficient activations\n",
      "Processing feature index: 286\n"
     ]
    },
    {
     "name": "stderr",
     "output_type": "stream",
     "text": [
      "/work/pi_hzhang2_umass_edu/jnainani_umass_edu/diffusion_policy_interp/diffusion_policy/env/pusht/pymunk_keypoint_manager.py:37: MatplotlibDeprecationWarning: The get_cmap function was deprecated in Matplotlib 3.7 and will be removed two minor releases later. Use ``matplotlib.colormaps[name]`` or ``matplotlib.colormaps.get_cmap(obj)`` instead.\n",
      "  cmap = cm.get_cmap('tab10')\n"
     ]
    },
    {
     "name": "stdout",
     "output_type": "stream",
     "text": [
      "Saved CSV for feature index: 286\n",
      "Processing feature index: 287\n"
     ]
    },
    {
     "name": "stderr",
     "output_type": "stream",
     "text": [
      "/work/pi_hzhang2_umass_edu/jnainani_umass_edu/diffusion_policy_interp/diffusion_policy/env/pusht/pymunk_keypoint_manager.py:37: MatplotlibDeprecationWarning: The get_cmap function was deprecated in Matplotlib 3.7 and will be removed two minor releases later. Use ``matplotlib.colormaps[name]`` or ``matplotlib.colormaps.get_cmap(obj)`` instead.\n",
      "  cmap = cm.get_cmap('tab10')\n"
     ]
    },
    {
     "name": "stdout",
     "output_type": "stream",
     "text": [
      "Saved CSV for feature index: 287\n",
      "Processing feature index: 288\n",
      "Skipping feature  288\n",
      "Processing feature index: 289\n",
      "Skipping feature  289\n",
      "Processing feature index: 290\n",
      "Skipping feature 290 due to insufficient activations\n",
      "Processing feature index: 291\n",
      "Skipping feature  291\n",
      "Processing feature index: 292\n"
     ]
    },
    {
     "name": "stderr",
     "output_type": "stream",
     "text": [
      "/work/pi_hzhang2_umass_edu/jnainani_umass_edu/diffusion_policy_interp/diffusion_policy/env/pusht/pymunk_keypoint_manager.py:37: MatplotlibDeprecationWarning: The get_cmap function was deprecated in Matplotlib 3.7 and will be removed two minor releases later. Use ``matplotlib.colormaps[name]`` or ``matplotlib.colormaps.get_cmap(obj)`` instead.\n",
      "  cmap = cm.get_cmap('tab10')\n"
     ]
    },
    {
     "name": "stdout",
     "output_type": "stream",
     "text": [
      "Saved CSV for feature index: 292\n",
      "Processing feature index: 293\n"
     ]
    },
    {
     "name": "stderr",
     "output_type": "stream",
     "text": [
      "/work/pi_hzhang2_umass_edu/jnainani_umass_edu/diffusion_policy_interp/diffusion_policy/env/pusht/pymunk_keypoint_manager.py:37: MatplotlibDeprecationWarning: The get_cmap function was deprecated in Matplotlib 3.7 and will be removed two minor releases later. Use ``matplotlib.colormaps[name]`` or ``matplotlib.colormaps.get_cmap(obj)`` instead.\n",
      "  cmap = cm.get_cmap('tab10')\n"
     ]
    },
    {
     "name": "stdout",
     "output_type": "stream",
     "text": [
      "Saved CSV for feature index: 293\n",
      "Processing feature index: 294\n",
      "Skipping feature  294\n",
      "Processing feature index: 295\n",
      "Skipping feature  295\n",
      "Processing feature index: 296\n"
     ]
    },
    {
     "name": "stderr",
     "output_type": "stream",
     "text": [
      "/work/pi_hzhang2_umass_edu/jnainani_umass_edu/diffusion_policy_interp/diffusion_policy/env/pusht/pymunk_keypoint_manager.py:37: MatplotlibDeprecationWarning: The get_cmap function was deprecated in Matplotlib 3.7 and will be removed two minor releases later. Use ``matplotlib.colormaps[name]`` or ``matplotlib.colormaps.get_cmap(obj)`` instead.\n",
      "  cmap = cm.get_cmap('tab10')\n"
     ]
    },
    {
     "name": "stdout",
     "output_type": "stream",
     "text": [
      "Saved CSV for feature index: 296\n",
      "Processing feature index: 297\n",
      "Skipping feature  297\n",
      "Processing feature index: 298\n",
      "Skipping feature 298 due to insufficient activations\n",
      "Processing feature index: 299\n",
      "Skipping feature  299\n",
      "Processing feature index: 300\n",
      "Skipping feature  300\n",
      "Processing feature index: 301\n",
      "Skipping feature 301 due to insufficient activations\n",
      "Processing feature index: 302\n",
      "Skipping feature  302\n",
      "Processing feature index: 303\n",
      "Skipping feature  303\n",
      "Processing feature index: 304\n",
      "Skipping feature  304\n",
      "Processing feature index: 305\n",
      "Skipping feature  305\n",
      "Processing feature index: 306\n",
      "Skipping feature  306\n",
      "Processing feature index: 307\n"
     ]
    },
    {
     "name": "stderr",
     "output_type": "stream",
     "text": [
      "/work/pi_hzhang2_umass_edu/jnainani_umass_edu/diffusion_policy_interp/diffusion_policy/env/pusht/pymunk_keypoint_manager.py:37: MatplotlibDeprecationWarning: The get_cmap function was deprecated in Matplotlib 3.7 and will be removed two minor releases later. Use ``matplotlib.colormaps[name]`` or ``matplotlib.colormaps.get_cmap(obj)`` instead.\n",
      "  cmap = cm.get_cmap('tab10')\n"
     ]
    },
    {
     "name": "stdout",
     "output_type": "stream",
     "text": [
      "Saved CSV for feature index: 307\n",
      "Processing feature index: 308\n",
      "Skipping feature  308\n",
      "Processing feature index: 309\n",
      "Skipping feature  309\n",
      "Processing feature index: 310\n"
     ]
    },
    {
     "name": "stderr",
     "output_type": "stream",
     "text": [
      "/work/pi_hzhang2_umass_edu/jnainani_umass_edu/diffusion_policy_interp/diffusion_policy/env/pusht/pymunk_keypoint_manager.py:37: MatplotlibDeprecationWarning: The get_cmap function was deprecated in Matplotlib 3.7 and will be removed two minor releases later. Use ``matplotlib.colormaps[name]`` or ``matplotlib.colormaps.get_cmap(obj)`` instead.\n",
      "  cmap = cm.get_cmap('tab10')\n"
     ]
    },
    {
     "name": "stdout",
     "output_type": "stream",
     "text": [
      "Saved CSV for feature index: 310\n",
      "Processing feature index: 311\n",
      "Skipping feature  311\n",
      "Processing feature index: 312\n",
      "Skipping feature  312\n",
      "Processing feature index: 313\n",
      "Skipping feature  313\n",
      "Processing feature index: 314\n",
      "Skipping feature  314\n",
      "Processing feature index: 315\n"
     ]
    },
    {
     "name": "stderr",
     "output_type": "stream",
     "text": [
      "/work/pi_hzhang2_umass_edu/jnainani_umass_edu/diffusion_policy_interp/diffusion_policy/env/pusht/pymunk_keypoint_manager.py:37: MatplotlibDeprecationWarning: The get_cmap function was deprecated in Matplotlib 3.7 and will be removed two minor releases later. Use ``matplotlib.colormaps[name]`` or ``matplotlib.colormaps.get_cmap(obj)`` instead.\n",
      "  cmap = cm.get_cmap('tab10')\n"
     ]
    },
    {
     "name": "stdout",
     "output_type": "stream",
     "text": [
      "Saved CSV for feature index: 315\n",
      "Processing feature index: 316\n",
      "Skipping feature  316\n",
      "Processing feature index: 317\n",
      "Skipping feature  317\n",
      "Processing feature index: 318\n"
     ]
    },
    {
     "name": "stderr",
     "output_type": "stream",
     "text": [
      "/work/pi_hzhang2_umass_edu/jnainani_umass_edu/diffusion_policy_interp/diffusion_policy/env/pusht/pymunk_keypoint_manager.py:37: MatplotlibDeprecationWarning: The get_cmap function was deprecated in Matplotlib 3.7 and will be removed two minor releases later. Use ``matplotlib.colormaps[name]`` or ``matplotlib.colormaps.get_cmap(obj)`` instead.\n",
      "  cmap = cm.get_cmap('tab10')\n"
     ]
    },
    {
     "name": "stdout",
     "output_type": "stream",
     "text": [
      "Saved CSV for feature index: 318\n",
      "Processing feature index: 319\n",
      "Skipping feature  319\n",
      "Processing feature index: 320\n",
      "Skipping feature  320\n",
      "Processing feature index: 321\n"
     ]
    },
    {
     "name": "stderr",
     "output_type": "stream",
     "text": [
      "/work/pi_hzhang2_umass_edu/jnainani_umass_edu/diffusion_policy_interp/diffusion_policy/env/pusht/pymunk_keypoint_manager.py:37: MatplotlibDeprecationWarning: The get_cmap function was deprecated in Matplotlib 3.7 and will be removed two minor releases later. Use ``matplotlib.colormaps[name]`` or ``matplotlib.colormaps.get_cmap(obj)`` instead.\n",
      "  cmap = cm.get_cmap('tab10')\n"
     ]
    },
    {
     "name": "stdout",
     "output_type": "stream",
     "text": [
      "Saved CSV for feature index: 321\n",
      "Processing feature index: 322\n",
      "Skipping feature  322\n",
      "Processing feature index: 323\n"
     ]
    },
    {
     "name": "stderr",
     "output_type": "stream",
     "text": [
      "/work/pi_hzhang2_umass_edu/jnainani_umass_edu/diffusion_policy_interp/diffusion_policy/env/pusht/pymunk_keypoint_manager.py:37: MatplotlibDeprecationWarning: The get_cmap function was deprecated in Matplotlib 3.7 and will be removed two minor releases later. Use ``matplotlib.colormaps[name]`` or ``matplotlib.colormaps.get_cmap(obj)`` instead.\n",
      "  cmap = cm.get_cmap('tab10')\n"
     ]
    },
    {
     "name": "stdout",
     "output_type": "stream",
     "text": [
      "Saved CSV for feature index: 323\n",
      "Processing feature index: 324\n",
      "Skipping feature  324\n",
      "Processing feature index: 325\n",
      "Skipping feature  325\n",
      "Processing feature index: 326\n"
     ]
    },
    {
     "name": "stderr",
     "output_type": "stream",
     "text": [
      "/work/pi_hzhang2_umass_edu/jnainani_umass_edu/diffusion_policy_interp/diffusion_policy/env/pusht/pymunk_keypoint_manager.py:37: MatplotlibDeprecationWarning: The get_cmap function was deprecated in Matplotlib 3.7 and will be removed two minor releases later. Use ``matplotlib.colormaps[name]`` or ``matplotlib.colormaps.get_cmap(obj)`` instead.\n",
      "  cmap = cm.get_cmap('tab10')\n"
     ]
    },
    {
     "name": "stdout",
     "output_type": "stream",
     "text": [
      "Saved CSV for feature index: 326\n",
      "Processing feature index: 327\n",
      "Skipping feature  327\n",
      "Processing feature index: 328\n",
      "Skipping feature  328\n",
      "Processing feature index: 329\n",
      "Skipping feature  329\n",
      "Processing feature index: 330\n"
     ]
    },
    {
     "name": "stderr",
     "output_type": "stream",
     "text": [
      "/work/pi_hzhang2_umass_edu/jnainani_umass_edu/diffusion_policy_interp/diffusion_policy/env/pusht/pymunk_keypoint_manager.py:37: MatplotlibDeprecationWarning: The get_cmap function was deprecated in Matplotlib 3.7 and will be removed two minor releases later. Use ``matplotlib.colormaps[name]`` or ``matplotlib.colormaps.get_cmap(obj)`` instead.\n",
      "  cmap = cm.get_cmap('tab10')\n"
     ]
    },
    {
     "name": "stdout",
     "output_type": "stream",
     "text": [
      "Saved CSV for feature index: 330\n",
      "Processing feature index: 331\n",
      "Skipping feature  331\n",
      "Processing feature index: 332\n",
      "Skipping feature 332 due to insufficient activations\n",
      "Processing feature index: 333\n",
      "Skipping feature  333\n",
      "Processing feature index: 334\n"
     ]
    },
    {
     "name": "stderr",
     "output_type": "stream",
     "text": [
      "/work/pi_hzhang2_umass_edu/jnainani_umass_edu/diffusion_policy_interp/diffusion_policy/env/pusht/pymunk_keypoint_manager.py:37: MatplotlibDeprecationWarning: The get_cmap function was deprecated in Matplotlib 3.7 and will be removed two minor releases later. Use ``matplotlib.colormaps[name]`` or ``matplotlib.colormaps.get_cmap(obj)`` instead.\n",
      "  cmap = cm.get_cmap('tab10')\n"
     ]
    },
    {
     "name": "stdout",
     "output_type": "stream",
     "text": [
      "Saved CSV for feature index: 334\n",
      "Processing feature index: 335\n",
      "Skipping feature  335\n",
      "Processing feature index: 336\n",
      "Skipping feature  336\n",
      "Processing feature index: 337\n"
     ]
    },
    {
     "name": "stderr",
     "output_type": "stream",
     "text": [
      "/work/pi_hzhang2_umass_edu/jnainani_umass_edu/diffusion_policy_interp/diffusion_policy/env/pusht/pymunk_keypoint_manager.py:37: MatplotlibDeprecationWarning: The get_cmap function was deprecated in Matplotlib 3.7 and will be removed two minor releases later. Use ``matplotlib.colormaps[name]`` or ``matplotlib.colormaps.get_cmap(obj)`` instead.\n",
      "  cmap = cm.get_cmap('tab10')\n"
     ]
    },
    {
     "name": "stdout",
     "output_type": "stream",
     "text": [
      "Saved CSV for feature index: 337\n",
      "Processing feature index: 338\n",
      "Skipping feature  338\n",
      "Processing feature index: 339\n"
     ]
    },
    {
     "name": "stderr",
     "output_type": "stream",
     "text": [
      "/work/pi_hzhang2_umass_edu/jnainani_umass_edu/diffusion_policy_interp/diffusion_policy/env/pusht/pymunk_keypoint_manager.py:37: MatplotlibDeprecationWarning: The get_cmap function was deprecated in Matplotlib 3.7 and will be removed two minor releases later. Use ``matplotlib.colormaps[name]`` or ``matplotlib.colormaps.get_cmap(obj)`` instead.\n",
      "  cmap = cm.get_cmap('tab10')\n"
     ]
    },
    {
     "name": "stdout",
     "output_type": "stream",
     "text": [
      "Saved CSV for feature index: 339\n",
      "Processing feature index: 340\n",
      "Skipping feature  340\n",
      "Processing feature index: 341\n",
      "Skipping feature  341\n",
      "Processing feature index: 342\n"
     ]
    },
    {
     "name": "stderr",
     "output_type": "stream",
     "text": [
      "/work/pi_hzhang2_umass_edu/jnainani_umass_edu/diffusion_policy_interp/diffusion_policy/env/pusht/pymunk_keypoint_manager.py:37: MatplotlibDeprecationWarning: The get_cmap function was deprecated in Matplotlib 3.7 and will be removed two minor releases later. Use ``matplotlib.colormaps[name]`` or ``matplotlib.colormaps.get_cmap(obj)`` instead.\n",
      "  cmap = cm.get_cmap('tab10')\n"
     ]
    },
    {
     "name": "stdout",
     "output_type": "stream",
     "text": [
      "Saved CSV for feature index: 342\n",
      "Processing feature index: 343\n",
      "Skipping feature  343\n",
      "Processing feature index: 344\n",
      "Skipping feature  344\n",
      "Processing feature index: 345\n",
      "Skipping feature  345\n",
      "Processing feature index: 346\n"
     ]
    },
    {
     "name": "stderr",
     "output_type": "stream",
     "text": [
      "/work/pi_hzhang2_umass_edu/jnainani_umass_edu/diffusion_policy_interp/diffusion_policy/env/pusht/pymunk_keypoint_manager.py:37: MatplotlibDeprecationWarning: The get_cmap function was deprecated in Matplotlib 3.7 and will be removed two minor releases later. Use ``matplotlib.colormaps[name]`` or ``matplotlib.colormaps.get_cmap(obj)`` instead.\n",
      "  cmap = cm.get_cmap('tab10')\n"
     ]
    },
    {
     "name": "stdout",
     "output_type": "stream",
     "text": [
      "Saved CSV for feature index: 346\n",
      "Processing feature index: 347\n"
     ]
    },
    {
     "name": "stderr",
     "output_type": "stream",
     "text": [
      "/work/pi_hzhang2_umass_edu/jnainani_umass_edu/diffusion_policy_interp/diffusion_policy/env/pusht/pymunk_keypoint_manager.py:37: MatplotlibDeprecationWarning: The get_cmap function was deprecated in Matplotlib 3.7 and will be removed two minor releases later. Use ``matplotlib.colormaps[name]`` or ``matplotlib.colormaps.get_cmap(obj)`` instead.\n",
      "  cmap = cm.get_cmap('tab10')\n"
     ]
    },
    {
     "name": "stdout",
     "output_type": "stream",
     "text": [
      "Saved CSV for feature index: 347\n",
      "Processing feature index: 348\n",
      "Skipping feature 348 due to insufficient activations\n",
      "Processing feature index: 349\n"
     ]
    },
    {
     "name": "stderr",
     "output_type": "stream",
     "text": [
      "/work/pi_hzhang2_umass_edu/jnainani_umass_edu/diffusion_policy_interp/diffusion_policy/env/pusht/pymunk_keypoint_manager.py:37: MatplotlibDeprecationWarning: The get_cmap function was deprecated in Matplotlib 3.7 and will be removed two minor releases later. Use ``matplotlib.colormaps[name]`` or ``matplotlib.colormaps.get_cmap(obj)`` instead.\n",
      "  cmap = cm.get_cmap('tab10')\n"
     ]
    },
    {
     "name": "stdout",
     "output_type": "stream",
     "text": [
      "Saved CSV for feature index: 349\n",
      "Processing feature index: 350\n",
      "Skipping feature  350\n",
      "Processing feature index: 351\n",
      "Skipping feature  351\n",
      "Processing feature index: 352\n"
     ]
    },
    {
     "name": "stderr",
     "output_type": "stream",
     "text": [
      "/work/pi_hzhang2_umass_edu/jnainani_umass_edu/diffusion_policy_interp/diffusion_policy/env/pusht/pymunk_keypoint_manager.py:37: MatplotlibDeprecationWarning: The get_cmap function was deprecated in Matplotlib 3.7 and will be removed two minor releases later. Use ``matplotlib.colormaps[name]`` or ``matplotlib.colormaps.get_cmap(obj)`` instead.\n",
      "  cmap = cm.get_cmap('tab10')\n"
     ]
    },
    {
     "name": "stdout",
     "output_type": "stream",
     "text": [
      "Saved CSV for feature index: 352\n",
      "Processing feature index: 353\n",
      "Skipping feature 353 due to insufficient activations\n",
      "Processing feature index: 354\n"
     ]
    },
    {
     "name": "stderr",
     "output_type": "stream",
     "text": [
      "/work/pi_hzhang2_umass_edu/jnainani_umass_edu/diffusion_policy_interp/diffusion_policy/env/pusht/pymunk_keypoint_manager.py:37: MatplotlibDeprecationWarning: The get_cmap function was deprecated in Matplotlib 3.7 and will be removed two minor releases later. Use ``matplotlib.colormaps[name]`` or ``matplotlib.colormaps.get_cmap(obj)`` instead.\n",
      "  cmap = cm.get_cmap('tab10')\n"
     ]
    },
    {
     "name": "stdout",
     "output_type": "stream",
     "text": [
      "Saved CSV for feature index: 354\n",
      "Processing feature index: 355\n"
     ]
    },
    {
     "name": "stderr",
     "output_type": "stream",
     "text": [
      "/work/pi_hzhang2_umass_edu/jnainani_umass_edu/diffusion_policy_interp/diffusion_policy/env/pusht/pymunk_keypoint_manager.py:37: MatplotlibDeprecationWarning: The get_cmap function was deprecated in Matplotlib 3.7 and will be removed two minor releases later. Use ``matplotlib.colormaps[name]`` or ``matplotlib.colormaps.get_cmap(obj)`` instead.\n",
      "  cmap = cm.get_cmap('tab10')\n"
     ]
    },
    {
     "name": "stdout",
     "output_type": "stream",
     "text": [
      "Saved CSV for feature index: 355\n",
      "Processing feature index: 356\n",
      "Skipping feature  356\n",
      "Processing feature index: 357\n",
      "Skipping feature  357\n",
      "Processing feature index: 358\n"
     ]
    },
    {
     "name": "stderr",
     "output_type": "stream",
     "text": [
      "/work/pi_hzhang2_umass_edu/jnainani_umass_edu/diffusion_policy_interp/diffusion_policy/env/pusht/pymunk_keypoint_manager.py:37: MatplotlibDeprecationWarning: The get_cmap function was deprecated in Matplotlib 3.7 and will be removed two minor releases later. Use ``matplotlib.colormaps[name]`` or ``matplotlib.colormaps.get_cmap(obj)`` instead.\n",
      "  cmap = cm.get_cmap('tab10')\n"
     ]
    },
    {
     "name": "stdout",
     "output_type": "stream",
     "text": [
      "Saved CSV for feature index: 358\n",
      "Processing feature index: 359\n",
      "Skipping feature  359\n",
      "Processing feature index: 360\n",
      "Skipping feature  360\n",
      "Processing feature index: 361\n",
      "Skipping feature  361\n",
      "Processing feature index: 362\n"
     ]
    },
    {
     "name": "stderr",
     "output_type": "stream",
     "text": [
      "/work/pi_hzhang2_umass_edu/jnainani_umass_edu/diffusion_policy_interp/diffusion_policy/env/pusht/pymunk_keypoint_manager.py:37: MatplotlibDeprecationWarning: The get_cmap function was deprecated in Matplotlib 3.7 and will be removed two minor releases later. Use ``matplotlib.colormaps[name]`` or ``matplotlib.colormaps.get_cmap(obj)`` instead.\n",
      "  cmap = cm.get_cmap('tab10')\n"
     ]
    },
    {
     "name": "stdout",
     "output_type": "stream",
     "text": [
      "Saved CSV for feature index: 362\n",
      "Processing feature index: 363\n",
      "Skipping feature  363\n",
      "Processing feature index: 364\n",
      "Skipping feature 364 due to insufficient activations\n",
      "Processing feature index: 365\n"
     ]
    },
    {
     "name": "stderr",
     "output_type": "stream",
     "text": [
      "/work/pi_hzhang2_umass_edu/jnainani_umass_edu/diffusion_policy_interp/diffusion_policy/env/pusht/pymunk_keypoint_manager.py:37: MatplotlibDeprecationWarning: The get_cmap function was deprecated in Matplotlib 3.7 and will be removed two minor releases later. Use ``matplotlib.colormaps[name]`` or ``matplotlib.colormaps.get_cmap(obj)`` instead.\n",
      "  cmap = cm.get_cmap('tab10')\n"
     ]
    },
    {
     "name": "stdout",
     "output_type": "stream",
     "text": [
      "Saved CSV for feature index: 365\n",
      "Processing feature index: 366\n",
      "Skipping feature  366\n",
      "Processing feature index: 367\n",
      "Skipping feature  367\n",
      "Processing feature index: 368\n",
      "Skipping feature  368\n",
      "Processing feature index: 369\n",
      "Skipping feature  369\n",
      "Processing feature index: 370\n"
     ]
    },
    {
     "name": "stderr",
     "output_type": "stream",
     "text": [
      "/work/pi_hzhang2_umass_edu/jnainani_umass_edu/diffusion_policy_interp/diffusion_policy/env/pusht/pymunk_keypoint_manager.py:37: MatplotlibDeprecationWarning: The get_cmap function was deprecated in Matplotlib 3.7 and will be removed two minor releases later. Use ``matplotlib.colormaps[name]`` or ``matplotlib.colormaps.get_cmap(obj)`` instead.\n",
      "  cmap = cm.get_cmap('tab10')\n"
     ]
    },
    {
     "name": "stdout",
     "output_type": "stream",
     "text": [
      "Saved CSV for feature index: 370\n",
      "Processing feature index: 371\n",
      "Skipping feature  371\n",
      "Processing feature index: 372\n"
     ]
    },
    {
     "name": "stderr",
     "output_type": "stream",
     "text": [
      "/work/pi_hzhang2_umass_edu/jnainani_umass_edu/diffusion_policy_interp/diffusion_policy/env/pusht/pymunk_keypoint_manager.py:37: MatplotlibDeprecationWarning: The get_cmap function was deprecated in Matplotlib 3.7 and will be removed two minor releases later. Use ``matplotlib.colormaps[name]`` or ``matplotlib.colormaps.get_cmap(obj)`` instead.\n",
      "  cmap = cm.get_cmap('tab10')\n"
     ]
    },
    {
     "name": "stdout",
     "output_type": "stream",
     "text": [
      "Saved CSV for feature index: 372\n",
      "Processing feature index: 373\n",
      "Skipping feature 373 due to insufficient activations\n",
      "Processing feature index: 374\n",
      "Skipping feature  374\n",
      "Processing feature index: 375\n",
      "Skipping feature 375 due to insufficient activations\n",
      "Processing feature index: 376\n"
     ]
    },
    {
     "name": "stderr",
     "output_type": "stream",
     "text": [
      "/work/pi_hzhang2_umass_edu/jnainani_umass_edu/diffusion_policy_interp/diffusion_policy/env/pusht/pymunk_keypoint_manager.py:37: MatplotlibDeprecationWarning: The get_cmap function was deprecated in Matplotlib 3.7 and will be removed two minor releases later. Use ``matplotlib.colormaps[name]`` or ``matplotlib.colormaps.get_cmap(obj)`` instead.\n",
      "  cmap = cm.get_cmap('tab10')\n"
     ]
    },
    {
     "name": "stdout",
     "output_type": "stream",
     "text": [
      "Saved CSV for feature index: 376\n",
      "Processing feature index: 377\n"
     ]
    },
    {
     "name": "stderr",
     "output_type": "stream",
     "text": [
      "/work/pi_hzhang2_umass_edu/jnainani_umass_edu/diffusion_policy_interp/diffusion_policy/env/pusht/pymunk_keypoint_manager.py:37: MatplotlibDeprecationWarning: The get_cmap function was deprecated in Matplotlib 3.7 and will be removed two minor releases later. Use ``matplotlib.colormaps[name]`` or ``matplotlib.colormaps.get_cmap(obj)`` instead.\n",
      "  cmap = cm.get_cmap('tab10')\n"
     ]
    },
    {
     "name": "stdout",
     "output_type": "stream",
     "text": [
      "Saved CSV for feature index: 377\n",
      "Processing feature index: 378\n"
     ]
    },
    {
     "name": "stderr",
     "output_type": "stream",
     "text": [
      "/work/pi_hzhang2_umass_edu/jnainani_umass_edu/diffusion_policy_interp/diffusion_policy/env/pusht/pymunk_keypoint_manager.py:37: MatplotlibDeprecationWarning: The get_cmap function was deprecated in Matplotlib 3.7 and will be removed two minor releases later. Use ``matplotlib.colormaps[name]`` or ``matplotlib.colormaps.get_cmap(obj)`` instead.\n",
      "  cmap = cm.get_cmap('tab10')\n"
     ]
    },
    {
     "name": "stdout",
     "output_type": "stream",
     "text": [
      "Saved CSV for feature index: 378\n",
      "Processing feature index: 379\n"
     ]
    },
    {
     "name": "stderr",
     "output_type": "stream",
     "text": [
      "/work/pi_hzhang2_umass_edu/jnainani_umass_edu/diffusion_policy_interp/diffusion_policy/env/pusht/pymunk_keypoint_manager.py:37: MatplotlibDeprecationWarning: The get_cmap function was deprecated in Matplotlib 3.7 and will be removed two minor releases later. Use ``matplotlib.colormaps[name]`` or ``matplotlib.colormaps.get_cmap(obj)`` instead.\n",
      "  cmap = cm.get_cmap('tab10')\n"
     ]
    },
    {
     "name": "stdout",
     "output_type": "stream",
     "text": [
      "Saved CSV for feature index: 379\n",
      "Processing feature index: 380\n"
     ]
    },
    {
     "name": "stderr",
     "output_type": "stream",
     "text": [
      "/work/pi_hzhang2_umass_edu/jnainani_umass_edu/diffusion_policy_interp/diffusion_policy/env/pusht/pymunk_keypoint_manager.py:37: MatplotlibDeprecationWarning: The get_cmap function was deprecated in Matplotlib 3.7 and will be removed two minor releases later. Use ``matplotlib.colormaps[name]`` or ``matplotlib.colormaps.get_cmap(obj)`` instead.\n",
      "  cmap = cm.get_cmap('tab10')\n"
     ]
    },
    {
     "name": "stdout",
     "output_type": "stream",
     "text": [
      "Saved CSV for feature index: 380\n",
      "Processing feature index: 381\n",
      "Skipping feature  381\n",
      "Processing feature index: 382\n",
      "Skipping feature  382\n",
      "Processing feature index: 383\n"
     ]
    },
    {
     "name": "stderr",
     "output_type": "stream",
     "text": [
      "/work/pi_hzhang2_umass_edu/jnainani_umass_edu/diffusion_policy_interp/diffusion_policy/env/pusht/pymunk_keypoint_manager.py:37: MatplotlibDeprecationWarning: The get_cmap function was deprecated in Matplotlib 3.7 and will be removed two minor releases later. Use ``matplotlib.colormaps[name]`` or ``matplotlib.colormaps.get_cmap(obj)`` instead.\n",
      "  cmap = cm.get_cmap('tab10')\n"
     ]
    },
    {
     "name": "stdout",
     "output_type": "stream",
     "text": [
      "Saved CSV for feature index: 383\n",
      "Processing feature index: 384\n",
      "Skipping feature 384 due to insufficient activations\n",
      "Processing feature index: 385\n",
      "Skipping feature  385\n",
      "Processing feature index: 386\n"
     ]
    },
    {
     "name": "stderr",
     "output_type": "stream",
     "text": [
      "/work/pi_hzhang2_umass_edu/jnainani_umass_edu/diffusion_policy_interp/diffusion_policy/env/pusht/pymunk_keypoint_manager.py:37: MatplotlibDeprecationWarning: The get_cmap function was deprecated in Matplotlib 3.7 and will be removed two minor releases later. Use ``matplotlib.colormaps[name]`` or ``matplotlib.colormaps.get_cmap(obj)`` instead.\n",
      "  cmap = cm.get_cmap('tab10')\n"
     ]
    },
    {
     "name": "stdout",
     "output_type": "stream",
     "text": [
      "Saved CSV for feature index: 386\n",
      "Processing feature index: 387\n",
      "Skipping feature  387\n",
      "Processing feature index: 388\n"
     ]
    },
    {
     "name": "stderr",
     "output_type": "stream",
     "text": [
      "/work/pi_hzhang2_umass_edu/jnainani_umass_edu/diffusion_policy_interp/diffusion_policy/env/pusht/pymunk_keypoint_manager.py:37: MatplotlibDeprecationWarning: The get_cmap function was deprecated in Matplotlib 3.7 and will be removed two minor releases later. Use ``matplotlib.colormaps[name]`` or ``matplotlib.colormaps.get_cmap(obj)`` instead.\n",
      "  cmap = cm.get_cmap('tab10')\n"
     ]
    },
    {
     "name": "stdout",
     "output_type": "stream",
     "text": [
      "Saved CSV for feature index: 388\n",
      "Processing feature index: 389\n"
     ]
    },
    {
     "name": "stderr",
     "output_type": "stream",
     "text": [
      "/work/pi_hzhang2_umass_edu/jnainani_umass_edu/diffusion_policy_interp/diffusion_policy/env/pusht/pymunk_keypoint_manager.py:37: MatplotlibDeprecationWarning: The get_cmap function was deprecated in Matplotlib 3.7 and will be removed two minor releases later. Use ``matplotlib.colormaps[name]`` or ``matplotlib.colormaps.get_cmap(obj)`` instead.\n",
      "  cmap = cm.get_cmap('tab10')\n"
     ]
    },
    {
     "name": "stdout",
     "output_type": "stream",
     "text": [
      "Saved CSV for feature index: 389\n",
      "Processing feature index: 390\n",
      "Skipping feature  390\n",
      "Processing feature index: 391\n"
     ]
    },
    {
     "name": "stderr",
     "output_type": "stream",
     "text": [
      "/work/pi_hzhang2_umass_edu/jnainani_umass_edu/diffusion_policy_interp/diffusion_policy/env/pusht/pymunk_keypoint_manager.py:37: MatplotlibDeprecationWarning: The get_cmap function was deprecated in Matplotlib 3.7 and will be removed two minor releases later. Use ``matplotlib.colormaps[name]`` or ``matplotlib.colormaps.get_cmap(obj)`` instead.\n",
      "  cmap = cm.get_cmap('tab10')\n"
     ]
    },
    {
     "name": "stdout",
     "output_type": "stream",
     "text": [
      "Saved CSV for feature index: 391\n",
      "Processing feature index: 392\n"
     ]
    },
    {
     "name": "stderr",
     "output_type": "stream",
     "text": [
      "/work/pi_hzhang2_umass_edu/jnainani_umass_edu/diffusion_policy_interp/diffusion_policy/env/pusht/pymunk_keypoint_manager.py:37: MatplotlibDeprecationWarning: The get_cmap function was deprecated in Matplotlib 3.7 and will be removed two minor releases later. Use ``matplotlib.colormaps[name]`` or ``matplotlib.colormaps.get_cmap(obj)`` instead.\n",
      "  cmap = cm.get_cmap('tab10')\n"
     ]
    },
    {
     "name": "stdout",
     "output_type": "stream",
     "text": [
      "Saved CSV for feature index: 392\n",
      "Processing feature index: 393\n",
      "Skipping feature 393 due to insufficient activations\n",
      "Processing feature index: 394\n",
      "Skipping feature  394\n",
      "Processing feature index: 395\n",
      "Skipping feature 395 due to insufficient activations\n",
      "Processing feature index: 396\n",
      "Skipping feature  396\n",
      "Processing feature index: 397\n",
      "Skipping feature 397 due to insufficient activations\n",
      "Processing feature index: 398\n",
      "Skipping feature  398\n",
      "Processing feature index: 399\n"
     ]
    },
    {
     "name": "stderr",
     "output_type": "stream",
     "text": [
      "/work/pi_hzhang2_umass_edu/jnainani_umass_edu/diffusion_policy_interp/diffusion_policy/env/pusht/pymunk_keypoint_manager.py:37: MatplotlibDeprecationWarning: The get_cmap function was deprecated in Matplotlib 3.7 and will be removed two minor releases later. Use ``matplotlib.colormaps[name]`` or ``matplotlib.colormaps.get_cmap(obj)`` instead.\n",
      "  cmap = cm.get_cmap('tab10')\n"
     ]
    },
    {
     "name": "stdout",
     "output_type": "stream",
     "text": [
      "Saved CSV for feature index: 399\n",
      "Processing feature index: 400\n",
      "Skipping feature  400\n",
      "Processing feature index: 401\n",
      "Skipping feature  401\n",
      "Processing feature index: 402\n",
      "Skipping feature  402\n",
      "Processing feature index: 403\n"
     ]
    },
    {
     "name": "stderr",
     "output_type": "stream",
     "text": [
      "/work/pi_hzhang2_umass_edu/jnainani_umass_edu/diffusion_policy_interp/diffusion_policy/env/pusht/pymunk_keypoint_manager.py:37: MatplotlibDeprecationWarning: The get_cmap function was deprecated in Matplotlib 3.7 and will be removed two minor releases later. Use ``matplotlib.colormaps[name]`` or ``matplotlib.colormaps.get_cmap(obj)`` instead.\n",
      "  cmap = cm.get_cmap('tab10')\n"
     ]
    },
    {
     "name": "stdout",
     "output_type": "stream",
     "text": [
      "Saved CSV for feature index: 403\n",
      "Processing feature index: 404\n",
      "Skipping feature  404\n",
      "Processing feature index: 405\n"
     ]
    },
    {
     "name": "stderr",
     "output_type": "stream",
     "text": [
      "/work/pi_hzhang2_umass_edu/jnainani_umass_edu/diffusion_policy_interp/diffusion_policy/env/pusht/pymunk_keypoint_manager.py:37: MatplotlibDeprecationWarning: The get_cmap function was deprecated in Matplotlib 3.7 and will be removed two minor releases later. Use ``matplotlib.colormaps[name]`` or ``matplotlib.colormaps.get_cmap(obj)`` instead.\n",
      "  cmap = cm.get_cmap('tab10')\n"
     ]
    },
    {
     "name": "stdout",
     "output_type": "stream",
     "text": [
      "Saved CSV for feature index: 405\n",
      "Processing feature index: 406\n"
     ]
    },
    {
     "name": "stderr",
     "output_type": "stream",
     "text": [
      "/work/pi_hzhang2_umass_edu/jnainani_umass_edu/diffusion_policy_interp/diffusion_policy/env/pusht/pymunk_keypoint_manager.py:37: MatplotlibDeprecationWarning: The get_cmap function was deprecated in Matplotlib 3.7 and will be removed two minor releases later. Use ``matplotlib.colormaps[name]`` or ``matplotlib.colormaps.get_cmap(obj)`` instead.\n",
      "  cmap = cm.get_cmap('tab10')\n"
     ]
    },
    {
     "name": "stdout",
     "output_type": "stream",
     "text": [
      "Saved CSV for feature index: 406\n",
      "Processing feature index: 407\n",
      "Skipping feature 407 due to insufficient activations\n",
      "Processing feature index: 408\n",
      "Skipping feature  408\n",
      "Processing feature index: 409\n"
     ]
    },
    {
     "name": "stderr",
     "output_type": "stream",
     "text": [
      "/work/pi_hzhang2_umass_edu/jnainani_umass_edu/diffusion_policy_interp/diffusion_policy/env/pusht/pymunk_keypoint_manager.py:37: MatplotlibDeprecationWarning: The get_cmap function was deprecated in Matplotlib 3.7 and will be removed two minor releases later. Use ``matplotlib.colormaps[name]`` or ``matplotlib.colormaps.get_cmap(obj)`` instead.\n",
      "  cmap = cm.get_cmap('tab10')\n"
     ]
    },
    {
     "name": "stdout",
     "output_type": "stream",
     "text": [
      "Saved CSV for feature index: 409\n",
      "Processing feature index: 410\n",
      "Skipping feature  410\n",
      "Processing feature index: 411\n"
     ]
    },
    {
     "name": "stderr",
     "output_type": "stream",
     "text": [
      "/work/pi_hzhang2_umass_edu/jnainani_umass_edu/diffusion_policy_interp/diffusion_policy/env/pusht/pymunk_keypoint_manager.py:37: MatplotlibDeprecationWarning: The get_cmap function was deprecated in Matplotlib 3.7 and will be removed two minor releases later. Use ``matplotlib.colormaps[name]`` or ``matplotlib.colormaps.get_cmap(obj)`` instead.\n",
      "  cmap = cm.get_cmap('tab10')\n"
     ]
    },
    {
     "name": "stdout",
     "output_type": "stream",
     "text": [
      "Saved CSV for feature index: 411\n",
      "Processing feature index: 412\n",
      "Skipping feature  412\n",
      "Processing feature index: 413\n"
     ]
    },
    {
     "name": "stderr",
     "output_type": "stream",
     "text": [
      "/work/pi_hzhang2_umass_edu/jnainani_umass_edu/diffusion_policy_interp/diffusion_policy/env/pusht/pymunk_keypoint_manager.py:37: MatplotlibDeprecationWarning: The get_cmap function was deprecated in Matplotlib 3.7 and will be removed two minor releases later. Use ``matplotlib.colormaps[name]`` or ``matplotlib.colormaps.get_cmap(obj)`` instead.\n",
      "  cmap = cm.get_cmap('tab10')\n"
     ]
    },
    {
     "name": "stdout",
     "output_type": "stream",
     "text": [
      "Saved CSV for feature index: 413\n",
      "Processing feature index: 414\n",
      "Skipping feature  414\n",
      "Processing feature index: 415\n"
     ]
    },
    {
     "name": "stderr",
     "output_type": "stream",
     "text": [
      "/work/pi_hzhang2_umass_edu/jnainani_umass_edu/diffusion_policy_interp/diffusion_policy/env/pusht/pymunk_keypoint_manager.py:37: MatplotlibDeprecationWarning: The get_cmap function was deprecated in Matplotlib 3.7 and will be removed two minor releases later. Use ``matplotlib.colormaps[name]`` or ``matplotlib.colormaps.get_cmap(obj)`` instead.\n",
      "  cmap = cm.get_cmap('tab10')\n"
     ]
    },
    {
     "name": "stdout",
     "output_type": "stream",
     "text": [
      "Saved CSV for feature index: 415\n",
      "Processing feature index: 416\n",
      "Skipping feature  416\n",
      "Processing feature index: 417\n",
      "Skipping feature  417\n",
      "Processing feature index: 418\n",
      "Skipping feature  418\n",
      "Processing feature index: 419\n",
      "Skipping feature  419\n",
      "Processing feature index: 420\n",
      "Skipping feature  420\n",
      "Processing feature index: 421\n",
      "Skipping feature 421 due to insufficient activations\n",
      "Processing feature index: 422\n"
     ]
    },
    {
     "name": "stderr",
     "output_type": "stream",
     "text": [
      "/work/pi_hzhang2_umass_edu/jnainani_umass_edu/diffusion_policy_interp/diffusion_policy/env/pusht/pymunk_keypoint_manager.py:37: MatplotlibDeprecationWarning: The get_cmap function was deprecated in Matplotlib 3.7 and will be removed two minor releases later. Use ``matplotlib.colormaps[name]`` or ``matplotlib.colormaps.get_cmap(obj)`` instead.\n",
      "  cmap = cm.get_cmap('tab10')\n"
     ]
    },
    {
     "name": "stdout",
     "output_type": "stream",
     "text": [
      "Saved CSV for feature index: 422\n",
      "Processing feature index: 423\n"
     ]
    },
    {
     "name": "stderr",
     "output_type": "stream",
     "text": [
      "/work/pi_hzhang2_umass_edu/jnainani_umass_edu/diffusion_policy_interp/diffusion_policy/env/pusht/pymunk_keypoint_manager.py:37: MatplotlibDeprecationWarning: The get_cmap function was deprecated in Matplotlib 3.7 and will be removed two minor releases later. Use ``matplotlib.colormaps[name]`` or ``matplotlib.colormaps.get_cmap(obj)`` instead.\n",
      "  cmap = cm.get_cmap('tab10')\n"
     ]
    },
    {
     "name": "stdout",
     "output_type": "stream",
     "text": [
      "Saved CSV for feature index: 423\n",
      "Processing feature index: 424\n"
     ]
    },
    {
     "name": "stderr",
     "output_type": "stream",
     "text": [
      "/work/pi_hzhang2_umass_edu/jnainani_umass_edu/diffusion_policy_interp/diffusion_policy/env/pusht/pymunk_keypoint_manager.py:37: MatplotlibDeprecationWarning: The get_cmap function was deprecated in Matplotlib 3.7 and will be removed two minor releases later. Use ``matplotlib.colormaps[name]`` or ``matplotlib.colormaps.get_cmap(obj)`` instead.\n",
      "  cmap = cm.get_cmap('tab10')\n"
     ]
    },
    {
     "name": "stdout",
     "output_type": "stream",
     "text": [
      "Saved CSV for feature index: 424\n",
      "Processing feature index: 425\n"
     ]
    },
    {
     "name": "stderr",
     "output_type": "stream",
     "text": [
      "/work/pi_hzhang2_umass_edu/jnainani_umass_edu/diffusion_policy_interp/diffusion_policy/env/pusht/pymunk_keypoint_manager.py:37: MatplotlibDeprecationWarning: The get_cmap function was deprecated in Matplotlib 3.7 and will be removed two minor releases later. Use ``matplotlib.colormaps[name]`` or ``matplotlib.colormaps.get_cmap(obj)`` instead.\n",
      "  cmap = cm.get_cmap('tab10')\n"
     ]
    },
    {
     "name": "stdout",
     "output_type": "stream",
     "text": [
      "Saved CSV for feature index: 425\n",
      "Processing feature index: 426\n",
      "Skipping feature  426\n",
      "Processing feature index: 427\n",
      "Skipping feature  427\n",
      "Processing feature index: 428\n",
      "Skipping feature 428 due to insufficient activations\n",
      "Processing feature index: 429\n",
      "Skipping feature  429\n",
      "Processing feature index: 430\n",
      "Skipping feature 430 due to insufficient activations\n",
      "Processing feature index: 431\n",
      "Skipping feature 431 due to insufficient activations\n",
      "Processing feature index: 432\n",
      "Skipping feature  432\n",
      "Processing feature index: 433\n"
     ]
    },
    {
     "name": "stderr",
     "output_type": "stream",
     "text": [
      "/work/pi_hzhang2_umass_edu/jnainani_umass_edu/diffusion_policy_interp/diffusion_policy/env/pusht/pymunk_keypoint_manager.py:37: MatplotlibDeprecationWarning: The get_cmap function was deprecated in Matplotlib 3.7 and will be removed two minor releases later. Use ``matplotlib.colormaps[name]`` or ``matplotlib.colormaps.get_cmap(obj)`` instead.\n",
      "  cmap = cm.get_cmap('tab10')\n"
     ]
    },
    {
     "name": "stdout",
     "output_type": "stream",
     "text": [
      "Saved CSV for feature index: 433\n",
      "Processing feature index: 434\n",
      "Skipping feature  434\n",
      "Processing feature index: 435\n",
      "Skipping feature  435\n",
      "Processing feature index: 436\n"
     ]
    },
    {
     "name": "stderr",
     "output_type": "stream",
     "text": [
      "/work/pi_hzhang2_umass_edu/jnainani_umass_edu/diffusion_policy_interp/diffusion_policy/env/pusht/pymunk_keypoint_manager.py:37: MatplotlibDeprecationWarning: The get_cmap function was deprecated in Matplotlib 3.7 and will be removed two minor releases later. Use ``matplotlib.colormaps[name]`` or ``matplotlib.colormaps.get_cmap(obj)`` instead.\n",
      "  cmap = cm.get_cmap('tab10')\n"
     ]
    },
    {
     "name": "stdout",
     "output_type": "stream",
     "text": [
      "Saved CSV for feature index: 436\n",
      "Processing feature index: 437\n",
      "Skipping feature  437\n",
      "Processing feature index: 438\n"
     ]
    },
    {
     "name": "stderr",
     "output_type": "stream",
     "text": [
      "/work/pi_hzhang2_umass_edu/jnainani_umass_edu/diffusion_policy_interp/diffusion_policy/env/pusht/pymunk_keypoint_manager.py:37: MatplotlibDeprecationWarning: The get_cmap function was deprecated in Matplotlib 3.7 and will be removed two minor releases later. Use ``matplotlib.colormaps[name]`` or ``matplotlib.colormaps.get_cmap(obj)`` instead.\n",
      "  cmap = cm.get_cmap('tab10')\n"
     ]
    },
    {
     "name": "stdout",
     "output_type": "stream",
     "text": [
      "Saved CSV for feature index: 438\n",
      "Processing feature index: 439\n",
      "Skipping feature  439\n",
      "Processing feature index: 440\n",
      "Skipping feature  440\n",
      "Processing feature index: 441\n",
      "Skipping feature  441\n",
      "Processing feature index: 442\n"
     ]
    },
    {
     "name": "stderr",
     "output_type": "stream",
     "text": [
      "/work/pi_hzhang2_umass_edu/jnainani_umass_edu/diffusion_policy_interp/diffusion_policy/env/pusht/pymunk_keypoint_manager.py:37: MatplotlibDeprecationWarning: The get_cmap function was deprecated in Matplotlib 3.7 and will be removed two minor releases later. Use ``matplotlib.colormaps[name]`` or ``matplotlib.colormaps.get_cmap(obj)`` instead.\n",
      "  cmap = cm.get_cmap('tab10')\n"
     ]
    },
    {
     "name": "stdout",
     "output_type": "stream",
     "text": [
      "Saved CSV for feature index: 442\n",
      "Processing feature index: 443\n",
      "Skipping feature  443\n",
      "Processing feature index: 444\n",
      "Skipping feature  444\n",
      "Processing feature index: 445\n",
      "Skipping feature  445\n",
      "Processing feature index: 446\n",
      "Skipping feature  446\n",
      "Processing feature index: 447\n"
     ]
    },
    {
     "name": "stderr",
     "output_type": "stream",
     "text": [
      "/work/pi_hzhang2_umass_edu/jnainani_umass_edu/diffusion_policy_interp/diffusion_policy/env/pusht/pymunk_keypoint_manager.py:37: MatplotlibDeprecationWarning: The get_cmap function was deprecated in Matplotlib 3.7 and will be removed two minor releases later. Use ``matplotlib.colormaps[name]`` or ``matplotlib.colormaps.get_cmap(obj)`` instead.\n",
      "  cmap = cm.get_cmap('tab10')\n"
     ]
    }
   ],
   "source": [
    "\n",
    "# Process each selected feature index\n",
    "for feature_idx in range(1024):\n",
    "    print(f\"Processing feature index: {feature_idx}\")\n",
    "    results = []\n",
    "    try:\n",
    "        top_activations = better_acts.sort_values(\n",
    "    f\"feature_{feature_idx}\", ascending=False).head(20)\n",
    "    except Exception as e:\n",
    "        print(\"Skipping feature \", feature_idx)\n",
    "        continue\n",
    "    latent_df = top_activations[['seed', 'step_idx', 'timestep', f'feature_{feature_idx}']]\n",
    "    non_na_count = better_acts[f\"feature_{feature_idx}\"].notna().sum()\n",
    "    if non_na_count < 50:\n",
    "        print(f\"Skipping feature {feature_idx} due to insufficient activations\")\n",
    "        continue\n",
    "    for idx, row in latent_df.iterrows():\n",
    "        stats = compute_stats(row, policy)\n",
    "        results.append(stats)\n",
    "    # Convert the results into a DataFrame\n",
    "    results_df = pd.DataFrame(results).sort_values(\"activation\", ascending=False)\n",
    "    # Reduce precision of numerical values to 3 significant digits\n",
    "    results_df = results_df.apply(\n",
    "        lambda col: col.map(round_to_significant_digits) if col.dtype in [np.float64, np.int64] else col\n",
    "    )\n",
    "    # Save the DataFrame to a CSV file\n",
    "    results_df.to_csv(f\"sae_analysis/out/new/f{feature_idx}_stats.csv\", index=False)\n",
    "    print(f\"Saved CSV for feature index: {feature_idx}\")"
   ]
  },
  {
   "cell_type": "code",
   "execution_count": 46,
   "metadata": {},
   "outputs": [
    {
     "name": "stdout",
     "output_type": "stream",
     "text": [
      "Feature index: 3, Non-NA count: 3544\n",
      "Feature index: 7, Non-NA count: 7021\n",
      "Feature index: 24, Non-NA count: 17544\n",
      "Feature index: 28, Non-NA count: 47710\n",
      "Feature index: 29, Non-NA count: 6710\n",
      "Feature index: 31, Non-NA count: 67513\n",
      "Feature index: 32, Non-NA count: 9410\n",
      "Feature index: 36, Non-NA count: 41979\n",
      "Feature index: 37, Non-NA count: 57584\n",
      "Feature index: 43, Non-NA count: 35474\n",
      "Feature index: 48, Non-NA count: 60998\n",
      "Feature index: 52, Non-NA count: 31319\n",
      "Feature index: 55, Non-NA count: 15555\n",
      "Feature index: 60, Non-NA count: 56945\n",
      "Feature index: 63, Non-NA count: 13894\n",
      "Feature index: 66, Non-NA count: 3896\n",
      "Feature index: 74, Non-NA count: 60206\n",
      "Feature index: 75, Non-NA count: 64757\n",
      "Feature index: 79, Non-NA count: 16292\n",
      "Feature index: 81, Non-NA count: 46016\n",
      "Feature index: 84, Non-NA count: 45516\n",
      "Feature index: 90, Non-NA count: 31281\n",
      "Feature index: 93, Non-NA count: 608\n",
      "Feature index: 98, Non-NA count: 39123\n",
      "Feature index: 101, Non-NA count: 14618\n",
      "Feature index: 105, Non-NA count: 71155\n",
      "Feature index: 107, Non-NA count: 26060\n",
      "Feature index: 112, Non-NA count: 15891\n",
      "Feature index: 113, Non-NA count: 18549\n",
      "Feature index: 114, Non-NA count: 71554\n",
      "Feature index: 115, Non-NA count: 41177\n",
      "Feature index: 116, Non-NA count: 20837\n",
      "Feature index: 119, Non-NA count: 63924\n",
      "Feature index: 120, Non-NA count: 8469\n",
      "Feature index: 121, Non-NA count: 20996\n",
      "Feature index: 125, Non-NA count: 57240\n",
      "Feature index: 127, Non-NA count: 27879\n",
      "Feature index: 128, Non-NA count: 11113\n",
      "Feature index: 134, Non-NA count: 28441\n",
      "Feature index: 136, Non-NA count: 41850\n",
      "Feature index: 137, Non-NA count: 61157\n",
      "Feature index: 138, Non-NA count: 10764\n",
      "Feature index: 140, Non-NA count: 5790\n",
      "Feature index: 142, Non-NA count: 13684\n",
      "Feature index: 144, Non-NA count: 11315\n",
      "Feature index: 146, Non-NA count: 69145\n",
      "Feature index: 149, Non-NA count: 2387\n",
      "Feature index: 150, Non-NA count: 51562\n",
      "Feature index: 151, Non-NA count: 58005\n",
      "Feature index: 152, Non-NA count: 43944\n",
      "Feature index: 155, Non-NA count: 77327\n",
      "Feature index: 159, Non-NA count: 42879\n",
      "Feature index: 160, Non-NA count: 74997\n",
      "Feature index: 163, Non-NA count: 71339\n",
      "Feature index: 165, Non-NA count: 9465\n",
      "Feature index: 166, Non-NA count: 59310\n",
      "Feature index: 167, Non-NA count: 8326\n",
      "Feature index: 169, Non-NA count: 72289\n",
      "Feature index: 171, Non-NA count: 75860\n",
      "Feature index: 172, Non-NA count: 60893\n",
      "Feature index: 174, Non-NA count: 14250\n",
      "Feature index: 175, Non-NA count: 59356\n",
      "Feature index: 176, Non-NA count: 21936\n",
      "Feature index: 178, Non-NA count: 57247\n",
      "Feature index: 181, Non-NA count: 74171\n",
      "Feature index: 182, Non-NA count: 49719\n",
      "Feature index: 183, Non-NA count: 9429\n",
      "Feature index: 186, Non-NA count: 19494\n",
      "Feature index: 189, Non-NA count: 13154\n",
      "Feature index: 192, Non-NA count: 73947\n",
      "Feature index: 200, Non-NA count: 15348\n",
      "Feature index: 202, Non-NA count: 4073\n",
      "Feature index: 203, Non-NA count: 57616\n",
      "Feature index: 204, Non-NA count: 47217\n",
      "Feature index: 205, Non-NA count: 18998\n",
      "Feature index: 206, Non-NA count: 4993\n",
      "Feature index: 207, Non-NA count: 54487\n",
      "Feature index: 210, Non-NA count: 12\n",
      "Feature index: 211, Non-NA count: 16188\n",
      "Feature index: 214, Non-NA count: 7327\n",
      "Feature index: 216, Non-NA count: 35156\n",
      "Feature index: 225, Non-NA count: 50731\n",
      "Feature index: 227, Non-NA count: 56114\n",
      "Feature index: 233, Non-NA count: 23104\n",
      "Feature index: 238, Non-NA count: 71109\n",
      "Feature index: 241, Non-NA count: 59754\n",
      "Feature index: 242, Non-NA count: 31579\n",
      "Feature index: 244, Non-NA count: 66689\n",
      "Feature index: 246, Non-NA count: 43807\n",
      "Feature index: 249, Non-NA count: 109\n",
      "Feature index: 251, Non-NA count: 82695\n",
      "Feature index: 257, Non-NA count: 11966\n",
      "Feature index: 260, Non-NA count: 50183\n",
      "Feature index: 266, Non-NA count: 68219\n",
      "Feature index: 269, Non-NA count: 40103\n",
      "Feature index: 270, Non-NA count: 23184\n",
      "Feature index: 273, Non-NA count: 61557\n",
      "Feature index: 276, Non-NA count: 50286\n",
      "Feature index: 277, Non-NA count: 41366\n",
      "Feature index: 278, Non-NA count: 67774\n",
      "Feature index: 280, Non-NA count: 10834\n",
      "Feature index: 281, Non-NA count: 63782\n",
      "Feature index: 282, Non-NA count: 8035\n",
      "Feature index: 284, Non-NA count: 65906\n",
      "Feature index: 286, Non-NA count: 14460\n",
      "Feature index: 287, Non-NA count: 18674\n",
      "Feature index: 290, Non-NA count: 20\n",
      "Feature index: 292, Non-NA count: 45465\n",
      "Feature index: 293, Non-NA count: 47887\n",
      "Feature index: 296, Non-NA count: 7831\n",
      "Feature index: 307, Non-NA count: 4937\n",
      "Feature index: 310, Non-NA count: 29335\n",
      "Feature index: 315, Non-NA count: 78906\n",
      "Feature index: 318, Non-NA count: 19354\n",
      "Feature index: 321, Non-NA count: 7598\n",
      "Feature index: 323, Non-NA count: 35504\n",
      "Feature index: 326, Non-NA count: 66194\n",
      "Feature index: 330, Non-NA count: 50233\n",
      "Feature index: 334, Non-NA count: 18761\n",
      "Feature index: 337, Non-NA count: 64926\n",
      "Feature index: 339, Non-NA count: 72661\n",
      "Feature index: 342, Non-NA count: 46196\n",
      "Feature index: 346, Non-NA count: 33113\n",
      "Feature index: 347, Non-NA count: 23122\n",
      "Feature index: 348, Non-NA count: 35\n",
      "Feature index: 349, Non-NA count: 5143\n",
      "Feature index: 352, Non-NA count: 48848\n",
      "Feature index: 354, Non-NA count: 14643\n",
      "Feature index: 355, Non-NA count: 43790\n",
      "Feature index: 358, Non-NA count: 58517\n",
      "Feature index: 362, Non-NA count: 47864\n",
      "Feature index: 365, Non-NA count: 43640\n",
      "Feature index: 370, Non-NA count: 10398\n",
      "Feature index: 372, Non-NA count: 13817\n",
      "Feature index: 376, Non-NA count: 28957\n",
      "Feature index: 377, Non-NA count: 17256\n",
      "Feature index: 378, Non-NA count: 46073\n",
      "Feature index: 379, Non-NA count: 19018\n",
      "Feature index: 380, Non-NA count: 75771\n",
      "Feature index: 383, Non-NA count: 18504\n",
      "Feature index: 386, Non-NA count: 15493\n",
      "Feature index: 388, Non-NA count: 45168\n",
      "Feature index: 389, Non-NA count: 9762\n",
      "Feature index: 391, Non-NA count: 39589\n",
      "Feature index: 392, Non-NA count: 60744\n",
      "Feature index: 399, Non-NA count: 45171\n",
      "Feature index: 403, Non-NA count: 37051\n",
      "Feature index: 405, Non-NA count: 48289\n",
      "Feature index: 406, Non-NA count: 52844\n",
      "Feature index: 409, Non-NA count: 41631\n",
      "Feature index: 411, Non-NA count: 12217\n",
      "Feature index: 413, Non-NA count: 41921\n",
      "Feature index: 415, Non-NA count: 9328\n",
      "Feature index: 422, Non-NA count: 42412\n",
      "Feature index: 423, Non-NA count: 39689\n",
      "Feature index: 424, Non-NA count: 71519\n",
      "Feature index: 425, Non-NA count: 58254\n",
      "Feature index: 431, Non-NA count: 34\n",
      "Feature index: 433, Non-NA count: 69772\n",
      "Feature index: 436, Non-NA count: 18654\n",
      "Feature index: 438, Non-NA count: 28649\n",
      "Feature index: 442, Non-NA count: 42515\n",
      "Feature index: 447, Non-NA count: 20383\n",
      "Feature index: 453, Non-NA count: 50700\n",
      "Feature index: 456, Non-NA count: 67238\n",
      "Feature index: 457, Non-NA count: 49921\n",
      "Feature index: 458, Non-NA count: 79011\n",
      "Feature index: 459, Non-NA count: 69603\n",
      "Feature index: 461, Non-NA count: 46703\n",
      "Feature index: 463, Non-NA count: 35281\n",
      "Feature index: 467, Non-NA count: 48861\n",
      "Feature index: 471, Non-NA count: 40932\n",
      "Feature index: 472, Non-NA count: 27564\n",
      "Feature index: 475, Non-NA count: 15051\n",
      "Feature index: 476, Non-NA count: 45196\n",
      "Feature index: 478, Non-NA count: 30783\n",
      "Feature index: 479, Non-NA count: 33844\n",
      "Feature index: 480, Non-NA count: 15564\n",
      "Feature index: 481, Non-NA count: 58983\n",
      "Feature index: 492, Non-NA count: 47403\n",
      "Feature index: 494, Non-NA count: 61833\n",
      "Feature index: 499, Non-NA count: 21153\n",
      "Feature index: 505, Non-NA count: 16686\n",
      "Feature index: 508, Non-NA count: 34444\n",
      "Feature index: 509, Non-NA count: 36232\n",
      "Feature index: 510, Non-NA count: 79129\n",
      "Feature index: 513, Non-NA count: 2674\n",
      "Feature index: 516, Non-NA count: 32554\n",
      "Feature index: 517, Non-NA count: 73845\n",
      "Feature index: 521, Non-NA count: 63957\n",
      "Feature index: 523, Non-NA count: 79908\n",
      "Feature index: 524, Non-NA count: 1851\n",
      "Feature index: 527, Non-NA count: 458\n",
      "Feature index: 530, Non-NA count: 22380\n",
      "Feature index: 542, Non-NA count: 706\n",
      "Feature index: 543, Non-NA count: 52752\n",
      "Feature index: 547, Non-NA count: 15267\n",
      "Feature index: 549, Non-NA count: 17424\n",
      "Feature index: 552, Non-NA count: 64402\n",
      "Feature index: 556, Non-NA count: 5710\n",
      "Feature index: 557, Non-NA count: 47109\n",
      "Feature index: 558, Non-NA count: 60454\n",
      "Feature index: 560, Non-NA count: 3244\n",
      "Feature index: 563, Non-NA count: 53630\n",
      "Feature index: 564, Non-NA count: 43041\n",
      "Feature index: 569, Non-NA count: 26228\n",
      "Feature index: 572, Non-NA count: 53076\n",
      "Feature index: 573, Non-NA count: 16\n",
      "Feature index: 574, Non-NA count: 56158\n",
      "Feature index: 575, Non-NA count: 40708\n",
      "Feature index: 582, Non-NA count: 38656\n",
      "Feature index: 583, Non-NA count: 24600\n",
      "Feature index: 588, Non-NA count: 12420\n",
      "Feature index: 592, Non-NA count: 36367\n",
      "Feature index: 594, Non-NA count: 1041\n",
      "Feature index: 595, Non-NA count: 55494\n",
      "Feature index: 596, Non-NA count: 5408\n",
      "Feature index: 597, Non-NA count: 59039\n",
      "Feature index: 598, Non-NA count: 35885\n",
      "Feature index: 603, Non-NA count: 2598\n",
      "Feature index: 604, Non-NA count: 8583\n",
      "Feature index: 605, Non-NA count: 64708\n",
      "Feature index: 610, Non-NA count: 79307\n",
      "Feature index: 612, Non-NA count: 32875\n",
      "Feature index: 613, Non-NA count: 42445\n",
      "Feature index: 615, Non-NA count: 3670\n",
      "Feature index: 617, Non-NA count: 15075\n",
      "Feature index: 618, Non-NA count: 48\n",
      "Feature index: 621, Non-NA count: 63366\n",
      "Feature index: 624, Non-NA count: 11479\n",
      "Feature index: 626, Non-NA count: 112\n",
      "Feature index: 630, Non-NA count: 15749\n",
      "Feature index: 631, Non-NA count: 13679\n",
      "Feature index: 636, Non-NA count: 64349\n",
      "Feature index: 637, Non-NA count: 3070\n",
      "Feature index: 638, Non-NA count: 15315\n",
      "Feature index: 639, Non-NA count: 908\n",
      "Feature index: 641, Non-NA count: 62493\n",
      "Feature index: 647, Non-NA count: 63826\n",
      "Feature index: 648, Non-NA count: 31545\n",
      "Feature index: 652, Non-NA count: 19907\n",
      "Feature index: 656, Non-NA count: 24249\n",
      "Feature index: 657, Non-NA count: 7971\n",
      "Feature index: 661, Non-NA count: 66575\n",
      "Feature index: 666, Non-NA count: 33612\n",
      "Feature index: 667, Non-NA count: 7276\n",
      "Feature index: 669, Non-NA count: 34404\n",
      "Feature index: 679, Non-NA count: 62805\n",
      "Feature index: 683, Non-NA count: 40\n",
      "Feature index: 685, Non-NA count: 11\n",
      "Feature index: 686, Non-NA count: 46554\n",
      "Feature index: 688, Non-NA count: 25024\n",
      "Feature index: 690, Non-NA count: 59219\n",
      "Feature index: 694, Non-NA count: 53292\n",
      "Feature index: 696, Non-NA count: 58195\n",
      "Feature index: 710, Non-NA count: 12259\n",
      "Feature index: 713, Non-NA count: 1559\n",
      "Feature index: 714, Non-NA count: 24735\n",
      "Feature index: 715, Non-NA count: 15804\n",
      "Feature index: 718, Non-NA count: 431\n",
      "Feature index: 724, Non-NA count: 11545\n",
      "Feature index: 729, Non-NA count: 68603\n",
      "Feature index: 733, Non-NA count: 1246\n",
      "Feature index: 735, Non-NA count: 23\n",
      "Feature index: 736, Non-NA count: 9535\n",
      "Feature index: 737, Non-NA count: 77969\n",
      "Feature index: 738, Non-NA count: 170\n",
      "Feature index: 742, Non-NA count: 64289\n",
      "Feature index: 743, Non-NA count: 62215\n",
      "Feature index: 744, Non-NA count: 54968\n",
      "Feature index: 750, Non-NA count: 19238\n",
      "Feature index: 751, Non-NA count: 21\n",
      "Feature index: 753, Non-NA count: 72848\n",
      "Feature index: 754, Non-NA count: 63219\n",
      "Feature index: 756, Non-NA count: 58500\n",
      "Feature index: 758, Non-NA count: 51139\n",
      "Feature index: 761, Non-NA count: 20803\n",
      "Feature index: 762, Non-NA count: 57236\n",
      "Feature index: 763, Non-NA count: 35235\n",
      "Feature index: 764, Non-NA count: 68430\n",
      "Feature index: 766, Non-NA count: 45788\n",
      "Feature index: 767, Non-NA count: 49549\n",
      "Feature index: 768, Non-NA count: 4817\n",
      "Feature index: 769, Non-NA count: 51508\n",
      "Feature index: 772, Non-NA count: 56602\n",
      "Feature index: 776, Non-NA count: 63906\n",
      "Feature index: 779, Non-NA count: 8525\n",
      "Feature index: 780, Non-NA count: 2989\n",
      "Feature index: 781, Non-NA count: 26\n",
      "Feature index: 782, Non-NA count: 10221\n",
      "Feature index: 784, Non-NA count: 31680\n",
      "Feature index: 788, Non-NA count: 30772\n",
      "Feature index: 789, Non-NA count: 3799\n",
      "Feature index: 796, Non-NA count: 60066\n",
      "Feature index: 798, Non-NA count: 4340\n",
      "Feature index: 799, Non-NA count: 32439\n",
      "Feature index: 803, Non-NA count: 38917\n",
      "Feature index: 804, Non-NA count: 16\n",
      "Feature index: 810, Non-NA count: 25814\n",
      "Feature index: 811, Non-NA count: 26088\n",
      "Feature index: 814, Non-NA count: 70\n",
      "Feature index: 822, Non-NA count: 19292\n",
      "Feature index: 823, Non-NA count: 505\n",
      "Feature index: 824, Non-NA count: 48095\n",
      "Feature index: 825, Non-NA count: 52601\n",
      "Feature index: 828, Non-NA count: 46311\n",
      "Feature index: 829, Non-NA count: 49706\n",
      "Feature index: 836, Non-NA count: 28215\n",
      "Feature index: 847, Non-NA count: 14619\n",
      "Feature index: 849, Non-NA count: 15799\n",
      "Feature index: 851, Non-NA count: 5966\n",
      "Feature index: 852, Non-NA count: 60806\n",
      "Feature index: 853, Non-NA count: 6105\n",
      "Feature index: 854, Non-NA count: 22522\n",
      "Feature index: 855, Non-NA count: 7152\n",
      "Feature index: 857, Non-NA count: 67649\n",
      "Feature index: 861, Non-NA count: 22637\n",
      "Feature index: 862, Non-NA count: 54786\n",
      "Feature index: 865, Non-NA count: 825\n",
      "Feature index: 868, Non-NA count: 72291\n",
      "Feature index: 870, Non-NA count: 623\n",
      "Feature index: 872, Non-NA count: 52332\n",
      "Feature index: 875, Non-NA count: 94628\n",
      "Feature index: 877, Non-NA count: 71484\n",
      "Feature index: 878, Non-NA count: 23070\n",
      "Feature index: 885, Non-NA count: 35868\n",
      "Feature index: 886, Non-NA count: 43275\n",
      "Feature index: 893, Non-NA count: 2500\n",
      "Feature index: 895, Non-NA count: 35316\n",
      "Feature index: 903, Non-NA count: 5521\n",
      "Feature index: 905, Non-NA count: 42627\n",
      "Feature index: 907, Non-NA count: 36049\n",
      "Feature index: 909, Non-NA count: 50504\n",
      "Feature index: 913, Non-NA count: 16163\n",
      "Feature index: 917, Non-NA count: 49718\n",
      "Feature index: 920, Non-NA count: 73038\n",
      "Feature index: 921, Non-NA count: 86555\n",
      "Feature index: 922, Non-NA count: 12656\n",
      "Feature index: 932, Non-NA count: 24367\n",
      "Feature index: 934, Non-NA count: 39971\n",
      "Feature index: 935, Non-NA count: 33895\n",
      "Feature index: 938, Non-NA count: 12\n",
      "Feature index: 939, Non-NA count: 5464\n",
      "Feature index: 942, Non-NA count: 6613\n",
      "Feature index: 946, Non-NA count: 56171\n",
      "Feature index: 947, Non-NA count: 33304\n",
      "Feature index: 948, Non-NA count: 12807\n",
      "Feature index: 949, Non-NA count: 38943\n",
      "Feature index: 951, Non-NA count: 52084\n",
      "Feature index: 960, Non-NA count: 2020\n",
      "Feature index: 963, Non-NA count: 9194\n",
      "Feature index: 968, Non-NA count: 9644\n",
      "Feature index: 969, Non-NA count: 21390\n",
      "Feature index: 970, Non-NA count: 36448\n",
      "Feature index: 975, Non-NA count: 61899\n",
      "Feature index: 979, Non-NA count: 47624\n",
      "Feature index: 980, Non-NA count: 49123\n",
      "Feature index: 981, Non-NA count: 48875\n",
      "Feature index: 986, Non-NA count: 57330\n",
      "Feature index: 990, Non-NA count: 19032\n",
      "Feature index: 995, Non-NA count: 2348\n",
      "Feature index: 997, Non-NA count: 15\n",
      "Feature index: 1000, Non-NA count: 27104\n",
      "Feature index: 1001, Non-NA count: 34323\n",
      "Feature index: 1003, Non-NA count: 36955\n",
      "Feature index: 1013, Non-NA count: 62460\n",
      "Feature index: 1014, Non-NA count: 42877\n",
      "Feature index: 1016, Non-NA count: 16271\n",
      "Feature index: 1029, Non-NA count: 29384\n",
      "Feature index: 1034, Non-NA count: 63936\n",
      "Feature index: 1037, Non-NA count: 30\n",
      "Feature index: 1043, Non-NA count: 16743\n",
      "Feature index: 1046, Non-NA count: 439\n",
      "Feature index: 1049, Non-NA count: 52565\n",
      "Feature index: 1050, Non-NA count: 43508\n",
      "Feature index: 1051, Non-NA count: 112\n",
      "Feature index: 1055, Non-NA count: 9984\n",
      "Feature index: 1056, Non-NA count: 35399\n",
      "Feature index: 1057, Non-NA count: 21643\n",
      "Feature index: 1061, Non-NA count: 46487\n",
      "Feature index: 1062, Non-NA count: 40132\n",
      "Feature index: 1063, Non-NA count: 50491\n",
      "Feature index: 1065, Non-NA count: 68730\n",
      "Feature index: 1066, Non-NA count: 304\n",
      "Feature index: 1068, Non-NA count: 58846\n",
      "Feature index: 1074, Non-NA count: 71971\n",
      "Feature index: 1076, Non-NA count: 55339\n",
      "Feature index: 1079, Non-NA count: 38510\n",
      "Feature index: 1080, Non-NA count: 13233\n",
      "Feature index: 1082, Non-NA count: 31162\n",
      "Feature index: 1085, Non-NA count: 65514\n",
      "Feature index: 1086, Non-NA count: 29725\n",
      "Feature index: 1087, Non-NA count: 49745\n",
      "Feature index: 1088, Non-NA count: 321\n",
      "Feature index: 1089, Non-NA count: 12571\n",
      "Feature index: 1092, Non-NA count: 63205\n",
      "Feature index: 1093, Non-NA count: 59650\n",
      "Feature index: 1094, Non-NA count: 81837\n",
      "Feature index: 1096, Non-NA count: 58943\n",
      "Feature index: 1097, Non-NA count: 15818\n",
      "Feature index: 1099, Non-NA count: 8788\n",
      "Feature index: 1100, Non-NA count: 248\n",
      "Feature index: 1101, Non-NA count: 64718\n",
      "Feature index: 1104, Non-NA count: 25631\n",
      "Feature index: 1107, Non-NA count: 58618\n",
      "Feature index: 1110, Non-NA count: 73183\n",
      "Feature index: 1111, Non-NA count: 47557\n",
      "Feature index: 1112, Non-NA count: 71145\n",
      "Feature index: 1114, Non-NA count: 11288\n",
      "Feature index: 1115, Non-NA count: 59492\n",
      "Feature index: 1116, Non-NA count: 39446\n",
      "Feature index: 1118, Non-NA count: 79476\n",
      "Feature index: 1119, Non-NA count: 36836\n",
      "Feature index: 1120, Non-NA count: 32\n",
      "Feature index: 1121, Non-NA count: 11\n",
      "Feature index: 1125, Non-NA count: 33189\n",
      "Feature index: 1129, Non-NA count: 53121\n",
      "Feature index: 1130, Non-NA count: 1635\n",
      "Feature index: 1131, Non-NA count: 4676\n",
      "Feature index: 1135, Non-NA count: 272\n",
      "Feature index: 1136, Non-NA count: 30907\n",
      "Feature index: 1137, Non-NA count: 23705\n",
      "Feature index: 1142, Non-NA count: 51312\n",
      "Feature index: 1146, Non-NA count: 70183\n",
      "Feature index: 1147, Non-NA count: 274\n",
      "Feature index: 1148, Non-NA count: 14155\n",
      "Feature index: 1150, Non-NA count: 95299\n",
      "Feature index: 1158, Non-NA count: 80500\n",
      "Feature index: 1159, Non-NA count: 13533\n",
      "Feature index: 1163, Non-NA count: 66492\n",
      "Feature index: 1164, Non-NA count: 13591\n",
      "Feature index: 1167, Non-NA count: 12873\n",
      "Feature index: 1172, Non-NA count: 15498\n",
      "Feature index: 1175, Non-NA count: 16041\n",
      "Feature index: 1176, Non-NA count: 9001\n",
      "Feature index: 1177, Non-NA count: 42636\n",
      "Feature index: 1181, Non-NA count: 31158\n",
      "Feature index: 1182, Non-NA count: 14266\n",
      "Feature index: 1188, Non-NA count: 70361\n",
      "Feature index: 1192, Non-NA count: 8461\n",
      "Feature index: 1194, Non-NA count: 15366\n",
      "Feature index: 1198, Non-NA count: 10787\n",
      "Feature index: 1201, Non-NA count: 6311\n",
      "Feature index: 1204, Non-NA count: 72639\n",
      "Feature index: 1206, Non-NA count: 16179\n",
      "Feature index: 1208, Non-NA count: 57520\n",
      "Feature index: 1209, Non-NA count: 50826\n",
      "Feature index: 1210, Non-NA count: 40884\n",
      "Feature index: 1214, Non-NA count: 77076\n",
      "Feature index: 1218, Non-NA count: 30925\n",
      "Feature index: 1225, Non-NA count: 72702\n",
      "Feature index: 1229, Non-NA count: 1783\n",
      "Feature index: 1232, Non-NA count: 12345\n",
      "Feature index: 1235, Non-NA count: 5583\n",
      "Feature index: 1236, Non-NA count: 43572\n",
      "Feature index: 1238, Non-NA count: 3094\n",
      "Feature index: 1240, Non-NA count: 13685\n",
      "Feature index: 1242, Non-NA count: 37177\n",
      "Feature index: 1247, Non-NA count: 8673\n",
      "Feature index: 1248, Non-NA count: 6337\n",
      "Feature index: 1249, Non-NA count: 17606\n",
      "Feature index: 1253, Non-NA count: 59203\n",
      "Feature index: 1256, Non-NA count: 60275\n",
      "Feature index: 1257, Non-NA count: 57751\n",
      "Feature index: 1259, Non-NA count: 60803\n",
      "Feature index: 1262, Non-NA count: 60073\n",
      "Feature index: 1265, Non-NA count: 17051\n",
      "Feature index: 1269, Non-NA count: 21100\n",
      "Feature index: 1270, Non-NA count: 39756\n",
      "Feature index: 1272, Non-NA count: 27298\n",
      "Feature index: 1273, Non-NA count: 19627\n",
      "Feature index: 1275, Non-NA count: 82\n",
      "Feature index: 1278, Non-NA count: 9867\n",
      "Feature index: 1280, Non-NA count: 58009\n",
      "Feature index: 1282, Non-NA count: 29863\n",
      "Feature index: 1284, Non-NA count: 33327\n",
      "Feature index: 1286, Non-NA count: 62062\n",
      "Feature index: 1289, Non-NA count: 21458\n",
      "Feature index: 1291, Non-NA count: 12640\n",
      "Feature index: 1294, Non-NA count: 55567\n",
      "Feature index: 1296, Non-NA count: 29\n",
      "Feature index: 1298, Non-NA count: 50861\n",
      "Feature index: 1300, Non-NA count: 69951\n",
      "Feature index: 1306, Non-NA count: 8918\n",
      "Feature index: 1310, Non-NA count: 35745\n",
      "Feature index: 1312, Non-NA count: 15847\n",
      "Feature index: 1314, Non-NA count: 23848\n",
      "Feature index: 1317, Non-NA count: 33366\n",
      "Feature index: 1321, Non-NA count: 10585\n",
      "Feature index: 1324, Non-NA count: 11236\n",
      "Feature index: 1325, Non-NA count: 41721\n",
      "Feature index: 1326, Non-NA count: 25\n",
      "Feature index: 1328, Non-NA count: 15\n",
      "Feature index: 1329, Non-NA count: 11\n",
      "Feature index: 1330, Non-NA count: 38753\n",
      "Feature index: 1333, Non-NA count: 12364\n",
      "Feature index: 1334, Non-NA count: 792\n",
      "Feature index: 1335, Non-NA count: 46678\n",
      "Feature index: 1339, Non-NA count: 66734\n",
      "Feature index: 1340, Non-NA count: 56012\n",
      "Feature index: 1343, Non-NA count: 33276\n",
      "Feature index: 1344, Non-NA count: 38945\n",
      "Feature index: 1348, Non-NA count: 59625\n",
      "Feature index: 1351, Non-NA count: 60228\n",
      "Feature index: 1354, Non-NA count: 14146\n",
      "Feature index: 1358, Non-NA count: 3515\n",
      "Feature index: 1359, Non-NA count: 74330\n",
      "Feature index: 1364, Non-NA count: 25361\n",
      "Feature index: 1368, Non-NA count: 25979\n",
      "Feature index: 1371, Non-NA count: 54446\n",
      "Feature index: 1372, Non-NA count: 42346\n",
      "Feature index: 1374, Non-NA count: 5892\n",
      "Feature index: 1375, Non-NA count: 81709\n",
      "Feature index: 1376, Non-NA count: 44829\n",
      "Feature index: 1380, Non-NA count: 2357\n",
      "Feature index: 1382, Non-NA count: 12\n",
      "Feature index: 1389, Non-NA count: 14890\n",
      "Feature index: 1391, Non-NA count: 18786\n",
      "Feature index: 1392, Non-NA count: 52214\n",
      "Feature index: 1395, Non-NA count: 39200\n",
      "Feature index: 1396, Non-NA count: 46436\n",
      "Feature index: 1399, Non-NA count: 455\n",
      "Feature index: 1403, Non-NA count: 76164\n",
      "Feature index: 1404, Non-NA count: 25\n",
      "Feature index: 1407, Non-NA count: 42475\n",
      "Feature index: 1410, Non-NA count: 49179\n",
      "Feature index: 1420, Non-NA count: 42324\n",
      "Feature index: 1422, Non-NA count: 23574\n",
      "Feature index: 1423, Non-NA count: 57889\n",
      "Feature index: 1424, Non-NA count: 58012\n",
      "Feature index: 1426, Non-NA count: 5803\n",
      "Feature index: 1428, Non-NA count: 3803\n",
      "Feature index: 1429, Non-NA count: 30591\n",
      "Feature index: 1434, Non-NA count: 25197\n",
      "Feature index: 1436, Non-NA count: 86701\n",
      "Feature index: 1437, Non-NA count: 31066\n",
      "Feature index: 1443, Non-NA count: 57863\n",
      "Feature index: 1446, Non-NA count: 13812\n",
      "Feature index: 1450, Non-NA count: 58842\n",
      "Feature index: 1454, Non-NA count: 51125\n",
      "Feature index: 1459, Non-NA count: 71510\n",
      "Feature index: 1461, Non-NA count: 25373\n",
      "Feature index: 1464, Non-NA count: 27965\n",
      "Feature index: 1465, Non-NA count: 22952\n",
      "Feature index: 1467, Non-NA count: 37944\n",
      "Feature index: 1475, Non-NA count: 24747\n",
      "Feature index: 1477, Non-NA count: 1808\n",
      "Feature index: 1478, Non-NA count: 131\n",
      "Feature index: 1479, Non-NA count: 50210\n",
      "Feature index: 1483, Non-NA count: 7945\n",
      "Feature index: 1486, Non-NA count: 163\n",
      "Feature index: 1487, Non-NA count: 61578\n",
      "Feature index: 1488, Non-NA count: 51395\n",
      "Feature index: 1489, Non-NA count: 19\n",
      "Feature index: 1490, Non-NA count: 64288\n",
      "Feature index: 1491, Non-NA count: 12385\n",
      "Feature index: 1493, Non-NA count: 38136\n",
      "Feature index: 1496, Non-NA count: 44685\n",
      "Feature index: 1497, Non-NA count: 25284\n",
      "Feature index: 1500, Non-NA count: 9143\n",
      "Feature index: 1501, Non-NA count: 38\n",
      "Feature index: 1502, Non-NA count: 27228\n",
      "Feature index: 1503, Non-NA count: 37810\n",
      "Feature index: 1506, Non-NA count: 35068\n",
      "Feature index: 1508, Non-NA count: 9311\n",
      "Feature index: 1512, Non-NA count: 63089\n",
      "Feature index: 1522, Non-NA count: 23166\n",
      "Feature index: 1523, Non-NA count: 83904\n",
      "Feature index: 1524, Non-NA count: 3427\n",
      "Feature index: 1525, Non-NA count: 36477\n",
      "Feature index: 1534, Non-NA count: 66\n",
      "Feature index: 1535, Non-NA count: 681\n",
      "Feature index: 1537, Non-NA count: 34900\n",
      "Feature index: 1542, Non-NA count: 22109\n",
      "Feature index: 1545, Non-NA count: 73827\n",
      "Feature index: 1547, Non-NA count: 52330\n",
      "Feature index: 1548, Non-NA count: 20100\n",
      "Feature index: 1549, Non-NA count: 19270\n",
      "Feature index: 1550, Non-NA count: 16287\n",
      "Feature index: 1551, Non-NA count: 3636\n",
      "Feature index: 1552, Non-NA count: 14258\n",
      "Feature index: 1554, Non-NA count: 22585\n",
      "Feature index: 1558, Non-NA count: 59417\n",
      "Feature index: 1559, Non-NA count: 64318\n",
      "Feature index: 1564, Non-NA count: 67699\n",
      "Feature index: 1567, Non-NA count: 69866\n",
      "Feature index: 1568, Non-NA count: 65625\n",
      "Feature index: 1569, Non-NA count: 66739\n",
      "Feature index: 1570, Non-NA count: 46451\n",
      "Feature index: 1576, Non-NA count: 58235\n",
      "Feature index: 1577, Non-NA count: 31520\n",
      "Feature index: 1582, Non-NA count: 76521\n",
      "Feature index: 1584, Non-NA count: 3426\n",
      "Feature index: 1585, Non-NA count: 11\n",
      "Feature index: 1586, Non-NA count: 389\n",
      "Feature index: 1588, Non-NA count: 4805\n",
      "Feature index: 1592, Non-NA count: 62767\n",
      "Feature index: 1594, Non-NA count: 60565\n",
      "Feature index: 1596, Non-NA count: 37695\n",
      "Feature index: 1598, Non-NA count: 63884\n",
      "Feature index: 1600, Non-NA count: 15055\n",
      "Feature index: 1607, Non-NA count: 12167\n",
      "Feature index: 1610, Non-NA count: 78943\n",
      "Feature index: 1613, Non-NA count: 60659\n",
      "Feature index: 1616, Non-NA count: 57579\n",
      "Feature index: 1618, Non-NA count: 66936\n",
      "Feature index: 1620, Non-NA count: 17179\n",
      "Feature index: 1627, Non-NA count: 52874\n",
      "Feature index: 1628, Non-NA count: 28168\n",
      "Feature index: 1630, Non-NA count: 85\n",
      "Feature index: 1634, Non-NA count: 72167\n",
      "Feature index: 1637, Non-NA count: 15114\n",
      "Feature index: 1638, Non-NA count: 25\n",
      "Feature index: 1640, Non-NA count: 7301\n",
      "Feature index: 1641, Non-NA count: 30816\n",
      "Feature index: 1642, Non-NA count: 21706\n",
      "Feature index: 1644, Non-NA count: 28293\n",
      "Feature index: 1645, Non-NA count: 68655\n",
      "Feature index: 1646, Non-NA count: 29418\n",
      "Feature index: 1647, Non-NA count: 80183\n",
      "Feature index: 1648, Non-NA count: 52225\n",
      "Feature index: 1650, Non-NA count: 31903\n",
      "Feature index: 1653, Non-NA count: 32596\n",
      "Feature index: 1655, Non-NA count: 61539\n",
      "Feature index: 1657, Non-NA count: 35652\n",
      "Feature index: 1659, Non-NA count: 59578\n",
      "Feature index: 1661, Non-NA count: 44018\n",
      "Feature index: 1663, Non-NA count: 40493\n",
      "Feature index: 1664, Non-NA count: 46104\n",
      "Feature index: 1665, Non-NA count: 14833\n",
      "Feature index: 1671, Non-NA count: 3574\n",
      "Feature index: 1676, Non-NA count: 7401\n",
      "Feature index: 1683, Non-NA count: 59848\n",
      "Feature index: 1686, Non-NA count: 56004\n",
      "Feature index: 1689, Non-NA count: 4511\n",
      "Feature index: 1690, Non-NA count: 64351\n",
      "Feature index: 1691, Non-NA count: 23952\n",
      "Feature index: 1692, Non-NA count: 43156\n",
      "Feature index: 1693, Non-NA count: 39667\n",
      "Feature index: 1695, Non-NA count: 15\n",
      "Feature index: 1696, Non-NA count: 66863\n",
      "Feature index: 1702, Non-NA count: 52024\n",
      "Feature index: 1704, Non-NA count: 53977\n",
      "Feature index: 1705, Non-NA count: 25162\n",
      "Feature index: 1711, Non-NA count: 4873\n",
      "Feature index: 1712, Non-NA count: 78708\n",
      "Feature index: 1713, Non-NA count: 58597\n",
      "Feature index: 1715, Non-NA count: 28461\n",
      "Feature index: 1717, Non-NA count: 2401\n",
      "Feature index: 1718, Non-NA count: 32962\n",
      "Feature index: 1720, Non-NA count: 86405\n",
      "Feature index: 1723, Non-NA count: 30716\n",
      "Feature index: 1724, Non-NA count: 4112\n",
      "Feature index: 1731, Non-NA count: 61597\n",
      "Feature index: 1732, Non-NA count: 52779\n",
      "Feature index: 1735, Non-NA count: 1590\n",
      "Feature index: 1737, Non-NA count: 21929\n",
      "Feature index: 1741, Non-NA count: 16538\n",
      "Feature index: 1744, Non-NA count: 7686\n",
      "Feature index: 1745, Non-NA count: 68174\n",
      "Feature index: 1749, Non-NA count: 4272\n",
      "Feature index: 1752, Non-NA count: 47196\n",
      "Feature index: 1753, Non-NA count: 59517\n",
      "Feature index: 1756, Non-NA count: 11\n",
      "Feature index: 1757, Non-NA count: 27275\n",
      "Feature index: 1758, Non-NA count: 68631\n",
      "Feature index: 1759, Non-NA count: 60169\n",
      "Feature index: 1760, Non-NA count: 13410\n",
      "Feature index: 1763, Non-NA count: 62730\n",
      "Feature index: 1764, Non-NA count: 37119\n",
      "Feature index: 1770, Non-NA count: 76234\n",
      "Feature index: 1771, Non-NA count: 89099\n",
      "Feature index: 1776, Non-NA count: 45926\n",
      "Feature index: 1778, Non-NA count: 81438\n",
      "Feature index: 1779, Non-NA count: 12328\n",
      "Feature index: 1782, Non-NA count: 82376\n",
      "Feature index: 1787, Non-NA count: 4595\n",
      "Feature index: 1788, Non-NA count: 15541\n",
      "Feature index: 1789, Non-NA count: 79011\n",
      "Feature index: 1790, Non-NA count: 66055\n",
      "Feature index: 1794, Non-NA count: 2124\n",
      "Feature index: 1797, Non-NA count: 50064\n",
      "Feature index: 1799, Non-NA count: 66879\n",
      "Feature index: 1800, Non-NA count: 36933\n",
      "Feature index: 1801, Non-NA count: 32016\n",
      "Feature index: 1805, Non-NA count: 40368\n",
      "Feature index: 1809, Non-NA count: 11904\n",
      "Feature index: 1811, Non-NA count: 31713\n",
      "Feature index: 1817, Non-NA count: 1181\n",
      "Feature index: 1820, Non-NA count: 61488\n",
      "Feature index: 1824, Non-NA count: 59979\n",
      "Feature index: 1827, Non-NA count: 13208\n",
      "Feature index: 1831, Non-NA count: 53357\n",
      "Feature index: 1833, Non-NA count: 39799\n",
      "Feature index: 1836, Non-NA count: 65078\n",
      "Feature index: 1837, Non-NA count: 16912\n",
      "Feature index: 1844, Non-NA count: 45449\n",
      "Feature index: 1848, Non-NA count: 3105\n",
      "Feature index: 1849, Non-NA count: 69667\n",
      "Feature index: 1851, Non-NA count: 52380\n",
      "Feature index: 1853, Non-NA count: 56019\n",
      "Feature index: 1858, Non-NA count: 13151\n",
      "Feature index: 1860, Non-NA count: 55282\n",
      "Feature index: 1861, Non-NA count: 884\n",
      "Feature index: 1866, Non-NA count: 65175\n",
      "Feature index: 1870, Non-NA count: 80138\n",
      "Feature index: 1873, Non-NA count: 45658\n",
      "Feature index: 1874, Non-NA count: 41147\n",
      "Feature index: 1875, Non-NA count: 463\n",
      "Feature index: 1876, Non-NA count: 49353\n",
      "Feature index: 1878, Non-NA count: 30123\n",
      "Feature index: 1879, Non-NA count: 21212\n",
      "Feature index: 1881, Non-NA count: 3331\n",
      "Feature index: 1882, Non-NA count: 39409\n",
      "Feature index: 1886, Non-NA count: 16336\n",
      "Feature index: 1889, Non-NA count: 74391\n",
      "Feature index: 1892, Non-NA count: 27698\n",
      "Feature index: 1896, Non-NA count: 46674\n",
      "Feature index: 1898, Non-NA count: 12\n",
      "Feature index: 1900, Non-NA count: 18247\n",
      "Feature index: 1905, Non-NA count: 3943\n",
      "Feature index: 1915, Non-NA count: 52536\n",
      "Feature index: 1917, Non-NA count: 51131\n",
      "Feature index: 1918, Non-NA count: 27\n",
      "Feature index: 1919, Non-NA count: 62465\n",
      "Feature index: 1921, Non-NA count: 61149\n",
      "Feature index: 1925, Non-NA count: 51830\n",
      "Feature index: 1926, Non-NA count: 80407\n",
      "Feature index: 1927, Non-NA count: 22359\n",
      "Feature index: 1929, Non-NA count: 58\n",
      "Feature index: 1931, Non-NA count: 67966\n",
      "Feature index: 1932, Non-NA count: 45282\n",
      "Feature index: 1935, Non-NA count: 8353\n",
      "Feature index: 1936, Non-NA count: 8524\n",
      "Feature index: 1937, Non-NA count: 290\n",
      "Feature index: 1940, Non-NA count: 42689\n",
      "Feature index: 1941, Non-NA count: 67534\n",
      "Feature index: 1945, Non-NA count: 6988\n",
      "Feature index: 1947, Non-NA count: 2356\n",
      "Feature index: 1949, Non-NA count: 2055\n",
      "Feature index: 1951, Non-NA count: 43409\n",
      "Feature index: 1960, Non-NA count: 6026\n",
      "Feature index: 1966, Non-NA count: 70470\n",
      "Feature index: 1967, Non-NA count: 36252\n",
      "Feature index: 1970, Non-NA count: 3588\n",
      "Feature index: 1972, Non-NA count: 28\n",
      "Feature index: 1973, Non-NA count: 21940\n",
      "Feature index: 1974, Non-NA count: 28866\n",
      "Feature index: 1978, Non-NA count: 42397\n",
      "Feature index: 1981, Non-NA count: 55093\n",
      "Feature index: 1982, Non-NA count: 1153\n",
      "Feature index: 1983, Non-NA count: 15282\n",
      "Feature index: 1986, Non-NA count: 54777\n",
      "Feature index: 1987, Non-NA count: 21414\n",
      "Feature index: 1988, Non-NA count: 73158\n",
      "Feature index: 1994, Non-NA count: 14441\n",
      "Feature index: 1996, Non-NA count: 942\n",
      "Feature index: 1999, Non-NA count: 57209\n",
      "Feature index: 2000, Non-NA count: 8896\n",
      "Feature index: 2001, Non-NA count: 26798\n",
      "Feature index: 2003, Non-NA count: 651\n",
      "Feature index: 2004, Non-NA count: 53421\n",
      "Feature index: 2006, Non-NA count: 24773\n",
      "Feature index: 2010, Non-NA count: 53843\n",
      "Feature index: 2011, Non-NA count: 64490\n",
      "Feature index: 2012, Non-NA count: 56609\n",
      "Feature index: 2016, Non-NA count: 5149\n",
      "Feature index: 2018, Non-NA count: 42399\n",
      "Feature index: 2019, Non-NA count: 20278\n",
      "Feature index: 2024, Non-NA count: 360\n",
      "Feature index: 2025, Non-NA count: 5905\n",
      "Feature index: 2028, Non-NA count: 50554\n",
      "Feature index: 2029, Non-NA count: 70176\n",
      "Feature index: 2030, Non-NA count: 24399\n",
      "Feature index: 2034, Non-NA count: 29531\n",
      "Feature index: 2037, Non-NA count: 62180\n",
      "Feature index: 2038, Non-NA count: 4291\n",
      "Feature index: 2039, Non-NA count: 58990\n",
      "Feature index: 2040, Non-NA count: 61815\n",
      "Feature index: 2043, Non-NA count: 30999\n",
      "Feature index: 2044, Non-NA count: 28\n",
      "Number of features with more than 50 non-NA values: 781\n"
     ]
    }
   ],
   "source": [
    "count_features_with_non_na = 0\n",
    "\n",
    "for feature_idx in range(2048):\n",
    "    # print(f\"Processing feature index: {feature_idx}\")\n",
    "    try:\n",
    "        # Check the number of non-NA values in the feature column\n",
    "        non_na_count = better_acts[f\"feature_{feature_idx}\"].notna().sum()\n",
    "        \n",
    "        if non_na_count > 10:\n",
    "            print(f\"Feature index: {feature_idx}, Non-NA count: {non_na_count}\")\n",
    "            count_features_with_non_na += 1\n",
    "        \n",
    "    except Exception as e:\n",
    "        # print(\"Skipping feature \", feature_idx)\n",
    "        continue\n",
    "\n",
    "print(f\"Number of features with more than 50 non-NA values: {count_features_with_non_na}\")\n"
   ]
  },
  {
   "cell_type": "code",
   "execution_count": 43,
   "metadata": {},
   "outputs": [
    {
     "data": {
      "text/plain": [
       "22440"
      ]
     },
     "execution_count": 43,
     "metadata": {},
     "output_type": "execute_result"
    }
   ],
   "source": [
    "30*748"
   ]
  },
  {
   "cell_type": "code",
   "execution_count": 44,
   "metadata": {},
   "outputs": [
    {
     "data": {
      "text/plain": [
       "6.233333333333333"
      ]
     },
     "execution_count": 44,
     "metadata": {},
     "output_type": "execute_result"
    }
   ],
   "source": [
    "0.5*748/60"
   ]
  },
  {
   "cell_type": "code",
   "execution_count": null,
   "metadata": {},
   "outputs": [],
   "source": [
    "# check if a file name exists in a folder\n",
    "import os\n",
    "os.path.exists(\"sae_analysis/out/env_imgs/seed0_step0_timestep0_actionInput.png\")\n"
   ]
  },
  {
   "cell_type": "code",
   "execution_count": 21,
   "metadata": {},
   "outputs": [
    {
     "name": "stderr",
     "output_type": "stream",
     "text": [
      "/tmp/ipykernel_1933799/1231549832.py:7: FutureWarning: You are using `torch.load` with `weights_only=False` (the current default value), which uses the default pickle module implicitly. It is possible to construct malicious pickle data which will execute arbitrary code during unpickling (See https://github.com/pytorch/pytorch/blob/main/SECURITY.md#untrusted-models for more details). In a future release, the default value for `weights_only` will be flipped to `True`. This limits the functions that could be executed during unpickling. Arbitrary objects will no longer be allowed to be loaded via this mode unless they are explicitly allowlisted by the user via `torch.serialization.add_safe_globals`. We recommend you start setting `weights_only=True` for any use case where you don't have full control of the loaded file. Please open an issue on GitHub for any issues related to this experimental feature.\n",
      "  inf_inputs = torch.load(f\"data/inference_inputs_seed_{int(seed)}.pt\")\n"
     ]
    },
    {
     "name": "stdout",
     "output_type": "stream",
     "text": [
      "Seed: 27242, Step: 112, Timestep: 3\n",
      "Theta_tc: 4.292908334280913, d_tc: 5.892085507583355, ClosestK: 5 \n",
      " Delta_theta_act_in: 228.07397729338925 Delta_dist_act_out: 8.524491558907302 \n",
      " Delta_dist_act_in: 4.612924313909092 Delta_dist_act_out: 8.524491558907302 \n",
      " d_act_curr_in: 12.104566669028511 d_act_curr_out: 12.180254695448014 \n",
      " d_act_target_in: 15.469839999955132 d_act_target_out: 15.67071618704117\n"
     ]
    },
    {
     "name": "stderr",
     "output_type": "stream",
     "text": [
      "/work/pi_hzhang2_umass_edu/jnainani_umass_edu/diffusion_policy_interp/diffusion_policy/env/pusht/pymunk_keypoint_manager.py:37: MatplotlibDeprecationWarning: The get_cmap function was deprecated in Matplotlib 3.7 and will be removed two minor releases later. Use ``matplotlib.colormaps[name]`` or ``matplotlib.colormaps.get_cmap(obj)`` instead.\n",
      "  cmap = cm.get_cmap('tab10')\n"
     ]
    },
    {
     "name": "stdout",
     "output_type": "stream",
     "text": [
      "\n",
      "\n",
      "Seed: 30449, Step: 160, Timestep: 1\n",
      "Theta_tc: -2.9033618997715966, d_tc: 6.343284254644151, ClosestK: 2 \n",
      " Delta_theta_act_in: 2.857662356274125 Delta_dist_act_out: 7.796555249261298 \n",
      " Delta_dist_act_in: 8.82078920555269 Delta_dist_act_out: 7.796555249261298 \n",
      " d_act_curr_in: 13.831234245375066 d_act_curr_out: 13.755010382304548 \n",
      " d_act_target_in: 16.247847524461836 d_act_target_out: 15.868393522531587\n",
      "\n",
      "\n",
      "Seed: 30449, Step: 160, Timestep: 0\n",
      "Theta_tc: -2.9033618997715966, d_tc: 6.343284254644151, ClosestK: 2 \n",
      " Delta_theta_act_in: -73.89350802642849 Delta_dist_act_out: 6.8138331835571355 \n",
      " Delta_dist_act_in: 7.796555249261298 Delta_dist_act_out: 6.8138331835571355 \n",
      " d_act_curr_in: 13.755010382304548 d_act_curr_out: 13.503240927422599 \n",
      " d_act_target_in: 15.868393522531587 d_act_target_out: 15.520998375859582\n",
      "\n",
      "\n",
      "Seed: 27242, Step: 112, Timestep: 6\n",
      "Theta_tc: 4.292908334280913, d_tc: 5.892085507583355, ClosestK: 5 \n",
      " Delta_theta_act_in: -37.0210391506273 Delta_dist_act_out: 8.009703604550946 \n",
      " Delta_dist_act_in: 3.7091172114748474 Delta_dist_act_out: 8.009703604550946 \n",
      " d_act_curr_in: 10.340604738909029 d_act_curr_out: 11.074008723963415 \n",
      " d_act_target_in: 14.384016292012882 d_act_target_out: 15.056624229773144\n",
      "\n",
      "\n",
      "Seed: 30449, Step: 160, Timestep: 5\n",
      "Theta_tc: -2.9033618997715966, d_tc: 6.343284254644151, ClosestK: 2 \n",
      " Delta_theta_act_in: 20.106273746576655 Delta_dist_act_out: 12.08502802678232 \n",
      " Delta_dist_act_in: 6.484109555375557 Delta_dist_act_out: 12.08502802678232 \n",
      " d_act_curr_in: 14.539152801693138 d_act_curr_out: 13.843240651442585 \n",
      " d_act_target_in: 16.887147508851697 d_act_target_out: 16.43755218360552\n",
      "\n",
      "\n"
     ]
    }
   ],
   "source": [
    "f922_30 = better_acts.sort_values(\n",
    "    f\"feature_{feature_idx}\", ascending=False\n",
    ")[['seed','step_idx','timestep', f'feature_{feature_idx}']].head(5)\n",
    "for idx, row in f922_30.iterrows():\n",
    "    seed, step, timestep, _ = row.values\n",
    "    seed, step, timestep = int(seed), int(step), int(timestep)\n",
    "    inf_inputs = torch.load(f\"data/inference_inputs_seed_{int(seed)}.pt\")\n",
    "    time_ind = 99 - int(timestep)\n",
    "    obs = torch.Tensor(inf_inputs[int(step)][time_ind]['cond_input'])\n",
    "    action_in = torch.Tensor(inf_inputs[int(step)][time_ind]['trajectory_input'])\n",
    "    action_out = torch.Tensor(inf_inputs[int(step)][time_ind]['trajectory_output'])\n",
    "    obs_norm1 = policy.normalizer['obs'].unnormalize(obs)[0][0]\n",
    "    obs_norm2 = policy.normalizer['obs'].unnormalize(obs)[0][1]\n",
    "    inp_action = np.array(policy.normalizer['action'].unnormalize(action_in)[0].detach().cpu()) / 512 * 96\n",
    "    out_action = np.array(policy.normalizer['action'].unnormalize(action_out)[0].detach().cpu()) / 512 * 96\n",
    "    points1 = np.array(obs_norm1.detach().cpu()).reshape(-1, 2)  / 512 * 96\n",
    "    points2 = np.array(obs_norm2.detach().cpu()).reshape(-1, 2)  / 512 * 96\n",
    "    print(f\"Seed: {seed}, Step: {step}, Timestep: {timestep}\")\n",
    "    # print(theta_tc(points1))\n",
    "    _, theta_tc_deg, _, theta_c_deg = theta_tc(points2)\n",
    "    # print(dist_tc(points1))\n",
    "    d_tc = dist_tc(points2)\n",
    "    ClosestK = Ka(points2)\n",
    "    # print(Ka(points2))\n",
    "    _, _, _, Delta_theta_act_in = theta_action(inp_action)\n",
    "    _, _, _, Delta_theta_act_out = theta_action(out_action)\n",
    "    Delta_dist_act_in = dist_action(inp_action)\n",
    "    Delta_dist_act_out = dist_action(out_action)\n",
    "    # print(dist_action_mid(inp_action, points1))\n",
    "    d_act_curr_in = dist_action_mid(inp_action, points2)\n",
    "    d_act_curr_out = dist_action_mid(out_action, points2)\n",
    "    d_act_target_in = dist_action_target(inp_action)\n",
    "    d_act_target_out = dist_action_target(out_action)\n",
    "    print(f\"Theta_tc: {theta_tc_deg}, d_tc: {d_tc}, ClosestK: {ClosestK} \\n Delta_theta_act_in: {Delta_theta_act_in} Delta_dist_act_out: {Delta_dist_act_out} \\n Delta_dist_act_in: {Delta_dist_act_in} Delta_dist_act_out: {Delta_dist_act_out} \\n d_act_curr_in: {d_act_curr_in} d_act_curr_out: {d_act_curr_out} \\n d_act_target_in: {d_act_target_in} d_act_target_out: {d_act_target_out}\")\n",
    "    get_image_from_obs(points2, inp_action, seed, step, timestep, action_mode=\"Input\")\n",
    "    get_image_from_obs(points2, out_action, seed, step, timestep, action_mode=\"Output\")\n",
    "    print(\"\\n\")"
   ]
  },
  {
   "cell_type": "code",
   "execution_count": null,
   "metadata": {},
   "outputs": [],
   "source": []
  },
  {
   "cell_type": "code",
   "execution_count": 96,
   "metadata": {},
   "outputs": [
    {
     "name": "stderr",
     "output_type": "stream",
     "text": [
      "/tmp/ipykernel_1886101/799738041.py:9: FutureWarning: You are using `torch.load` with `weights_only=False` (the current default value), which uses the default pickle module implicitly. It is possible to construct malicious pickle data which will execute arbitrary code during unpickling (See https://github.com/pytorch/pytorch/blob/main/SECURITY.md#untrusted-models for more details). In a future release, the default value for `weights_only` will be flipped to `True`. This limits the functions that could be executed during unpickling. Arbitrary objects will no longer be allowed to be loaded via this mode unless they are explicitly allowlisted by the user via `torch.serialization.add_safe_globals`. We recommend you start setting `weights_only=True` for any use case where you don't have full control of the loaded file. Please open an issue on GitHub for any issues related to this experimental feature.\n",
      "  inf_inputs = torch.load(f\"data/inference_inputs_seed_{int(seed)}.pt\")\n"
     ]
    },
    {
     "name": "stdout",
     "output_type": "stream",
     "text": [
      "0.8350756\n"
     ]
    },
    {
     "data": {
      "image/png": "[encoded data removed]",
      "text/plain": [
       "<Figure size 640x480 with 1 Axes>"
      ]
     },
     "metadata": {},
     "output_type": "display_data"
    }
   ],
   "source": [
    "import torch\n",
    "import matplotlib.pyplot as plt\n",
    "import numpy as np\n",
    "\n",
    "# Example inputs\n",
    "\n",
    "for idx, row in f922_30.iterrows():\n",
    "    seed, step, timestep, _ = row.values\n",
    "    inf_inputs = torch.load(f\"data/inference_inputs_seed_{int(seed)}.pt\")\n",
    "    time_ind = 99 - int(timestep)\n",
    "    obs = torch.Tensor(inf_inputs[int(step)][time_ind]['cond_input'])\n",
    "    action_in = torch.Tensor(inf_inputs[int(step)][time_ind]['trajectory_input'])\n",
    "    action_out = torch.Tensor(inf_inputs[int(step)][time_ind]['trajectory_output'])\n",
    "    break\n",
    "obs = policy.normalizer['obs'].unnormalize(obs)[0][0]  # torch.Size([1, 2, 20])\n",
    "\n",
    "# Extract the points in (x, y) format\n",
    "# Reshape the last dimension into 10 pairs of (x, y)\n",
    "points = np.array(obs.detach().cpu()).reshape(-1, 2)\n",
    "\n",
    "# Rescale points from [0, 512] to [0, 96]\n",
    "points = points / 512 * 96\n",
    "target_action_norm = np.array(policy.normalizer['action'].unnormalize(action_in)[0].detach().cpu()) / 512 * 96\n",
    "# Center of the image\n",
    "center_x, center_y = 96 / 2, 96 / 2\n",
    "\n",
    "# Distance and angle\n",
    "d_i = 30\n",
    "angle = (5 * np.pi) / 4  # 45 degrees\n",
    "\n",
    "# Endpoint of the line\n",
    "end_x = center_x + d_i * np.cos(angle)\n",
    "end_y = center_y - d_i * np.sin(angle)  # Subtract because y-coordinates increase downwards in images\n",
    "\n",
    "_, theta_tc_deg, theta_c_rad, theta_c_deg = theta_tc(points)\n",
    "print(theta_c_rad)\n",
    "\n",
    "points_to_average = [\n",
    "    points[8], points[1] #, points[2]\n",
    "]\n",
    "\n",
    "# Convert to a NumPy array for easy computation\n",
    "points_array = np.array(points_to_average)\n",
    "\n",
    "# Compute the average\n",
    "average_point = np.mean(points_array, axis=0)\n",
    "\n",
    "end_x_curr = average_point[0] + d_i * np.cos(theta_c_rad + np.pi)\n",
    "end_y_curr = average_point[1] - d_i * np.sin(theta_c_rad + np.pi)  # Subtract because y-coordinates increase downwards in images\n",
    "\n",
    "\n",
    "\n",
    "\n",
    "env = PushTKeypointsEnv()\n",
    "# env.reset()\n",
    "canvas = pygame.Surface((env.window_size, env.window_size))\n",
    "canvas.fill((255, 255, 255))\n",
    "env.screen = canvas\n",
    "draw_options = DrawOptions(canvas)\n",
    "\n",
    "# Draw goal pose.\n",
    "env.space = pymunk.Space()\n",
    "goal_body = env._get_goal_pose_body(np.array([256,256,np.pi/4]))\n",
    "env.goal_color = pygame.Color('LightGreen')\n",
    "block_temp = env.add_tee((256, 300), 0) #(average_point[0] / 96 * 512, average_point[1] / 96 * 512), theta_c_rad ) #+ np.pi)\n",
    "for shape in block_temp.shapes:\n",
    "    goal_points = [pymunk.pygame_util.to_pygame(goal_body.local_to_world(v), draw_options.surface) for v in shape.get_vertices()]\n",
    "    goal_points += [goal_points[0]]\n",
    "    pygame.draw.polygon(canvas, env.goal_color, goal_points)\n",
    "\n",
    "# env.space.debug_draw (draw_options)\n",
    "img = np.transpose(\n",
    "                np.array(pygame.surfarray.pixels3d(canvas)), axes=(1, 0, 2)\n",
    "            )\n",
    "img = cv2.resize(img, (env.render_size, env.render_size))\n",
    "img = Image.fromarray(img)\n",
    "# display(img)\n",
    "\n",
    "# Plot the image\n",
    "image = img  # (96, 96, 3)\n",
    "plt.imshow(image)\n",
    "plt.axis('off')\n",
    "\n",
    "# Overlay the points and annotate them\n",
    "for idx, (x, y) in enumerate(points):\n",
    "    plt.scatter(x, y, c='red', label=f'Point {idx}' if idx == 0 else None)  # Points now match image size\n",
    "    plt.text(x, y, f'{idx}', fontsize=9, color='blue')\n",
    "\n",
    "# for idx, (x, y) in enumerate(target_action_norm):\n",
    "#     plt.scatter(x, y, c='yellow', label=f'Point {idx}' if idx == 0 else None)  # Points now match image size\n",
    "#     plt.text(x, y, f'{idx}', fontsize=9, color='red')\n",
    "\n",
    "# Plot arrows for the action trajectory\n",
    "# for i in range(len(target_action_norm) - 1):\n",
    "#     start_x_act, start_y_act = target_action_norm[i]\n",
    "#     end_x_act, end_y_act = target_action_norm[i + 1]\n",
    "#     dx = end_x_act - start_x_act\n",
    "#     dy = end_y_act - start_y_act\n",
    "#     plt.quiver(start_x_act, start_y_act, dx, dy, angles='xy', scale_units='xy', scale=1, color='purple')\n",
    "\n",
    "top_left = points[1]     # Left side of the base\n",
    "top_right = points[2]    # Right side of the base\n",
    "center_top = points[4]   # Top of the T (center vertical bar)\n",
    "mid_point = average_point    # Middle connecting point\n",
    "\n",
    "# Draw the base of the T (horizontal line)\n",
    "plt.plot([top_left[0], top_right[0]], [top_left[1], top_right[1]], c='grey', linewidth=2)\n",
    "\n",
    "# Draw the vertical bar of the T\n",
    "plt.plot([mid_point[0], center_top[0]], [mid_point[1], center_top[1]], c='grey', linewidth=2)\n",
    "\n",
    "# Plot the center of the T\n",
    "# plt.scatter(mid_point[0], mid_point[1], c='purple', label='Center', s=100)\n",
    "\n",
    "\n",
    "# Plot the center of the image\n",
    "plt.scatter(center_x, center_y, c='green', label='Center')  # Center of the image\n",
    "# plt.scatter(256/512*96, 300/512*96, c='grey', label='Center')  # Center of the image\n",
    "\n",
    "# Plot the average point\n",
    "# plt.scatter(average_point[0], average_point[1], c='orange', label='Average Point')\n",
    "# plt.scatter(1, 1, c='yellow', label='Action')  # Center of the image\n",
    "\n",
    "# Draw the line\n",
    "# plt.plot([center_x, end_x], [center_y, end_y], c='purple', label=f'Line d_i={d_i}, angle=pi/4')\n",
    "# plt.plot([average_point[0], end_x_curr], [average_point[1], end_y_curr], c='blue', label=f'Line d_i={d_i}, angle=pi/4')\n",
    "plt.legend(loc='upper left')\n",
    "plt.title(\"Points and Line Overlay on Image\")\n",
    "plt.show()"
   ]
  },
  {
   "cell_type": "code",
   "execution_count": null,
   "metadata": {},
   "outputs": [],
   "source": []
  },
  {
   "cell_type": "code",
   "execution_count": 60,
   "metadata": {},
   "outputs": [
    {
     "data": {
      "text/plain": [
       "3.9269908169872414"
      ]
     },
     "execution_count": 60,
     "metadata": {},
     "output_type": "execute_result"
    }
   ],
   "source": [
    "(5 * np.pi) / 4"
   ]
  },
  {
   "cell_type": "code",
   "execution_count": 55,
   "metadata": {},
   "outputs": [
    {
     "data": {
      "text/plain": [
       "(261.30478922526044, 268.466796875)"
      ]
     },
     "execution_count": 55,
     "metadata": {},
     "output_type": "execute_result"
    }
   ],
   "source": [
    "average_point[0] / 96 * 512, average_point[1] / 96 * 512"
   ]
  },
  {
   "cell_type": "code",
   "execution_count": 51,
   "metadata": {},
   "outputs": [
    {
     "data": {
      "text/plain": [
       "(array([51.139698, 52.359108], dtype=float32),\n",
       " array([39.729767, 41.35932 ], dtype=float32),\n",
       " array([56.114487, 57.294136], dtype=float32))"
      ]
     },
     "execution_count": 51,
     "metadata": {},
     "output_type": "execute_result"
    }
   ],
   "source": [
    "points[8], points[1], points[2]\n",
    "# avg of the above points \n"
   ]
  },
  {
   "cell_type": "code",
   "execution_count": 52,
   "metadata": {},
   "outputs": [
    {
     "name": "stdout",
     "output_type": "stream",
     "text": [
      "Average Point: [48.994648 50.337524]\n"
     ]
    }
   ],
   "source": [
    "points_to_average = [\n",
    "    points[8], points[1], points[2]\n",
    "]\n",
    "\n",
    "# Convert to a NumPy array for easy computation\n",
    "points_array = np.array(points_to_average)\n",
    "\n",
    "# Compute the average\n",
    "average_point = np.mean(points_array, axis=0)\n",
    "\n",
    "print(\"Average Point:\", average_point)"
   ]
  }
 ],
 "metadata": {
  "kernelspec": {
   "display_name": "Python 3",
   "language": "python",
   "name": "python3"
  },
  "language_info": {
   "codemirror_mode": {
    "name": "ipython",
    "version": 3
   },
   "file_extension": ".py",
   "mimetype": "text/x-python",
   "name": "python",
   "nbconvert_exporter": "python",
   "pygments_lexer": "ipython3",
   "version": "3.10.4"
  }
 },
 "nbformat": 4,
 "nbformat_minor": 2
}
